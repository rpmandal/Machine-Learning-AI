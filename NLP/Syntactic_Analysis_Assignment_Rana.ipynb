{
 "cells": [
  {
   "cell_type": "markdown",
   "metadata": {},
   "source": [
    "## HMMs and Viterbi algorithm for POS tagging\n"
   ]
  },
  {
   "cell_type": "markdown",
   "metadata": {},
   "source": [
    "* In this assignment, you need to modify the Viterbi algorithm to solve the problem of unknown words using at least two techniques. Though there could be multiple ways to solve this problem, you may use the following hints:\n",
    "\n",
    "* Which tag class do you think most unknown words belong to? Can you identify rules (e.g. based on morphological cues) that can be used to tag unknown words? You may define separate python functions to exploit these rules so that they work in tandem with the original Viterbi algorithm.\n",
    "Why does the Viterbi algorithm choose a random tag on encountering an unknown word? Can you modify the Viterbi algorithm so that it considers only one of the transition or emission probabilities for unknown words?\n",
    " \n",
    "\n",
    "* You have been given a 'test' file below containing some sample sentences with unknown words. Look at the sentences and try to observe rules which may be useful to tag unknown words. Your final model will be evaluated on a similar test file."
   ]
  },
  {
   "cell_type": "markdown",
   "metadata": {},
   "source": [
    "#### Data Preparation"
   ]
  },
  {
   "cell_type": "code",
   "execution_count": 48,
   "metadata": {},
   "outputs": [],
   "source": [
    "#Importing required libraries\n",
    "import numpy as np\n",
    "import pandas as pd\n",
    "import seaborn as sns\n",
    "import matplotlib.pyplot as plt\n",
    "import re, nltk,time,pprint,random, requests\n",
    "from collections import Counter\n",
    "from nltk.tokenize import word_tokenize\n",
    "from sklearn.model_selection import train_test_split\n"
   ]
  },
  {
   "cell_type": "code",
   "execution_count": 50,
   "metadata": {},
   "outputs": [
    {
     "name": "stderr",
     "output_type": "stream",
     "text": [
      "[nltk_data] Downloading package treebank to\n",
      "[nltk_data]     C:\\Users\\home\\AppData\\Roaming\\nltk_data...\n",
      "[nltk_data]   Package treebank is already up-to-date!\n",
      "[nltk_data] Downloading package universal_tagset to\n",
      "[nltk_data]     C:\\Users\\home\\AppData\\Roaming\\nltk_data...\n",
      "[nltk_data]   Package universal_tagset is already up-to-date!\n"
     ]
    },
    {
     "data": {
      "text/plain": [
       "True"
      ]
     },
     "execution_count": 50,
     "metadata": {},
     "output_type": "execute_result"
    }
   ],
   "source": [
    "#downloading treebank and universal_tagset\n",
    "nltk.download('treebank')\n",
    "nltk.download('universal_tagset')"
   ]
  },
  {
   "cell_type": "code",
   "execution_count": 51,
   "metadata": {},
   "outputs": [],
   "source": [
    "#Reading the treebank tagged sentences\n",
    "nltk_data = list(nltk.corpus.treebank.tagged_sents(tagset='universal'))"
   ]
  },
  {
   "cell_type": "code",
   "execution_count": 61,
   "metadata": {},
   "outputs": [
    {
     "name": "stdout",
     "output_type": "stream",
     "text": [
      "['Android is a mobile operating system developed by Google.\\n', 'Android has been the best-selling OS worldwide on smartphones since 2011 and on tablets since 2013.\\n', \"Google and Twitter made a deal in 2015 that gave Google access to Twitter's firehose.\\n\", 'Twitter is an online news and social networking service on which users post and interact with messages known as tweets.\\n', 'Before entering politics, Donald Trump was a domineering businessman and a television personality.\\n', 'The 2018 FIFA World Cup is the 21st FIFA World Cup, an international football tournament contested once every four years.\\n', 'This is the first World Cup to be held in Eastern Europe and the 11th time that it has been held in Europe.\\n', 'Show me the cheapest round trips from Dallas to Atlanta\\n', 'I would like to see flights from Denver to Philadelphia.\\n', 'Show me the price of the flights leaving Atlanta at about 3 in the afternoon and arriving in San Francisco.\\n', 'NASA invited social media users to experience the launch of ICESAT-2 Satellite.\\n', '\\n', '\\n', '\\n']\n"
     ]
    }
   ],
   "source": [
    "#Reading the input file to copy the text in a variable for further processing\n",
    "input_file = open(\"Test_sentences.txt\",\"r\")\n",
    "text=input_file.readlines()\n",
    "input_file.close()\n",
    "print(text)"
   ]
  },
  {
   "cell_type": "code",
   "execution_count": 62,
   "metadata": {},
   "outputs": [],
   "source": [
    "#replacing the newline characters to blank and doing word tokenization\n",
    "text=[word_tokenize(newline.replace(\"\\n\",\"\")) for newline in text]\n",
    "#text"
   ]
  },
  {
   "cell_type": "code",
   "execution_count": 149,
   "metadata": {},
   "outputs": [],
   "source": [
    "# Converting the Sample Test File into a List\n",
    "SampleUntaggedWords=[word for sent in text for word in sent]\n",
    "#SampleUntaggedWords"
   ]
  },
  {
   "cell_type": "code",
   "execution_count": null,
   "metadata": {},
   "outputs": [],
   "source": []
  },
  {
   "cell_type": "code",
   "execution_count": 64,
   "metadata": {},
   "outputs": [
    {
     "data": {
      "text/plain": [
       "3914"
      ]
     },
     "execution_count": 64,
     "metadata": {},
     "output_type": "execute_result"
    }
   ],
   "source": [
    "#Checking the length of treebank tagged sentences\n",
    "len(nltk_data)"
   ]
  },
  {
   "cell_type": "code",
   "execution_count": 150,
   "metadata": {},
   "outputs": [],
   "source": [
    "#Splitting data into train set & test set\n",
    "random.seed(1234)\n",
    "train_set, test_set = train_test_split(nltk_data,test_size=0.05)\n",
    "#print(len(train_set))\n",
    "#print(len(test_set))\n",
    "#print(train_set[:40])"
   ]
  },
  {
   "cell_type": "code",
   "execution_count": 66,
   "metadata": {},
   "outputs": [
    {
     "data": {
      "text/plain": [
       "95665"
      ]
     },
     "execution_count": 66,
     "metadata": {},
     "output_type": "execute_result"
    }
   ],
   "source": [
    "#Fetching the list of  tagged words \n",
    "train_tagged_words=[tup for sent in train_set for tup in sent]\n",
    "len(train_tagged_words)"
   ]
  },
  {
   "cell_type": "code",
   "execution_count": 67,
   "metadata": {},
   "outputs": [],
   "source": [
    "#Fetching list of tokens tagged in nltk_data Set\n",
    "tokens = [x[0] for x in train_tagged_words]"
   ]
  },
  {
   "cell_type": "code",
   "execution_count": 119,
   "metadata": {},
   "outputs": [
    {
     "data": {
      "text/plain": [
       "12089"
      ]
     },
     "execution_count": 119,
     "metadata": {},
     "output_type": "execute_result"
    }
   ],
   "source": [
    "#Fetching the vocabulary in train set\n",
    "Vocab = set(tokens)\n",
    "#Checking the length of the vocab\n",
    "len(Vocab)"
   ]
  },
  {
   "cell_type": "code",
   "execution_count": 120,
   "metadata": {},
   "outputs": [],
   "source": [
    "#fetching the list of tags in train set\n",
    "Tags=[x[1] for x in train_tagged_words]\n",
    "TagCounts=Counter(Tags)\n",
    "UniqueTags=set(Tags)\n"
   ]
  },
  {
   "cell_type": "code",
   "execution_count": 121,
   "metadata": {},
   "outputs": [
    {
     "name": "stdout",
     "output_type": "stream",
     "text": [
      "95665\n",
      "12\n",
      "[('NOUN', 27408), ('VERB', 12895), ('.', 11153), ('ADP', 9355), ('DET', 8284), ('X', 6296), ('ADJ', 6071), ('NUM', 3387), ('PRT', 3036), ('ADV', 3018), ('PRON', 2589), ('CONJ', 2173)]\n",
      "Most common tag: NOUN\n"
     ]
    }
   ],
   "source": [
    "print(len(Tags))\n",
    "print(len(UniqueTags))\n",
    "print(TagCounts.most_common(12))\n",
    "print(\"Most common tag:\", TagCounts.most_common(12)[0][0])"
   ]
  },
  {
   "cell_type": "markdown",
   "metadata": {},
   "source": [
    "#### Emission Probability"
   ]
  },
  {
   "cell_type": "code",
   "execution_count": 71,
   "metadata": {},
   "outputs": [],
   "source": [
    "#computing the word given tag: Emission Probability\n",
    "def word_given_tag(word, tag, train_bag = train_tagged_words):\n",
    "    tag_list = [pair for pair in train_bag if pair[1]==tag]\n",
    "    count_tag = len(tag_list)\n",
    "    w_given_tag_list = [pair[0] for pair in tag_list if pair[0].lower()==word.lower()]\n",
    "    count_w_given_tag = len(w_given_tag_list)\n",
    "    EmissionProbability = count_w_given_tag/count_tag\n",
    "    return (count_w_given_tag, count_tag,EmissionProbability)"
   ]
  },
  {
   "cell_type": "markdown",
   "metadata": {},
   "source": [
    "#### Transition Probability"
   ]
  },
  {
   "cell_type": "code",
   "execution_count": 122,
   "metadata": {},
   "outputs": [],
   "source": [
    "# computing tag given tag: tag2(t2) given tag1 (t1), i.e. Transition Probability\n",
    "def t2_given_t1(t2, t1, train_bag = train_tagged_words):\n",
    "    tags = [pair[1] for pair in train_bag]\n",
    "    count_t1 = len([t for t in tags if t==t1])\n",
    "    count_t2_t1 = 0\n",
    "    for index in range(len(tags)-1):\n",
    "        if tags[index]==t1 and tags[index+1] == t2:\n",
    "            count_t2_t1 += 1\n",
    "    TransitionProbability=count_t2_t1/count_t1\n",
    "    return (count_t2_t1, count_t1,TransitionProbability)"
   ]
  },
  {
   "cell_type": "code",
   "execution_count": 123,
   "metadata": {},
   "outputs": [],
   "source": [
    "#creating transition matrix of the tags\n",
    "tags_matrix = np.zeros((len(UniqueTags), len(UniqueTags)), dtype='float32')\n",
    "for i, t1 in enumerate(list(UniqueTags)):\n",
    "    for j, t2 in enumerate(list(UniqueTags)): \n",
    "        tags_matrix[i, j] = t2_given_t1(t2, t1)[2]"
   ]
  },
  {
   "cell_type": "code",
   "execution_count": 124,
   "metadata": {},
   "outputs": [],
   "source": [
    "#creating dataframe for it for processing next\n",
    "df_tags= pd.DataFrame(tags_matrix,columns=list(UniqueTags), index=list(UniqueTags))"
   ]
  },
  {
   "cell_type": "code",
   "execution_count": 125,
   "metadata": {},
   "outputs": [
    {
     "data": {
      "text/html": [
       "<div>\n",
       "<style scoped>\n",
       "    .dataframe tbody tr th:only-of-type {\n",
       "        vertical-align: middle;\n",
       "    }\n",
       "\n",
       "    .dataframe tbody tr th {\n",
       "        vertical-align: top;\n",
       "    }\n",
       "\n",
       "    .dataframe thead th {\n",
       "        text-align: right;\n",
       "    }\n",
       "</style>\n",
       "<table border=\"1\" class=\"dataframe\">\n",
       "  <thead>\n",
       "    <tr style=\"text-align: right;\">\n",
       "      <th></th>\n",
       "      <th>NOUN</th>\n",
       "      <th>VERB</th>\n",
       "      <th>PRON</th>\n",
       "      <th>ADP</th>\n",
       "      <th>ADV</th>\n",
       "      <th>ADJ</th>\n",
       "      <th>NUM</th>\n",
       "      <th>.</th>\n",
       "      <th>PRT</th>\n",
       "      <th>X</th>\n",
       "      <th>CONJ</th>\n",
       "      <th>DET</th>\n",
       "    </tr>\n",
       "  </thead>\n",
       "  <tbody>\n",
       "    <tr>\n",
       "      <th>NOUN</th>\n",
       "      <td>0.264302</td>\n",
       "      <td>0.146600</td>\n",
       "      <td>0.004561</td>\n",
       "      <td>0.176153</td>\n",
       "      <td>0.016966</td>\n",
       "      <td>0.012332</td>\n",
       "      <td>0.009340</td>\n",
       "      <td>0.241462</td>\n",
       "      <td>0.043272</td>\n",
       "      <td>0.028824</td>\n",
       "      <td>0.043126</td>\n",
       "      <td>0.013062</td>\n",
       "    </tr>\n",
       "    <tr>\n",
       "      <th>VERB</th>\n",
       "      <td>0.109965</td>\n",
       "      <td>0.168748</td>\n",
       "      <td>0.035595</td>\n",
       "      <td>0.092206</td>\n",
       "      <td>0.082202</td>\n",
       "      <td>0.065064</td>\n",
       "      <td>0.022644</td>\n",
       "      <td>0.034665</td>\n",
       "      <td>0.031485</td>\n",
       "      <td>0.217604</td>\n",
       "      <td>0.005584</td>\n",
       "      <td>0.134238</td>\n",
       "    </tr>\n",
       "    <tr>\n",
       "      <th>PRON</th>\n",
       "      <td>0.208961</td>\n",
       "      <td>0.483971</td>\n",
       "      <td>0.007725</td>\n",
       "      <td>0.023947</td>\n",
       "      <td>0.033990</td>\n",
       "      <td>0.073774</td>\n",
       "      <td>0.007725</td>\n",
       "      <td>0.039784</td>\n",
       "      <td>0.012360</td>\n",
       "      <td>0.093086</td>\n",
       "      <td>0.005021</td>\n",
       "      <td>0.009656</td>\n",
       "    </tr>\n",
       "    <tr>\n",
       "      <th>ADP</th>\n",
       "      <td>0.322074</td>\n",
       "      <td>0.008338</td>\n",
       "      <td>0.068520</td>\n",
       "      <td>0.017424</td>\n",
       "      <td>0.013683</td>\n",
       "      <td>0.106895</td>\n",
       "      <td>0.062961</td>\n",
       "      <td>0.039872</td>\n",
       "      <td>0.001497</td>\n",
       "      <td>0.035168</td>\n",
       "      <td>0.000855</td>\n",
       "      <td>0.322715</td>\n",
       "    </tr>\n",
       "    <tr>\n",
       "      <th>ADV</th>\n",
       "      <td>0.030815</td>\n",
       "      <td>0.347581</td>\n",
       "      <td>0.014911</td>\n",
       "      <td>0.120278</td>\n",
       "      <td>0.082174</td>\n",
       "      <td>0.127568</td>\n",
       "      <td>0.030152</td>\n",
       "      <td>0.134195</td>\n",
       "      <td>0.013254</td>\n",
       "      <td>0.023194</td>\n",
       "      <td>0.006958</td>\n",
       "      <td>0.068920</td>\n",
       "    </tr>\n",
       "    <tr>\n",
       "      <th>ADJ</th>\n",
       "      <td>0.700379</td>\n",
       "      <td>0.012189</td>\n",
       "      <td>0.000659</td>\n",
       "      <td>0.077088</td>\n",
       "      <td>0.004942</td>\n",
       "      <td>0.065722</td>\n",
       "      <td>0.020425</td>\n",
       "      <td>0.065722</td>\n",
       "      <td>0.010212</td>\n",
       "      <td>0.020754</td>\n",
       "      <td>0.016966</td>\n",
       "      <td>0.004942</td>\n",
       "    </tr>\n",
       "    <tr>\n",
       "      <th>NUM</th>\n",
       "      <td>0.350458</td>\n",
       "      <td>0.018010</td>\n",
       "      <td>0.001476</td>\n",
       "      <td>0.033953</td>\n",
       "      <td>0.002657</td>\n",
       "      <td>0.033658</td>\n",
       "      <td>0.186596</td>\n",
       "      <td>0.116032</td>\n",
       "      <td>0.028048</td>\n",
       "      <td>0.211692</td>\n",
       "      <td>0.014172</td>\n",
       "      <td>0.003248</td>\n",
       "    </tr>\n",
       "    <tr>\n",
       "      <th>.</th>\n",
       "      <td>0.223438</td>\n",
       "      <td>0.088676</td>\n",
       "      <td>0.065543</td>\n",
       "      <td>0.090200</td>\n",
       "      <td>0.051287</td>\n",
       "      <td>0.044383</td>\n",
       "      <td>0.081772</td>\n",
       "      <td>0.092710</td>\n",
       "      <td>0.002331</td>\n",
       "      <td>0.027795</td>\n",
       "      <td>0.058191</td>\n",
       "      <td>0.173586</td>\n",
       "    </tr>\n",
       "    <tr>\n",
       "      <th>PRT</th>\n",
       "      <td>0.244401</td>\n",
       "      <td>0.403162</td>\n",
       "      <td>0.019104</td>\n",
       "      <td>0.019104</td>\n",
       "      <td>0.009552</td>\n",
       "      <td>0.083333</td>\n",
       "      <td>0.058300</td>\n",
       "      <td>0.042819</td>\n",
       "      <td>0.001976</td>\n",
       "      <td>0.013834</td>\n",
       "      <td>0.001976</td>\n",
       "      <td>0.102437</td>\n",
       "    </tr>\n",
       "    <tr>\n",
       "      <th>X</th>\n",
       "      <td>0.062421</td>\n",
       "      <td>0.206321</td>\n",
       "      <td>0.054638</td>\n",
       "      <td>0.144695</td>\n",
       "      <td>0.026048</td>\n",
       "      <td>0.016677</td>\n",
       "      <td>0.002541</td>\n",
       "      <td>0.163437</td>\n",
       "      <td>0.183609</td>\n",
       "      <td>0.073856</td>\n",
       "      <td>0.010483</td>\n",
       "      <td>0.055273</td>\n",
       "    </tr>\n",
       "    <tr>\n",
       "      <th>CONJ</th>\n",
       "      <td>0.350667</td>\n",
       "      <td>0.156926</td>\n",
       "      <td>0.058905</td>\n",
       "      <td>0.052002</td>\n",
       "      <td>0.053843</td>\n",
       "      <td>0.115509</td>\n",
       "      <td>0.042338</td>\n",
       "      <td>0.036355</td>\n",
       "      <td>0.005062</td>\n",
       "      <td>0.008283</td>\n",
       "      <td>0.000460</td>\n",
       "      <td>0.119650</td>\n",
       "    </tr>\n",
       "    <tr>\n",
       "      <th>DET</th>\n",
       "      <td>0.636287</td>\n",
       "      <td>0.040198</td>\n",
       "      <td>0.003501</td>\n",
       "      <td>0.009536</td>\n",
       "      <td>0.012916</td>\n",
       "      <td>0.205336</td>\n",
       "      <td>0.022453</td>\n",
       "      <td>0.017262</td>\n",
       "      <td>0.000241</td>\n",
       "      <td>0.046113</td>\n",
       "      <td>0.000483</td>\n",
       "      <td>0.005674</td>\n",
       "    </tr>\n",
       "  </tbody>\n",
       "</table>\n",
       "</div>"
      ],
      "text/plain": [
       "          NOUN      VERB      PRON       ADP       ADV       ADJ       NUM  \\\n",
       "NOUN  0.264302  0.146600  0.004561  0.176153  0.016966  0.012332  0.009340   \n",
       "VERB  0.109965  0.168748  0.035595  0.092206  0.082202  0.065064  0.022644   \n",
       "PRON  0.208961  0.483971  0.007725  0.023947  0.033990  0.073774  0.007725   \n",
       "ADP   0.322074  0.008338  0.068520  0.017424  0.013683  0.106895  0.062961   \n",
       "ADV   0.030815  0.347581  0.014911  0.120278  0.082174  0.127568  0.030152   \n",
       "ADJ   0.700379  0.012189  0.000659  0.077088  0.004942  0.065722  0.020425   \n",
       "NUM   0.350458  0.018010  0.001476  0.033953  0.002657  0.033658  0.186596   \n",
       ".     0.223438  0.088676  0.065543  0.090200  0.051287  0.044383  0.081772   \n",
       "PRT   0.244401  0.403162  0.019104  0.019104  0.009552  0.083333  0.058300   \n",
       "X     0.062421  0.206321  0.054638  0.144695  0.026048  0.016677  0.002541   \n",
       "CONJ  0.350667  0.156926  0.058905  0.052002  0.053843  0.115509  0.042338   \n",
       "DET   0.636287  0.040198  0.003501  0.009536  0.012916  0.205336  0.022453   \n",
       "\n",
       "             .       PRT         X      CONJ       DET  \n",
       "NOUN  0.241462  0.043272  0.028824  0.043126  0.013062  \n",
       "VERB  0.034665  0.031485  0.217604  0.005584  0.134238  \n",
       "PRON  0.039784  0.012360  0.093086  0.005021  0.009656  \n",
       "ADP   0.039872  0.001497  0.035168  0.000855  0.322715  \n",
       "ADV   0.134195  0.013254  0.023194  0.006958  0.068920  \n",
       "ADJ   0.065722  0.010212  0.020754  0.016966  0.004942  \n",
       "NUM   0.116032  0.028048  0.211692  0.014172  0.003248  \n",
       ".     0.092710  0.002331  0.027795  0.058191  0.173586  \n",
       "PRT   0.042819  0.001976  0.013834  0.001976  0.102437  \n",
       "X     0.163437  0.183609  0.073856  0.010483  0.055273  \n",
       "CONJ  0.036355  0.005062  0.008283  0.000460  0.119650  \n",
       "DET   0.017262  0.000241  0.046113  0.000483  0.005674  "
      ]
     },
     "execution_count": 125,
     "metadata": {},
     "output_type": "execute_result"
    }
   ],
   "source": [
    "df_tags"
   ]
  },
  {
   "cell_type": "code",
   "execution_count": 126,
   "metadata": {},
   "outputs": [
    {
     "data": {
      "text/plain": [
       "NOUN    0.223438\n",
       "VERB    0.088676\n",
       "PRON    0.065543\n",
       "ADP     0.090200\n",
       "ADV     0.051287\n",
       "ADJ     0.044383\n",
       "NUM     0.081772\n",
       ".       0.092710\n",
       "PRT     0.002331\n",
       "X       0.027795\n",
       "CONJ    0.058191\n",
       "DET     0.173586\n",
       "Name: ., dtype: float32"
      ]
     },
     "execution_count": 126,
     "metadata": {},
     "output_type": "execute_result"
    }
   ],
   "source": [
    "df_tags.loc['.', :]"
   ]
  },
  {
   "cell_type": "code",
   "execution_count": 127,
   "metadata": {},
   "outputs": [
    {
     "data": {
      "image/png": "[encoded data removed]",
      "text/plain": [
       "<Figure size 432x288 with 2 Axes>"
      ]
     },
     "metadata": {
      "needs_background": "light"
     },
     "output_type": "display_data"
    }
   ],
   "source": [
    "#Checking the heatmap of tags matrix\n",
    "#T(i, j) means P(tag j given tag i)\n",
    "plt.figure(figsize=(6, 4))\n",
    "sns.heatmap(df_tags)\n",
    "plt.show()"
   ]
  },
  {
   "cell_type": "code",
   "execution_count": 128,
   "metadata": {},
   "outputs": [
    {
     "data": {
      "image/png": "[encoded data removed]",
      "text/plain": [
       "<Figure size 432x288 with 2 Axes>"
      ]
     },
     "metadata": {
      "needs_background": "light"
     },
     "output_type": "display_data"
    }
   ],
   "source": [
    "#frequent tags\n",
    "#filter the df to get P(t2, t1) > 0.5\n",
    "tags_frequent = df_tags[df_tags>0.5]\n",
    "plt.figure(figsize=(6, 4))\n",
    "sns.heatmap(tags_frequent)\n",
    "plt.show()"
   ]
  },
  {
   "cell_type": "markdown",
   "metadata": {},
   "source": [
    "#### Building Vanilla Viterbi based POS tagger"
   ]
  },
  {
   "cell_type": "code",
   "execution_count": 129,
   "metadata": {},
   "outputs": [
    {
     "data": {
      "text/plain": [
       "95665"
      ]
     },
     "execution_count": 129,
     "metadata": {},
     "output_type": "execute_result"
    }
   ],
   "source": [
    "len(train_tagged_words)"
   ]
  },
  {
   "cell_type": "code",
   "execution_count": 130,
   "metadata": {},
   "outputs": [],
   "source": [
    "#Defining Viterbi Heuristic Function\n",
    "def Viterbi(words, train_bag = train_tagged_words, tag_matrix=df_tags):\n",
    "    state = []\n",
    "    T = list(set([pair[1] for pair in train_bag]))\n",
    "    \n",
    "    for key, word in enumerate(words):\n",
    "        #initialise list of probability column for a given observation\n",
    "        p = [] \n",
    "        for tag in T:\n",
    "            if key == 0:\n",
    "                transition_p = tag_matrix.loc['.', tag]\n",
    "            else:\n",
    "                transition_p = tag_matrix.loc[state[-1], tag]\n",
    "                \n",
    "            # compute emission and state probabilities\n",
    "            emission_p = word_given_tag(words[key], tag)[2]\n",
    "            state_probability = emission_p * transition_p    \n",
    "            p.append(state_probability)\n",
    "            \n",
    "        pmax = max(p)\n",
    "        # getting state for which probability is maximum\n",
    "        state_max = T[p.index(pmax)] \n",
    "        state.append(state_max)\n",
    "    return list(zip(words, state))"
   ]
  },
  {
   "cell_type": "code",
   "execution_count": 151,
   "metadata": {},
   "outputs": [],
   "source": [
    "# As running the entire test dataset would take more than 3-4hrs. \n",
    "# Let's test our Viterbi algorithm on a few sample sentences of test dataset\n",
    "\n",
    "random.seed(1234)\n",
    "\n",
    "# choose random 5 sents\n",
    "rndom = [random.randint(1,len(test_set)) for x in range(5)]\n",
    "\n",
    "# list of sents\n",
    "test_run = [test_set[i] for i in rndom]\n",
    "\n",
    "# list of tagged words\n",
    "test_run_base = [tup for sent in test_run for tup in sent]\n",
    "\n",
    "# list of untagged words\n",
    "test_tagged_words = [tup[0] for sent in test_run for tup in sent]\n",
    "#test_run"
   ]
  },
  {
   "cell_type": "code",
   "execution_count": 132,
   "metadata": {},
   "outputs": [],
   "source": [
    "#Tagging the test sentences through Vanilla Viterbi Algorithm\n",
    "start = time.time()\n",
    "tagged_seq = Viterbi(test_tagged_words)\n",
    "end = time.time()\n",
    "difference = end-start"
   ]
  },
  {
   "cell_type": "code",
   "execution_count": 133,
   "metadata": {},
   "outputs": [
    {
     "name": "stdout",
     "output_type": "stream",
     "text": [
      "Total time taken in seconds: 20.161108255386353\n",
      "[('And', 'CONJ'), ('my', 'PRON'), ('newspaper', 'NOUN'), ('can', 'VERB'), ('print', 'VERB')]\n"
     ]
    }
   ],
   "source": [
    "print(\"Total time taken in seconds:\", difference)\n",
    "print(tagged_seq[:5])"
   ]
  },
  {
   "cell_type": "code",
   "execution_count": 134,
   "metadata": {},
   "outputs": [],
   "source": [
    "#checking the accuracy of Vanilla Viterbi Algorithm\n",
    "check=[i for i, j in zip(tagged_seq, test_run_base) if i == j] "
   ]
  },
  {
   "cell_type": "code",
   "execution_count": 98,
   "metadata": {},
   "outputs": [],
   "source": [
    "accuracy=len(check)/len(tagged_seq)"
   ]
  },
  {
   "cell_type": "code",
   "execution_count": 99,
   "metadata": {},
   "outputs": [
    {
     "data": {
      "text/plain": [
       "0.9622641509433962"
      ]
     },
     "execution_count": 99,
     "metadata": {},
     "output_type": "execute_result"
    }
   ],
   "source": [
    "accuracy"
   ]
  },
  {
   "cell_type": "code",
   "execution_count": 100,
   "metadata": {},
   "outputs": [],
   "source": [
    "incorrect_tagged_cases = [[test_run_base[i-1],j] for i, j in enumerate(zip(tagged_seq, test_run_base)) if j[0]!=j[1]]"
   ]
  },
  {
   "cell_type": "code",
   "execution_count": 101,
   "metadata": {},
   "outputs": [
    {
     "data": {
      "text/plain": [
       "[[('those', 'DET'), (('broadcasts', 'VERB'), ('broadcasts', 'NOUN'))],\n",
       " [('$', '.'), (('2.47', 'NOUN'), ('2.47', 'NUM'))],\n",
       " [('up', 'ADV'), (('7.4', 'NOUN'), ('7.4', 'NUM'))],\n",
       " [('$', '.'), (('2.30', 'NOUN'), ('2.30', 'NUM'))]]"
      ]
     },
     "execution_count": 101,
     "metadata": {},
     "output_type": "execute_result"
    }
   ],
   "source": [
    "incorrect_tagged_cases"
   ]
  },
  {
   "cell_type": "code",
   "execution_count": 135,
   "metadata": {},
   "outputs": [
    {
     "name": "stdout",
     "output_type": "stream",
     "text": [
      "Time taken in seconds:  34.27239489555359\n",
      "[('Android', 'NOUN'), ('is', 'VERB'), ('a', 'DET'), ('mobile', 'ADJ'), ('operating', 'NOUN'), ('system', 'NOUN'), ('developed', 'VERB'), ('by', 'ADP'), ('Google', 'NOUN'), ('.', '.'), ('Android', 'NOUN'), ('has', 'VERB'), ('been', 'VERB'), ('the', 'DET'), ('best-selling', 'ADJ'), ('OS', 'NOUN'), ('worldwide', 'NOUN'), ('on', 'ADP'), ('smartphones', 'NOUN'), ('since', 'ADP'), ('2011', 'NOUN'), ('and', 'CONJ'), ('on', 'ADP'), ('tablets', 'NOUN'), ('since', 'ADP'), ('2013', 'NOUN'), ('.', '.'), ('Google', 'NOUN'), ('and', 'CONJ'), ('Twitter', 'NOUN'), ('made', 'VERB'), ('a', 'DET'), ('deal', 'NOUN'), ('in', 'ADP'), ('2015', 'NOUN'), ('that', 'ADP'), ('gave', 'VERB'), ('Google', 'NOUN'), ('access', 'NOUN'), ('to', 'PRT'), ('Twitter', 'NOUN'), (\"'s\", 'PRT'), ('firehose', 'NOUN'), ('.', '.'), ('Twitter', 'NOUN'), ('is', 'VERB'), ('an', 'DET'), ('online', 'NOUN'), ('news', 'NOUN'), ('and', 'CONJ'), ('social', 'ADJ'), ('networking', 'NOUN'), ('service', 'NOUN'), ('on', 'ADP'), ('which', 'DET'), ('users', 'NOUN'), ('post', 'NOUN'), ('and', 'CONJ'), ('interact', 'NOUN'), ('with', 'ADP'), ('messages', 'NOUN'), ('known', 'VERB'), ('as', 'ADP'), ('tweets', 'NOUN'), ('.', '.'), ('Before', 'ADP'), ('entering', 'VERB'), ('politics', 'NOUN'), (',', '.'), ('Donald', 'NOUN'), ('Trump', 'NOUN'), ('was', 'VERB'), ('a', 'DET'), ('domineering', 'NOUN'), ('businessman', 'NOUN'), ('and', 'CONJ'), ('a', 'DET'), ('television', 'NOUN'), ('personality', 'NOUN'), ('.', '.'), ('The', 'DET'), ('2018', 'NOUN'), ('FIFA', 'NOUN'), ('World', 'NOUN'), ('Cup', 'NOUN'), ('is', 'VERB'), ('the', 'DET'), ('21st', 'NOUN'), ('FIFA', 'NOUN'), ('World', 'NOUN'), ('Cup', 'NOUN'), (',', '.'), ('an', 'DET'), ('international', 'NOUN'), ('football', 'NOUN'), ('tournament', 'NOUN'), ('contested', 'NOUN'), ('once', 'ADV'), ('every', 'DET'), ('four', 'NUM'), ('years', 'NOUN'), ('.', '.'), ('This', 'DET'), ('is', 'VERB'), ('the', 'DET'), ('first', 'ADJ'), ('World', 'NOUN'), ('Cup', 'NOUN'), ('to', 'PRT'), ('be', 'VERB'), ('held', 'VERB'), ('in', 'ADP'), ('Eastern', 'NOUN'), ('Europe', 'NOUN'), ('and', 'CONJ'), ('the', 'DET'), ('11th', 'ADJ'), ('time', 'NOUN'), ('that', 'ADP'), ('it', 'PRON'), ('has', 'VERB'), ('been', 'VERB'), ('held', 'VERB'), ('in', 'ADP'), ('Europe', 'NOUN'), ('.', '.'), ('Show', 'NOUN'), ('me', 'PRON'), ('the', 'DET'), ('cheapest', 'ADJ'), ('round', 'NOUN'), ('trips', 'NOUN'), ('from', 'ADP'), ('Dallas', 'NOUN'), ('to', 'PRT'), ('Atlanta', 'NOUN'), ('I', 'PRON'), ('would', 'VERB'), ('like', 'ADP'), ('to', 'PRT'), ('see', 'VERB'), ('flights', 'NOUN'), ('from', 'ADP'), ('Denver', 'NOUN'), ('to', 'PRT'), ('Philadelphia', 'NOUN'), ('.', '.'), ('Show', 'NOUN'), ('me', 'PRON'), ('the', 'DET'), ('price', 'NOUN'), ('of', 'ADP'), ('the', 'DET'), ('flights', 'NOUN'), ('leaving', 'VERB'), ('Atlanta', 'NOUN'), ('at', 'ADP'), ('about', 'ADP'), ('3', 'NUM'), ('in', 'ADP'), ('the', 'DET'), ('afternoon', 'NOUN'), ('and', 'CONJ'), ('arriving', 'NOUN'), ('in', 'ADP'), ('San', 'NOUN'), ('Francisco', 'NOUN'), ('.', '.'), ('NASA', 'NOUN'), ('invited', 'NOUN'), ('social', 'ADJ'), ('media', 'NOUN'), ('users', 'NOUN'), ('to', 'PRT'), ('experience', 'NOUN'), ('the', 'DET'), ('launch', 'NOUN'), ('of', 'ADP'), ('ICESAT-2', 'NOUN'), ('Satellite', 'NOUN'), ('.', '.')]\n"
     ]
    }
   ],
   "source": [
    "#Tagging the sample file with Vanila viterbi Function \n",
    "start=time.time()\n",
    "sample_tagged_seq=Viterbi(SampleUntaggedWords)\n",
    "end=time.time()\n",
    "difference=end-start\n",
    "print(\"Time taken in seconds: \", difference)\n",
    "print(sample_tagged_seq)"
   ]
  },
  {
   "cell_type": "markdown",
   "metadata": {},
   "source": [
    "#### Now Let's solve the problem for unknown words"
   ]
  },
  {
   "cell_type": "markdown",
   "metadata": {},
   "source": [
    "#### First Method\n",
    "* Regular Expression based tagging for unknown words."
   ]
  },
  {
   "cell_type": "code",
   "execution_count": 103,
   "metadata": {},
   "outputs": [],
   "source": [
    "## Call the function for both train-test set and sample sentence provided and calculate accuracy before and after.\n",
    "    \n",
    "\"\"\"\n",
    "Various patterns defined for recognizing the words that are not present in the vocabulary\n",
    "\"\"\"\n",
    "patterns = [\n",
    "    (r'.*ing$', 'VERB'),               # gerunds\n",
    "    (r'.*ed$', 'VERB'),                # simple past\n",
    "    (r'.*es$', 'VERB'),                # 3rd singular present\n",
    "    (r'.*ould$', 'VERB'),               # modals\n",
    "    (r'.*\\'s$', 'NOUN'),               # possessive nouns\n",
    "    (r'.*s$', 'NOUN'),                 # plural nouns\n",
    "    (r'^-?[0-9]+(.[0-9]+)?$', 'NUM'),  # numbers\n",
    "    (r'(The|the|A|a|An|an)$', 'DET'),   # articles \n",
    "    (r'.*able$', 'ADJ'),                # adjectives \n",
    "    (r'.*ness$', 'NOUN'),                # nouns formed from adjectives\n",
    "    (r'.*ly$', 'ADV'),                  # adverbs\n",
    "    (r'(He|he|She|she|It|it|I|me|Me|You|you)$', 'PRON'), # pronouns\n",
    "    (r'(His|his|Her|her|Its|its)$', 'PRON'),    # possesive\n",
    "    (r'(my|Your|your|Yours|yours)$', 'PRON'),   # possesive\n",
    "    (r'(on|On|in|In|at|At|since|Since)$', 'ADP'),# time prepopsitions\n",
    "    (r'(for|For|ago|Ago|before|Before)$', 'ADP'),# time prepopsitions\n",
    "    (r'(till|Till|until|Until)$', 'ADP'),        # time prepopsitions\n",
    "    (r'(by|By|beside|Beside)$', 'ADP'),          # space prepopsitions\n",
    "    (r'(under|Under|below|Below)$', 'ADP'),      # space prepopsitions\n",
    "    (r'(over|Over|above|Above)$', 'ADP'),        # space prepopsitions\n",
    "    (r'(across|Across|through|Through)$', 'ADP'),# space prepopsitions\n",
    "    (r'(into|Into|towards|Towards)$', 'ADP'),    # space prepopsitions\n",
    "    (r'(onto|Onto|from|From)$', 'ADP'),          # space prepopsitions    \n",
    "    (r'[0-9]+\\-[0-9]+', 'NUM'),                      # Number     \n",
    "    (r'^\\*', 'X'),                        \n",
    "    (r'.*', 'NOUN')                      # nouns (default) as the maximum number of words are assigned Nouns\n",
    "    ]"
   ]
  },
  {
   "cell_type": "code",
   "execution_count": 104,
   "metadata": {},
   "outputs": [],
   "source": [
    "# Viterbi Heuristic Function based on on Regex Patterns\n",
    "def Viterbi_with_Regex_Patterns(words, RegexPattern=patterns, train_bag = train_tagged_words, tag_matrix=df_tags):\n",
    "    state = []\n",
    "    T = list(set([pair[1] for pair in train_bag]))\n",
    "    Vocab=list(set(pair[0] for pair in train_bag))\n",
    "    regexp_tagger = nltk.RegexpTagger(RegexPattern)\n",
    "\n",
    "    for key, word in enumerate(words):\n",
    "        if (words[key] in Vocab):\n",
    "            #initialise list of probability column for a given observation\n",
    "            p = [] \n",
    "            for tag in T:\n",
    "                if key == 0:\n",
    "                    transition_p = tag_matrix.loc['.', tag]\n",
    "                else:\n",
    "                    transition_p = tag_matrix.loc[state[-1], tag]\n",
    "                # compute emission and state probabilities\n",
    "                emission_p = word_given_tag(words[key], tag)[2]\n",
    "                state_probability = emission_p * transition_p    \n",
    "                p.append(state_probability)\n",
    "            pmax = max(p)\n",
    "            # getting state for which probability is maximum\n",
    "            state_max = T[p.index(pmax)] \n",
    "            state.append(state_max)\n",
    "        else:\n",
    "            Derived_Tag=regexp_tagger.tag([words[key]])[0][1]\n",
    "            state.append(Derived_Tag)\n",
    "    return list(zip(words, state))"
   ]
  },
  {
   "cell_type": "code",
   "execution_count": 105,
   "metadata": {},
   "outputs": [
    {
     "name": "stdout",
     "output_type": "stream",
     "text": [
      "Time taken in seconds:  24.266274452209473\n",
      "[('And', 'CONJ'), ('my', 'PRON'), ('newspaper', 'NOUN'), ('can', 'VERB'), ('print', 'VERB'), ('the', 'DET'), ('text', 'NOUN'), ('of', 'ADP'), ('those', 'DET'), ('broadcasts', 'VERB'), ('.', '.'), ('He', 'PRON'), ('is', 'VERB'), ('his', 'PRON'), ('own', 'ADJ'), ('man', 'NOUN'), ('.', '.'), ('Each', 'DET'), ('50,000', 'NUM'), ('Swiss', 'ADJ'), ('franc', 'NOUN'), ('note', 'NOUN'), ('is', 'VERB'), ('convertible', 'ADJ'), ('from', 'ADP'), ('Nov.', 'NOUN'), ('30', 'NUM'), (',', '.'), ('1989', 'NUM'), (',', '.'), ('to', 'PRT'), ('March', 'NOUN'), ('16', 'NUM'), (',', '.'), ('1994', 'NUM'), ('at', 'ADP'), ('a', 'DET'), ('5', 'NUM'), ('%', 'NOUN'), ('premium', 'NOUN'), ('over', 'ADP'), ('the', 'DET'), ('closing', 'ADJ'), ('share', 'NOUN'), ('price', 'NOUN'), ('Monday', 'NOUN'), (',', '.'), ('when', 'ADV'), ('terms', 'NOUN'), ('are', 'VERB')]\n"
     ]
    }
   ],
   "source": [
    "start = time.time()\n",
    "tagged_seq_technique1 = Viterbi_with_Regex_Patterns(test_tagged_words)\n",
    "end = time.time()\n",
    "difference = end-start\n",
    "\n",
    "print(\"Time taken in seconds: \", difference)\n",
    "print(tagged_seq_technique1[:50])"
   ]
  },
  {
   "cell_type": "code",
   "execution_count": 106,
   "metadata": {},
   "outputs": [
    {
     "data": {
      "text/plain": [
       "0.9905660377358491"
      ]
     },
     "execution_count": 106,
     "metadata": {},
     "output_type": "execute_result"
    }
   ],
   "source": [
    "check_technique1 = [i for i, j in zip(tagged_seq_technique1, test_run_base) if i == j] \n",
    "accuracy_technique1 = len(check_technique1)/len(tagged_seq)\n",
    "accuracy_technique1"
   ]
  },
  {
   "cell_type": "code",
   "execution_count": 107,
   "metadata": {},
   "outputs": [
    {
     "name": "stdout",
     "output_type": "stream",
     "text": [
      "Time taken in seconds:  39.5842924118042\n",
      "[('Android', 'NOUN'), ('is', 'VERB'), ('a', 'DET'), ('mobile', 'ADJ'), ('operating', 'NOUN'), ('system', 'NOUN'), ('developed', 'VERB'), ('by', 'ADP'), ('Google', 'NOUN'), ('.', '.'), ('Android', 'NOUN'), ('has', 'VERB'), ('been', 'VERB'), ('the', 'DET'), ('best-selling', 'ADJ'), ('OS', 'NOUN'), ('worldwide', 'NOUN'), ('on', 'ADP'), ('smartphones', 'VERB'), ('since', 'ADP'), ('2011', 'NUM'), ('and', 'CONJ'), ('on', 'ADP'), ('tablets', 'NOUN'), ('since', 'ADP'), ('2013', 'NUM'), ('.', '.'), ('Google', 'NOUN'), ('and', 'CONJ'), ('Twitter', 'NOUN'), ('made', 'VERB'), ('a', 'DET'), ('deal', 'NOUN'), ('in', 'ADP'), ('2015', 'NUM'), ('that', 'ADP'), ('gave', 'VERB'), ('Google', 'NOUN'), ('access', 'NOUN'), ('to', 'PRT'), ('Twitter', 'NOUN'), (\"'s\", 'PRT'), ('firehose', 'NOUN'), ('.', '.'), ('Twitter', 'NOUN'), ('is', 'VERB'), ('an', 'DET'), ('online', 'NOUN'), ('news', 'NOUN'), ('and', 'CONJ'), ('social', 'ADJ'), ('networking', 'VERB'), ('service', 'NOUN'), ('on', 'ADP'), ('which', 'DET'), ('users', 'NOUN'), ('post', 'NOUN'), ('and', 'CONJ'), ('interact', 'NOUN'), ('with', 'ADP'), ('messages', 'VERB'), ('known', 'VERB'), ('as', 'ADP'), ('tweets', 'NOUN'), ('.', '.'), ('Before', 'ADP'), ('entering', 'VERB'), ('politics', 'NOUN'), (',', '.'), ('Donald', 'NOUN'), ('Trump', 'NOUN'), ('was', 'VERB'), ('a', 'DET'), ('domineering', 'VERB'), ('businessman', 'NOUN'), ('and', 'CONJ'), ('a', 'DET'), ('television', 'NOUN'), ('personality', 'NOUN'), ('.', '.'), ('The', 'DET'), ('2018', 'NUM'), ('FIFA', 'NOUN'), ('World', 'NOUN'), ('Cup', 'NOUN'), ('is', 'VERB'), ('the', 'DET'), ('21st', 'NOUN'), ('FIFA', 'NOUN'), ('World', 'NOUN'), ('Cup', 'NOUN'), (',', '.'), ('an', 'DET'), ('international', 'NOUN'), ('football', 'NOUN'), ('tournament', 'NOUN'), ('contested', 'VERB'), ('once', 'ADV'), ('every', 'DET'), ('four', 'NUM'), ('years', 'NOUN'), ('.', '.'), ('This', 'DET'), ('is', 'VERB'), ('the', 'DET'), ('first', 'ADJ'), ('World', 'NOUN'), ('Cup', 'NOUN'), ('to', 'PRT'), ('be', 'VERB'), ('held', 'VERB'), ('in', 'ADP'), ('Eastern', 'NOUN'), ('Europe', 'NOUN'), ('and', 'CONJ'), ('the', 'DET'), ('11th', 'ADJ'), ('time', 'NOUN'), ('that', 'ADP'), ('it', 'PRON'), ('has', 'VERB'), ('been', 'VERB'), ('held', 'VERB'), ('in', 'ADP'), ('Europe', 'NOUN'), ('.', '.'), ('Show', 'NOUN'), ('me', 'PRON'), ('the', 'DET'), ('cheapest', 'ADJ'), ('round', 'NOUN'), ('trips', 'NOUN'), ('from', 'ADP'), ('Dallas', 'NOUN'), ('to', 'PRT'), ('Atlanta', 'NOUN'), ('I', 'PRON'), ('would', 'VERB'), ('like', 'ADP'), ('to', 'PRT'), ('see', 'VERB'), ('flights', 'NOUN'), ('from', 'ADP'), ('Denver', 'NOUN'), ('to', 'PRT'), ('Philadelphia', 'NOUN'), ('.', '.'), ('Show', 'NOUN'), ('me', 'PRON'), ('the', 'DET'), ('price', 'NOUN'), ('of', 'ADP'), ('the', 'DET'), ('flights', 'NOUN'), ('leaving', 'VERB'), ('Atlanta', 'NOUN'), ('at', 'ADP'), ('about', 'ADP'), ('3', 'NUM'), ('in', 'ADP'), ('the', 'DET'), ('afternoon', 'NOUN'), ('and', 'CONJ'), ('arriving', 'VERB'), ('in', 'ADP'), ('San', 'NOUN'), ('Francisco', 'NOUN'), ('.', '.'), ('NASA', 'NOUN'), ('invited', 'VERB'), ('social', 'ADJ'), ('media', 'NOUN'), ('users', 'NOUN'), ('to', 'PRT'), ('experience', 'NOUN'), ('the', 'DET'), ('launch', 'NOUN'), ('of', 'ADP'), ('ICESAT-2', 'NOUN'), ('Satellite', 'NOUN'), ('.', '.')]\n"
     ]
    }
   ],
   "source": [
    "# Tagging the Sample File with the Viterbi Function Technique I - \n",
    "# implementing Regex function for the unknown words\n",
    "\n",
    "start=time.time()\n",
    "sample_tagged_seq_technique_1=Viterbi_with_Regex_Patterns(SampleUntaggedWords)\n",
    "end=time.time()\n",
    "difference=end-start\n",
    "print(\"Time taken in seconds: \", difference)\n",
    "print(sample_tagged_seq_technique_1)"
   ]
  },
  {
   "cell_type": "markdown",
   "metadata": {},
   "source": [
    "#### Second method\n",
    "* Probablistic approach, based on the previous Tag / Transitional Probability"
   ]
  },
  {
   "cell_type": "code",
   "execution_count": 136,
   "metadata": {},
   "outputs": [],
   "source": [
    "#defining Viterbi_with_TransitionPobability function\n",
    "def Viterbi_with_TransitionPobability(words, RegexPattern=patterns, train_bag = train_tagged_words, tag_matrix=df_tags):\n",
    "    state = []\n",
    "    T = list(set([pair[1] for pair in train_bag]))\n",
    "    Vocab=list(set(pair[0] for pair in train_bag))\n",
    "\n",
    "    for key, word in enumerate(words):\n",
    "        #initialise list of probability column for a given observation\n",
    "        p = [] \n",
    "        for tag in T:\n",
    "            if key == 0:\n",
    "                transition_p = tag_matrix.loc['.', tag]\n",
    "            else:\n",
    "                transition_p = tag_matrix.loc[state[-1], tag]\n",
    "            # compute emission and state probabilities\n",
    "            if (words[key] in Vocab):\n",
    "                emission_p = word_given_tag(words[key], tag)[2]\n",
    "            else:\n",
    "                emission_p=1\n",
    "            state_probability = emission_p * transition_p    \n",
    "            p.append(state_probability)\n",
    "        pmax = max(p)\n",
    "        # getting state for which probability is maximum\n",
    "        state_max = T[p.index(pmax)] \n",
    "        state.append(state_max)\n",
    "    return list(zip(words, state))"
   ]
  },
  {
   "cell_type": "code",
   "execution_count": 138,
   "metadata": {},
   "outputs": [
    {
     "name": "stdout",
     "output_type": "stream",
     "text": [
      "Time taken in seconds:  19.270174264907837\n",
      "[('And', 'CONJ'), ('my', 'PRON'), ('newspaper', 'NOUN'), ('can', 'VERB'), ('print', 'VERB'), ('the', 'DET'), ('text', 'NOUN'), ('of', 'ADP'), ('those', 'DET'), ('broadcasts', 'VERB'), ('.', '.'), ('He', 'PRON'), ('is', 'VERB'), ('his', 'PRON'), ('own', 'ADJ'), ('man', 'NOUN'), ('.', '.'), ('Each', 'DET'), ('50,000', 'NUM'), ('Swiss', 'ADJ'), ('franc', 'NOUN'), ('note', 'NOUN'), ('is', 'VERB'), ('convertible', 'ADJ'), ('from', 'ADP'), ('Nov.', 'NOUN'), ('30', 'NUM'), (',', '.'), ('1989', 'NUM'), (',', '.'), ('to', 'PRT'), ('March', 'NOUN'), ('16', 'NUM'), (',', '.'), ('1994', 'NUM'), ('at', 'ADP'), ('a', 'DET'), ('5', 'NUM'), ('%', 'NOUN'), ('premium', 'NOUN'), ('over', 'ADP'), ('the', 'DET'), ('closing', 'ADJ'), ('share', 'NOUN'), ('price', 'NOUN'), ('Monday', 'NOUN'), (',', '.'), ('when', 'ADV'), ('terms', 'NOUN'), ('are', 'VERB')]\n"
     ]
    }
   ],
   "source": [
    "start = time.time()\n",
    "tagged_seq_technique2= Viterbi_with_TransitionPobability(test_tagged_words)\n",
    "end = time.time()\n",
    "difference = end-start\n",
    "print(\"Time taken in seconds: \", difference)\n",
    "print(tagged_seq_technique2[:50])"
   ]
  },
  {
   "cell_type": "code",
   "execution_count": 139,
   "metadata": {},
   "outputs": [
    {
     "data": {
      "text/plain": [
       "0.9622641509433962"
      ]
     },
     "execution_count": 139,
     "metadata": {},
     "output_type": "execute_result"
    }
   ],
   "source": [
    "check_technique2 = [i for i, j in zip(tagged_seq_technique2, test_run_base) if i == j] \n",
    "accuracy_technique2 = len(check_technique2)/len(tagged_seq)\n",
    "accuracy_technique2"
   ]
  },
  {
   "cell_type": "code",
   "execution_count": 140,
   "metadata": {},
   "outputs": [
    {
     "name": "stdout",
     "output_type": "stream",
     "text": [
      "Time taken in seconds:  27.11252999305725\n",
      "[('Android', 'NOUN'), ('is', 'VERB'), ('a', 'DET'), ('mobile', 'ADJ'), ('operating', 'NOUN'), ('system', 'NOUN'), ('developed', 'VERB'), ('by', 'ADP'), ('Google', 'DET'), ('.', '.'), ('Android', 'NOUN'), ('has', 'VERB'), ('been', 'VERB'), ('the', 'DET'), ('best-selling', 'ADJ'), ('OS', 'NOUN'), ('worldwide', 'NOUN'), ('on', 'ADP'), ('smartphones', 'DET'), ('since', 'ADP'), ('2011', 'DET'), ('and', 'CONJ'), ('on', 'ADP'), ('tablets', 'NOUN'), ('since', 'ADP'), ('2013', 'DET'), ('.', '.'), ('Google', 'NOUN'), ('and', 'CONJ'), ('Twitter', 'NOUN'), ('made', 'VERB'), ('a', 'DET'), ('deal', 'NOUN'), ('in', 'ADP'), ('2015', 'DET'), ('that', 'ADP'), ('gave', 'VERB'), ('Google', 'X'), ('access', 'NOUN'), ('to', 'PRT'), ('Twitter', 'VERB'), (\"'s\", 'PRT'), ('firehose', 'VERB'), ('.', '.'), ('Twitter', 'NOUN'), ('is', 'VERB'), ('an', 'DET'), ('online', 'NOUN'), ('news', 'NOUN'), ('and', 'CONJ'), ('social', 'ADJ'), ('networking', 'NOUN'), ('service', 'NOUN'), ('on', 'ADP'), ('which', 'DET'), ('users', 'NOUN'), ('post', 'NOUN'), ('and', 'CONJ'), ('interact', 'NOUN'), ('with', 'ADP'), ('messages', 'DET'), ('known', 'VERB'), ('as', 'ADP'), ('tweets', 'DET'), ('.', '.'), ('Before', 'ADP'), ('entering', 'VERB'), ('politics', 'NOUN'), (',', '.'), ('Donald', 'NOUN'), ('Trump', 'NOUN'), ('was', 'VERB'), ('a', 'DET'), ('domineering', 'NOUN'), ('businessman', 'NOUN'), ('and', 'CONJ'), ('a', 'DET'), ('television', 'NOUN'), ('personality', 'NOUN'), ('.', '.'), ('The', 'DET'), ('2018', 'NOUN'), ('FIFA', 'NOUN'), ('World', 'NOUN'), ('Cup', 'NOUN'), ('is', 'VERB'), ('the', 'DET'), ('21st', 'NOUN'), ('FIFA', 'NOUN'), ('World', 'NOUN'), ('Cup', 'NOUN'), (',', '.'), ('an', 'DET'), ('international', 'NOUN'), ('football', 'NOUN'), ('tournament', 'NOUN'), ('contested', 'NOUN'), ('once', 'ADV'), ('every', 'DET'), ('four', 'NUM'), ('years', 'NOUN'), ('.', '.'), ('This', 'DET'), ('is', 'VERB'), ('the', 'DET'), ('first', 'ADJ'), ('World', 'NOUN'), ('Cup', 'NOUN'), ('to', 'PRT'), ('be', 'VERB'), ('held', 'VERB'), ('in', 'ADP'), ('Eastern', 'NOUN'), ('Europe', 'NOUN'), ('and', 'CONJ'), ('the', 'DET'), ('11th', 'ADJ'), ('time', 'NOUN'), ('that', 'ADP'), ('it', 'PRON'), ('has', 'VERB'), ('been', 'VERB'), ('held', 'VERB'), ('in', 'ADP'), ('Europe', 'NOUN'), ('.', '.'), ('Show', 'NOUN'), ('me', 'PRON'), ('the', 'DET'), ('cheapest', 'ADJ'), ('round', 'NOUN'), ('trips', 'NOUN'), ('from', 'ADP'), ('Dallas', 'NOUN'), ('to', 'PRT'), ('Atlanta', 'NOUN'), ('I', 'PRON'), ('would', 'VERB'), ('like', 'ADP'), ('to', 'PRT'), ('see', 'VERB'), ('flights', 'NOUN'), ('from', 'ADP'), ('Denver', 'NOUN'), ('to', 'PRT'), ('Philadelphia', 'NOUN'), ('.', '.'), ('Show', 'NOUN'), ('me', 'PRON'), ('the', 'DET'), ('price', 'NOUN'), ('of', 'ADP'), ('the', 'DET'), ('flights', 'NOUN'), ('leaving', 'VERB'), ('Atlanta', 'NOUN'), ('at', 'ADP'), ('about', 'ADP'), ('3', 'NUM'), ('in', 'ADP'), ('the', 'DET'), ('afternoon', 'NOUN'), ('and', 'CONJ'), ('arriving', 'NOUN'), ('in', 'ADP'), ('San', 'NOUN'), ('Francisco', 'NOUN'), ('.', '.'), ('NASA', 'NOUN'), ('invited', 'NOUN'), ('social', 'ADJ'), ('media', 'NOUN'), ('users', 'NOUN'), ('to', 'PRT'), ('experience', 'NOUN'), ('the', 'DET'), ('launch', 'NOUN'), ('of', 'ADP'), ('ICESAT-2', 'DET'), ('Satellite', 'NOUN'), ('.', '.')]\n"
     ]
    }
   ],
   "source": [
    "#Tagging the Sample File with the Viterbi Function Technique II\n",
    "#implementing tagging based on the transition probability in case word is not in vocabulary\n",
    "start=time.time()\n",
    "sample_tagged_seq_technique_2=Viterbi_with_TransitionPobability(SampleUntaggedWords)\n",
    "end=time.time()\n",
    "difference=end-start\n",
    "print(\"Time taken in seconds: \", difference)\n",
    "print(sample_tagged_seq_technique_2)"
   ]
  },
  {
   "cell_type": "markdown",
   "metadata": {},
   "source": [
    "#### Evauating the accuracy for three methods(Vanilla,Regex,Probablistic)"
   ]
  },
  {
   "cell_type": "code",
   "execution_count": 141,
   "metadata": {},
   "outputs": [
    {
     "data": {
      "text/plain": [
       "(0.9622641509433962, 0.9905660377358491, 0.9622641509433962)"
      ]
     },
     "execution_count": 141,
     "metadata": {},
     "output_type": "execute_result"
    }
   ],
   "source": [
    "(accuracy, accuracy_technique1, accuracy_technique2)"
   ]
  },
  {
   "cell_type": "code",
   "execution_count": 144,
   "metadata": {},
   "outputs": [
    {
     "name": "stdout",
     "output_type": "stream",
     "text": [
      "Length of incorrect Tags: 4\n"
     ]
    },
    {
     "data": {
      "text/plain": [
       "[[('those', 'DET'), (('broadcasts', 'VERB'), ('broadcasts', 'NOUN'))],\n",
       " [('$', '.'), (('2.47', 'NOUN'), ('2.47', 'NUM'))],\n",
       " [('up', 'ADV'), (('7.4', 'NOUN'), ('7.4', 'NUM'))],\n",
       " [('$', '.'), (('2.30', 'NOUN'), ('2.30', 'NUM'))]]"
      ]
     },
     "execution_count": 144,
     "metadata": {},
     "output_type": "execute_result"
    }
   ],
   "source": [
    "#Incorrect tagged cases obtained with the vanila Viterbi Function\n",
    "print(\"Length of incorrect Tags:\", len(incorrect_tagged_cases))\n",
    "incorrect_tagged_cases"
   ]
  },
  {
   "cell_type": "code",
   "execution_count": 145,
   "metadata": {},
   "outputs": [
    {
     "name": "stdout",
     "output_type": "stream",
     "text": [
      "Length of incorrect Tags: 1\n"
     ]
    },
    {
     "data": {
      "text/plain": [
       "[[('those', 'DET'), (('broadcasts', 'VERB'), ('broadcasts', 'NOUN'))]]"
      ]
     },
     "execution_count": 145,
     "metadata": {},
     "output_type": "execute_result"
    }
   ],
   "source": [
    "#Incorrect tagged cases obtained with the Viterbi Function using the Regex Pattern \n",
    "incorrect_tagged_cases_technique_1 = [[test_run_base[i-1],j] for i, j in enumerate(zip(tagged_seq_technique1, test_run_base)) if j[0]!=j[1]]\n",
    "print(\"Length of incorrect Tags:\", len(incorrect_tagged_cases_technique_1))\n",
    "incorrect_tagged_cases_technique_1"
   ]
  },
  {
   "cell_type": "code",
   "execution_count": 146,
   "metadata": {},
   "outputs": [
    {
     "name": "stdout",
     "output_type": "stream",
     "text": [
      "Length of incorrect Tags :  4\n"
     ]
    },
    {
     "data": {
      "text/plain": [
       "[[('those', 'DET'), (('broadcasts', 'VERB'), ('broadcasts', 'NOUN'))],\n",
       " [('$', '.'), (('2.47', 'NOUN'), ('2.47', 'NUM'))],\n",
       " [('up', 'ADV'), (('7.4', 'VERB'), ('7.4', 'NUM'))],\n",
       " [('$', '.'), (('2.30', 'NOUN'), ('2.30', 'NUM'))]]"
      ]
     },
     "execution_count": 146,
     "metadata": {},
     "output_type": "execute_result"
    }
   ],
   "source": [
    "#Incorrect tagged cases obtained with the Viterbi Function using transition probability in case of unknown words\n",
    "incorrect_tagged_cases_technique_2 = [[test_run_base[i-1],j] for i, j in enumerate(zip(tagged_seq_technique2, test_run_base)) if j[0]!=j[1]]\n",
    "print(\"Length of incorrect Tags : \", len(incorrect_tagged_cases_technique_2))\n",
    "incorrect_tagged_cases_technique_2"
   ]
  },
  {
   "cell_type": "code",
   "execution_count": 147,
   "metadata": {},
   "outputs": [
    {
     "data": {
      "text/plain": [
       "[(('Android', 'NOUN'), ('Android', 'NOUN'), ('Android', 'NOUN')),\n",
       " (('is', 'VERB'), ('is', 'VERB'), ('is', 'VERB')),\n",
       " (('a', 'DET'), ('a', 'DET'), ('a', 'DET')),\n",
       " (('mobile', 'ADJ'), ('mobile', 'ADJ'), ('mobile', 'ADJ')),\n",
       " (('operating', 'NOUN'), ('operating', 'NOUN'), ('operating', 'NOUN')),\n",
       " (('system', 'NOUN'), ('system', 'NOUN'), ('system', 'NOUN')),\n",
       " (('developed', 'VERB'), ('developed', 'VERB'), ('developed', 'VERB')),\n",
       " (('by', 'ADP'), ('by', 'ADP'), ('by', 'ADP')),\n",
       " (('Google', 'NOUN'), ('Google', 'NOUN'), ('Google', 'DET')),\n",
       " (('.', '.'), ('.', '.'), ('.', '.')),\n",
       " (('Android', 'NOUN'), ('Android', 'NOUN'), ('Android', 'NOUN')),\n",
       " (('has', 'VERB'), ('has', 'VERB'), ('has', 'VERB')),\n",
       " (('been', 'VERB'), ('been', 'VERB'), ('been', 'VERB')),\n",
       " (('the', 'DET'), ('the', 'DET'), ('the', 'DET')),\n",
       " (('best-selling', 'ADJ'), ('best-selling', 'ADJ'), ('best-selling', 'ADJ')),\n",
       " (('OS', 'NOUN'), ('OS', 'NOUN'), ('OS', 'NOUN')),\n",
       " (('worldwide', 'NOUN'), ('worldwide', 'NOUN'), ('worldwide', 'NOUN')),\n",
       " (('on', 'ADP'), ('on', 'ADP'), ('on', 'ADP')),\n",
       " (('smartphones', 'NOUN'), ('smartphones', 'VERB'), ('smartphones', 'DET')),\n",
       " (('since', 'ADP'), ('since', 'ADP'), ('since', 'ADP')),\n",
       " (('2011', 'NOUN'), ('2011', 'NUM'), ('2011', 'DET')),\n",
       " (('and', 'CONJ'), ('and', 'CONJ'), ('and', 'CONJ')),\n",
       " (('on', 'ADP'), ('on', 'ADP'), ('on', 'ADP')),\n",
       " (('tablets', 'NOUN'), ('tablets', 'NOUN'), ('tablets', 'NOUN')),\n",
       " (('since', 'ADP'), ('since', 'ADP'), ('since', 'ADP')),\n",
       " (('2013', 'NOUN'), ('2013', 'NUM'), ('2013', 'DET')),\n",
       " (('.', '.'), ('.', '.'), ('.', '.')),\n",
       " (('Google', 'NOUN'), ('Google', 'NOUN'), ('Google', 'NOUN')),\n",
       " (('and', 'CONJ'), ('and', 'CONJ'), ('and', 'CONJ')),\n",
       " (('Twitter', 'NOUN'), ('Twitter', 'NOUN'), ('Twitter', 'NOUN')),\n",
       " (('made', 'VERB'), ('made', 'VERB'), ('made', 'VERB')),\n",
       " (('a', 'DET'), ('a', 'DET'), ('a', 'DET')),\n",
       " (('deal', 'NOUN'), ('deal', 'NOUN'), ('deal', 'NOUN')),\n",
       " (('in', 'ADP'), ('in', 'ADP'), ('in', 'ADP')),\n",
       " (('2015', 'NOUN'), ('2015', 'NUM'), ('2015', 'DET')),\n",
       " (('that', 'ADP'), ('that', 'ADP'), ('that', 'ADP')),\n",
       " (('gave', 'VERB'), ('gave', 'VERB'), ('gave', 'VERB')),\n",
       " (('Google', 'NOUN'), ('Google', 'NOUN'), ('Google', 'X')),\n",
       " (('access', 'NOUN'), ('access', 'NOUN'), ('access', 'NOUN')),\n",
       " (('to', 'PRT'), ('to', 'PRT'), ('to', 'PRT')),\n",
       " (('Twitter', 'NOUN'), ('Twitter', 'NOUN'), ('Twitter', 'VERB')),\n",
       " ((\"'s\", 'PRT'), (\"'s\", 'PRT'), (\"'s\", 'PRT')),\n",
       " (('firehose', 'NOUN'), ('firehose', 'NOUN'), ('firehose', 'VERB')),\n",
       " (('.', '.'), ('.', '.'), ('.', '.')),\n",
       " (('Twitter', 'NOUN'), ('Twitter', 'NOUN'), ('Twitter', 'NOUN')),\n",
       " (('is', 'VERB'), ('is', 'VERB'), ('is', 'VERB')),\n",
       " (('an', 'DET'), ('an', 'DET'), ('an', 'DET')),\n",
       " (('online', 'NOUN'), ('online', 'NOUN'), ('online', 'NOUN')),\n",
       " (('news', 'NOUN'), ('news', 'NOUN'), ('news', 'NOUN')),\n",
       " (('and', 'CONJ'), ('and', 'CONJ'), ('and', 'CONJ')),\n",
       " (('social', 'ADJ'), ('social', 'ADJ'), ('social', 'ADJ')),\n",
       " (('networking', 'NOUN'), ('networking', 'VERB'), ('networking', 'NOUN')),\n",
       " (('service', 'NOUN'), ('service', 'NOUN'), ('service', 'NOUN')),\n",
       " (('on', 'ADP'), ('on', 'ADP'), ('on', 'ADP')),\n",
       " (('which', 'DET'), ('which', 'DET'), ('which', 'DET')),\n",
       " (('users', 'NOUN'), ('users', 'NOUN'), ('users', 'NOUN')),\n",
       " (('post', 'NOUN'), ('post', 'NOUN'), ('post', 'NOUN')),\n",
       " (('and', 'CONJ'), ('and', 'CONJ'), ('and', 'CONJ')),\n",
       " (('interact', 'NOUN'), ('interact', 'NOUN'), ('interact', 'NOUN')),\n",
       " (('with', 'ADP'), ('with', 'ADP'), ('with', 'ADP')),\n",
       " (('messages', 'NOUN'), ('messages', 'VERB'), ('messages', 'DET')),\n",
       " (('known', 'VERB'), ('known', 'VERB'), ('known', 'VERB')),\n",
       " (('as', 'ADP'), ('as', 'ADP'), ('as', 'ADP')),\n",
       " (('tweets', 'NOUN'), ('tweets', 'NOUN'), ('tweets', 'DET')),\n",
       " (('.', '.'), ('.', '.'), ('.', '.')),\n",
       " (('Before', 'ADP'), ('Before', 'ADP'), ('Before', 'ADP')),\n",
       " (('entering', 'VERB'), ('entering', 'VERB'), ('entering', 'VERB')),\n",
       " (('politics', 'NOUN'), ('politics', 'NOUN'), ('politics', 'NOUN')),\n",
       " ((',', '.'), (',', '.'), (',', '.')),\n",
       " (('Donald', 'NOUN'), ('Donald', 'NOUN'), ('Donald', 'NOUN')),\n",
       " (('Trump', 'NOUN'), ('Trump', 'NOUN'), ('Trump', 'NOUN')),\n",
       " (('was', 'VERB'), ('was', 'VERB'), ('was', 'VERB')),\n",
       " (('a', 'DET'), ('a', 'DET'), ('a', 'DET')),\n",
       " (('domineering', 'NOUN'), ('domineering', 'VERB'), ('domineering', 'NOUN')),\n",
       " (('businessman', 'NOUN'), ('businessman', 'NOUN'), ('businessman', 'NOUN')),\n",
       " (('and', 'CONJ'), ('and', 'CONJ'), ('and', 'CONJ')),\n",
       " (('a', 'DET'), ('a', 'DET'), ('a', 'DET')),\n",
       " (('television', 'NOUN'), ('television', 'NOUN'), ('television', 'NOUN')),\n",
       " (('personality', 'NOUN'), ('personality', 'NOUN'), ('personality', 'NOUN')),\n",
       " (('.', '.'), ('.', '.'), ('.', '.')),\n",
       " (('The', 'DET'), ('The', 'DET'), ('The', 'DET')),\n",
       " (('2018', 'NOUN'), ('2018', 'NUM'), ('2018', 'NOUN')),\n",
       " (('FIFA', 'NOUN'), ('FIFA', 'NOUN'), ('FIFA', 'NOUN')),\n",
       " (('World', 'NOUN'), ('World', 'NOUN'), ('World', 'NOUN')),\n",
       " (('Cup', 'NOUN'), ('Cup', 'NOUN'), ('Cup', 'NOUN')),\n",
       " (('is', 'VERB'), ('is', 'VERB'), ('is', 'VERB')),\n",
       " (('the', 'DET'), ('the', 'DET'), ('the', 'DET')),\n",
       " (('21st', 'NOUN'), ('21st', 'NOUN'), ('21st', 'NOUN')),\n",
       " (('FIFA', 'NOUN'), ('FIFA', 'NOUN'), ('FIFA', 'NOUN')),\n",
       " (('World', 'NOUN'), ('World', 'NOUN'), ('World', 'NOUN')),\n",
       " (('Cup', 'NOUN'), ('Cup', 'NOUN'), ('Cup', 'NOUN')),\n",
       " ((',', '.'), (',', '.'), (',', '.')),\n",
       " (('an', 'DET'), ('an', 'DET'), ('an', 'DET')),\n",
       " (('international', 'NOUN'),\n",
       "  ('international', 'NOUN'),\n",
       "  ('international', 'NOUN')),\n",
       " (('football', 'NOUN'), ('football', 'NOUN'), ('football', 'NOUN')),\n",
       " (('tournament', 'NOUN'), ('tournament', 'NOUN'), ('tournament', 'NOUN')),\n",
       " (('contested', 'NOUN'), ('contested', 'VERB'), ('contested', 'NOUN')),\n",
       " (('once', 'ADV'), ('once', 'ADV'), ('once', 'ADV')),\n",
       " (('every', 'DET'), ('every', 'DET'), ('every', 'DET')),\n",
       " (('four', 'NUM'), ('four', 'NUM'), ('four', 'NUM')),\n",
       " (('years', 'NOUN'), ('years', 'NOUN'), ('years', 'NOUN')),\n",
       " (('.', '.'), ('.', '.'), ('.', '.')),\n",
       " (('This', 'DET'), ('This', 'DET'), ('This', 'DET')),\n",
       " (('is', 'VERB'), ('is', 'VERB'), ('is', 'VERB')),\n",
       " (('the', 'DET'), ('the', 'DET'), ('the', 'DET')),\n",
       " (('first', 'ADJ'), ('first', 'ADJ'), ('first', 'ADJ')),\n",
       " (('World', 'NOUN'), ('World', 'NOUN'), ('World', 'NOUN')),\n",
       " (('Cup', 'NOUN'), ('Cup', 'NOUN'), ('Cup', 'NOUN')),\n",
       " (('to', 'PRT'), ('to', 'PRT'), ('to', 'PRT')),\n",
       " (('be', 'VERB'), ('be', 'VERB'), ('be', 'VERB')),\n",
       " (('held', 'VERB'), ('held', 'VERB'), ('held', 'VERB')),\n",
       " (('in', 'ADP'), ('in', 'ADP'), ('in', 'ADP')),\n",
       " (('Eastern', 'NOUN'), ('Eastern', 'NOUN'), ('Eastern', 'NOUN')),\n",
       " (('Europe', 'NOUN'), ('Europe', 'NOUN'), ('Europe', 'NOUN')),\n",
       " (('and', 'CONJ'), ('and', 'CONJ'), ('and', 'CONJ')),\n",
       " (('the', 'DET'), ('the', 'DET'), ('the', 'DET')),\n",
       " (('11th', 'ADJ'), ('11th', 'ADJ'), ('11th', 'ADJ')),\n",
       " (('time', 'NOUN'), ('time', 'NOUN'), ('time', 'NOUN')),\n",
       " (('that', 'ADP'), ('that', 'ADP'), ('that', 'ADP')),\n",
       " (('it', 'PRON'), ('it', 'PRON'), ('it', 'PRON')),\n",
       " (('has', 'VERB'), ('has', 'VERB'), ('has', 'VERB')),\n",
       " (('been', 'VERB'), ('been', 'VERB'), ('been', 'VERB')),\n",
       " (('held', 'VERB'), ('held', 'VERB'), ('held', 'VERB')),\n",
       " (('in', 'ADP'), ('in', 'ADP'), ('in', 'ADP')),\n",
       " (('Europe', 'NOUN'), ('Europe', 'NOUN'), ('Europe', 'NOUN')),\n",
       " (('.', '.'), ('.', '.'), ('.', '.')),\n",
       " (('Show', 'NOUN'), ('Show', 'NOUN'), ('Show', 'NOUN')),\n",
       " (('me', 'PRON'), ('me', 'PRON'), ('me', 'PRON')),\n",
       " (('the', 'DET'), ('the', 'DET'), ('the', 'DET')),\n",
       " (('cheapest', 'ADJ'), ('cheapest', 'ADJ'), ('cheapest', 'ADJ')),\n",
       " (('round', 'NOUN'), ('round', 'NOUN'), ('round', 'NOUN')),\n",
       " (('trips', 'NOUN'), ('trips', 'NOUN'), ('trips', 'NOUN')),\n",
       " (('from', 'ADP'), ('from', 'ADP'), ('from', 'ADP')),\n",
       " (('Dallas', 'NOUN'), ('Dallas', 'NOUN'), ('Dallas', 'NOUN')),\n",
       " (('to', 'PRT'), ('to', 'PRT'), ('to', 'PRT')),\n",
       " (('Atlanta', 'NOUN'), ('Atlanta', 'NOUN'), ('Atlanta', 'NOUN')),\n",
       " (('I', 'PRON'), ('I', 'PRON'), ('I', 'PRON')),\n",
       " (('would', 'VERB'), ('would', 'VERB'), ('would', 'VERB')),\n",
       " (('like', 'ADP'), ('like', 'ADP'), ('like', 'ADP')),\n",
       " (('to', 'PRT'), ('to', 'PRT'), ('to', 'PRT')),\n",
       " (('see', 'VERB'), ('see', 'VERB'), ('see', 'VERB')),\n",
       " (('flights', 'NOUN'), ('flights', 'NOUN'), ('flights', 'NOUN')),\n",
       " (('from', 'ADP'), ('from', 'ADP'), ('from', 'ADP')),\n",
       " (('Denver', 'NOUN'), ('Denver', 'NOUN'), ('Denver', 'NOUN')),\n",
       " (('to', 'PRT'), ('to', 'PRT'), ('to', 'PRT')),\n",
       " (('Philadelphia', 'NOUN'),\n",
       "  ('Philadelphia', 'NOUN'),\n",
       "  ('Philadelphia', 'NOUN')),\n",
       " (('.', '.'), ('.', '.'), ('.', '.')),\n",
       " (('Show', 'NOUN'), ('Show', 'NOUN'), ('Show', 'NOUN')),\n",
       " (('me', 'PRON'), ('me', 'PRON'), ('me', 'PRON')),\n",
       " (('the', 'DET'), ('the', 'DET'), ('the', 'DET')),\n",
       " (('price', 'NOUN'), ('price', 'NOUN'), ('price', 'NOUN')),\n",
       " (('of', 'ADP'), ('of', 'ADP'), ('of', 'ADP')),\n",
       " (('the', 'DET'), ('the', 'DET'), ('the', 'DET')),\n",
       " (('flights', 'NOUN'), ('flights', 'NOUN'), ('flights', 'NOUN')),\n",
       " (('leaving', 'VERB'), ('leaving', 'VERB'), ('leaving', 'VERB')),\n",
       " (('Atlanta', 'NOUN'), ('Atlanta', 'NOUN'), ('Atlanta', 'NOUN')),\n",
       " (('at', 'ADP'), ('at', 'ADP'), ('at', 'ADP')),\n",
       " (('about', 'ADP'), ('about', 'ADP'), ('about', 'ADP')),\n",
       " (('3', 'NUM'), ('3', 'NUM'), ('3', 'NUM')),\n",
       " (('in', 'ADP'), ('in', 'ADP'), ('in', 'ADP')),\n",
       " (('the', 'DET'), ('the', 'DET'), ('the', 'DET')),\n",
       " (('afternoon', 'NOUN'), ('afternoon', 'NOUN'), ('afternoon', 'NOUN')),\n",
       " (('and', 'CONJ'), ('and', 'CONJ'), ('and', 'CONJ')),\n",
       " (('arriving', 'NOUN'), ('arriving', 'VERB'), ('arriving', 'NOUN')),\n",
       " (('in', 'ADP'), ('in', 'ADP'), ('in', 'ADP')),\n",
       " (('San', 'NOUN'), ('San', 'NOUN'), ('San', 'NOUN')),\n",
       " (('Francisco', 'NOUN'), ('Francisco', 'NOUN'), ('Francisco', 'NOUN')),\n",
       " (('.', '.'), ('.', '.'), ('.', '.')),\n",
       " (('NASA', 'NOUN'), ('NASA', 'NOUN'), ('NASA', 'NOUN')),\n",
       " (('invited', 'NOUN'), ('invited', 'VERB'), ('invited', 'NOUN')),\n",
       " (('social', 'ADJ'), ('social', 'ADJ'), ('social', 'ADJ')),\n",
       " (('media', 'NOUN'), ('media', 'NOUN'), ('media', 'NOUN')),\n",
       " (('users', 'NOUN'), ('users', 'NOUN'), ('users', 'NOUN')),\n",
       " (('to', 'PRT'), ('to', 'PRT'), ('to', 'PRT')),\n",
       " (('experience', 'NOUN'), ('experience', 'NOUN'), ('experience', 'NOUN')),\n",
       " (('the', 'DET'), ('the', 'DET'), ('the', 'DET')),\n",
       " (('launch', 'NOUN'), ('launch', 'NOUN'), ('launch', 'NOUN')),\n",
       " (('of', 'ADP'), ('of', 'ADP'), ('of', 'ADP')),\n",
       " (('ICESAT-2', 'NOUN'), ('ICESAT-2', 'NOUN'), ('ICESAT-2', 'DET')),\n",
       " (('Satellite', 'NOUN'), ('Satellite', 'NOUN'), ('Satellite', 'NOUN')),\n",
       " (('.', '.'), ('.', '.'), ('.', '.'))]"
      ]
     },
     "execution_count": 147,
     "metadata": {},
     "output_type": "execute_result"
    }
   ],
   "source": [
    "#Comparison of the Tagging done by Vanilla Approach and modified Approach on Sample File. \n",
    "Sample_Tagged_Comparison_List = list(zip(sample_tagged_seq,sample_tagged_seq_technique_1,sample_tagged_seq_technique_2))\n",
    "Sample_Tagged_Comparison_List"
   ]
  },
  {
   "cell_type": "markdown",
   "metadata": {},
   "source": [
    "#### From  above list we can conclude that numbers are handled well by the modified algo whereas the Vanilla Vetibri has failed to handle the same."
   ]
  },
  {
   "cell_type": "markdown",
   "metadata": {},
   "source": [
    "#### List down cases which were incorrectly tagged by original POS tagger and got corrected by your modifications"
   ]
  },
  {
   "cell_type": "code",
   "execution_count": 148,
   "metadata": {},
   "outputs": [
    {
     "data": {
      "text/plain": [
       "[(('Google', 'NOUN'), ('Google', 'NOUN'), ('Google', 'DET')),\n",
       " (('smartphones', 'NOUN'), ('smartphones', 'VERB'), ('smartphones', 'DET')),\n",
       " (('2011', 'NOUN'), ('2011', 'NUM'), ('2011', 'DET')),\n",
       " (('2013', 'NOUN'), ('2013', 'NUM'), ('2013', 'DET')),\n",
       " (('2015', 'NOUN'), ('2015', 'NUM'), ('2015', 'DET')),\n",
       " (('Google', 'NOUN'), ('Google', 'NOUN'), ('Google', 'X')),\n",
       " (('Twitter', 'NOUN'), ('Twitter', 'NOUN'), ('Twitter', 'VERB')),\n",
       " (('firehose', 'NOUN'), ('firehose', 'NOUN'), ('firehose', 'VERB')),\n",
       " (('networking', 'NOUN'), ('networking', 'VERB'), ('networking', 'NOUN')),\n",
       " (('messages', 'NOUN'), ('messages', 'VERB'), ('messages', 'DET')),\n",
       " (('tweets', 'NOUN'), ('tweets', 'NOUN'), ('tweets', 'DET')),\n",
       " (('domineering', 'NOUN'), ('domineering', 'VERB'), ('domineering', 'NOUN')),\n",
       " (('2018', 'NOUN'), ('2018', 'NUM'), ('2018', 'NOUN')),\n",
       " (('contested', 'NOUN'), ('contested', 'VERB'), ('contested', 'NOUN')),\n",
       " (('arriving', 'NOUN'), ('arriving', 'VERB'), ('arriving', 'NOUN')),\n",
       " (('invited', 'NOUN'), ('invited', 'VERB'), ('invited', 'NOUN')),\n",
       " (('ICESAT-2', 'NOUN'), ('ICESAT-2', 'NOUN'), ('ICESAT-2', 'DET'))]"
      ]
     },
     "execution_count": 148,
     "metadata": {},
     "output_type": "execute_result"
    }
   ],
   "source": [
    "Differences =[x for x in Sample_Tagged_Comparison_List if (x[0]!=x[1]) | (x[0]!=x[2]) | (x[1]!=x[2])]\n",
    "Differences"
   ]
  },
  {
   "cell_type": "markdown",
   "metadata": {},
   "source": [
    "#### Cases which were incorrectly predicted but got correct by the modified Vanila Algorithm are :-"
   ]
  },
  {
   "cell_type": "markdown",
   "metadata": {},
   "source": [
    "* Number was incorrectly predicted by the Vanilla algorithm which was corrected by the modified Algorithm\n",
    "* Words like  tournament was incorrectly predicted  by Vanilla Algorithm which was later on corrected by Modified Algorithm.\n",
    "* Words like NASA was incorrectly predicted  by Vanilla Algorithm was later on corrected as by modified Algorithm."
   ]
  }
 ],
 "metadata": {
  "kernelspec": {
   "display_name": "Python 3",
   "language": "python",
   "name": "python3"
  },
  "language_info": {
   "codemirror_mode": {
    "name": "ipython",
    "version": 3
   },
   "file_extension": ".py",
   "mimetype": "text/x-python",
   "name": "python",
   "nbconvert_exporter": "python",
   "pygments_lexer": "ipython3",
   "version": "3.6.8"
  }
 },
 "nbformat": 4,
 "nbformat_minor": 2
}
