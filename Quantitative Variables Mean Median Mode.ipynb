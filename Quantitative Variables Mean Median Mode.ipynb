{
 "cells": [
  {
   "cell_type": "code",
   "execution_count": 23,
   "metadata": {},
   "outputs": [
    {
     "name": "stdout",
     "output_type": "stream",
     "text": [
      "Shares Median :  1400.0\n",
      "Shares Mean :  3395.3801836343455\n",
      "Shares Mode :  0    1100\n",
      "dtype: int64\n",
      "Shares min :  1\n",
      "Shares max :  843300\n"
     ]
    }
   ],
   "source": [
    "import pandas as pd\n",
    "import numpy as np\n",
    "\n",
    "df = pd.read_csv('C:/Python/Missing_Values/popularity.csv')\n",
    "#df.info()\n",
    "#df_num_keywords = df['num_keywords']\n",
    "df['num_keywords'].mode()\n",
    "df['self_reference_avg_sharess'].mean()\n",
    "df['shares'].median()\n",
    "\n",
    "print('Shares Median : ' , df['shares'].median())\n",
    "print('Shares Mean : ' , df['shares'].mean())\n",
    "print('Shares Mode : ' , df['shares'].mode())\n",
    "print('Shares min : ' , min(df['shares']))\n",
    "print('Shares max : ' , max(df['shares']))\n",
    "#print(df['num_keywords'])"
   ]
  },
  {
   "cell_type": "code",
   "execution_count": null,
   "metadata": {},
   "outputs": [],
   "source": [
    "print(\"25th percentile : \", np."
   ]
  }
 ],
 "metadata": {
  "kernelspec": {
   "display_name": "Python 3",
   "language": "python",
   "name": "python3"
  },
  "language_info": {
   "codemirror_mode": {
    "name": "ipython",
    "version": 3
   },
   "file_extension": ".py",
   "mimetype": "text/x-python",
   "name": "python",
   "nbconvert_exporter": "python",
   "pygments_lexer": "ipython3",
   "version": "3.7.3"
  }
 },
 "nbformat": 4,
 "nbformat_minor": 2
}
