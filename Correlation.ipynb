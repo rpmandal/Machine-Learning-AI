{
 "cells": [
  {
   "cell_type": "code",
   "execution_count": 3,
   "metadata": {},
   "outputs": [],
   "source": [
    "# =============================================================================\n",
    "# Let’s say you work for a trading company and want to analyse the correlations \n",
    "# between currencies using this data. The currencies you want to analyse are Euro, \n",
    "# Japanese Yen, U.K. Pound Sterling, US Dollar, Australian Dollar, Indian Rupee.\n",
    "# \n",
    "# \n",
    "# Plot a correlation matrix for these currencies. You may have to learn how to \n",
    "# do this in Python. Below are some useful links which will help you in plotting \n",
    "# the correlation matrix.\n",
    "# =============================================================================\n",
    "\"\"\"\n",
    "Created on Sun Apr 28 03:17:23 2019\n",
    "\n",
    "@author: RPM\n",
    "\"\"\"\n",
    "import numpy as np\n",
    "import pandas as pd\n",
    "\n",
    "\n",
    "#Reading the file\n",
    "df = pd.read_csv('C:/Python/Missing_Values/currencies.csv')\n",
    "df_subset = df[['Euro','Japanese Yen',\n",
    "               'U.K. Pound Sterling',\n",
    "               'U.S. Dollar','Australian Dollar',\n",
    "               'Indian Rupee']]\n",
    "\n"
   ]
  },
  {
   "cell_type": "code",
   "execution_count": 5,
   "metadata": {},
   "outputs": [
    {
     "data": {
      "image/png": "[encoded data removed]",
      "text/plain": [
       "<Figure size 288x288 with 1 Axes>"
      ]
     },
     "metadata": {
      "needs_background": "light"
     },
     "output_type": "display_data"
    }
   ],
   "source": [
    "import matplotlib.pyplot as plt\n",
    "plt.matshow(df_subset.corr())\n",
    "plt.show()"
   ]
  },
  {
   "cell_type": "code",
   "execution_count": 7,
   "metadata": {},
   "outputs": [
    {
     "data": {
      "text/plain": [
       "<matplotlib.axes._subplots.AxesSubplot at 0x28c3b41a780>"
      ]
     },
     "execution_count": 7,
     "metadata": {},
     "output_type": "execute_result"
    },
    {
     "data": {
      "image/png": "[encoded data removed]",
      "text/plain": [
       "<Figure size 432x288 with 2 Axes>"
      ]
     },
     "metadata": {
      "needs_background": "light"
     },
     "output_type": "display_data"
    }
   ],
   "source": [
    "import seaborn as sns\n",
    "corr = df_subset.corr()\n",
    "sns.heatmap(corr, \n",
    "            xticklabels=corr.columns.values,\n",
    "            yticklabels=corr.columns.values)"
   ]
  },
  {
   "cell_type": "code",
   "execution_count": 8,
   "metadata": {},
   "outputs": [
    {
     "data": {
      "text/html": [
       "<style  type=\"text/css\" >\n",
       "    #T_31018724_6920_11e9_9d88_e470b8a7867brow0_col0 {\n",
       "            background-color:  #b40426;\n",
       "            color:  #f1f1f1;\n",
       "        }    #T_31018724_6920_11e9_9d88_e470b8a7867brow0_col1 {\n",
       "            background-color:  #6f92f3;\n",
       "            color:  #000000;\n",
       "        }    #T_31018724_6920_11e9_9d88_e470b8a7867brow0_col2 {\n",
       "            background-color:  #f39475;\n",
       "            color:  #000000;\n",
       "        }    #T_31018724_6920_11e9_9d88_e470b8a7867brow0_col3 {\n",
       "            background-color:  #3b4cc0;\n",
       "            color:  #f1f1f1;\n",
       "        }    #T_31018724_6920_11e9_9d88_e470b8a7867brow0_col4 {\n",
       "            background-color:  #eed0c0;\n",
       "            color:  #000000;\n",
       "        }    #T_31018724_6920_11e9_9d88_e470b8a7867brow0_col5 {\n",
       "            background-color:  #c1d4f4;\n",
       "            color:  #000000;\n",
       "        }    #T_31018724_6920_11e9_9d88_e470b8a7867brow1_col0 {\n",
       "            background-color:  #3b4cc0;\n",
       "            color:  #f1f1f1;\n",
       "        }    #T_31018724_6920_11e9_9d88_e470b8a7867brow1_col1 {\n",
       "            background-color:  #b40426;\n",
       "            color:  #f1f1f1;\n",
       "        }    #T_31018724_6920_11e9_9d88_e470b8a7867brow1_col2 {\n",
       "            background-color:  #3b4cc0;\n",
       "            color:  #f1f1f1;\n",
       "        }    #T_31018724_6920_11e9_9d88_e470b8a7867brow1_col3 {\n",
       "            background-color:  #afcafc;\n",
       "            color:  #000000;\n",
       "        }    #T_31018724_6920_11e9_9d88_e470b8a7867brow1_col4 {\n",
       "            background-color:  #3b4cc0;\n",
       "            color:  #f1f1f1;\n",
       "        }    #T_31018724_6920_11e9_9d88_e470b8a7867brow1_col5 {\n",
       "            background-color:  #3b4cc0;\n",
       "            color:  #f1f1f1;\n",
       "        }    #T_31018724_6920_11e9_9d88_e470b8a7867brow2_col0 {\n",
       "            background-color:  #f7a688;\n",
       "            color:  #000000;\n",
       "        }    #T_31018724_6920_11e9_9d88_e470b8a7867brow2_col1 {\n",
       "            background-color:  #3b4cc0;\n",
       "            color:  #f1f1f1;\n",
       "        }    #T_31018724_6920_11e9_9d88_e470b8a7867brow2_col2 {\n",
       "            background-color:  #b40426;\n",
       "            color:  #f1f1f1;\n",
       "        }    #T_31018724_6920_11e9_9d88_e470b8a7867brow2_col3 {\n",
       "            background-color:  #6687ed;\n",
       "            color:  #000000;\n",
       "        }    #T_31018724_6920_11e9_9d88_e470b8a7867brow2_col4 {\n",
       "            background-color:  #f5a081;\n",
       "            color:  #000000;\n",
       "        }    #T_31018724_6920_11e9_9d88_e470b8a7867brow2_col5 {\n",
       "            background-color:  #d2dbe8;\n",
       "            color:  #000000;\n",
       "        }    #T_31018724_6920_11e9_9d88_e470b8a7867brow3_col0 {\n",
       "            background-color:  #92b4fe;\n",
       "            color:  #000000;\n",
       "        }    #T_31018724_6920_11e9_9d88_e470b8a7867brow3_col1 {\n",
       "            background-color:  #f2cbb7;\n",
       "            color:  #000000;\n",
       "        }    #T_31018724_6920_11e9_9d88_e470b8a7867brow3_col2 {\n",
       "            background-color:  #d5dbe5;\n",
       "            color:  #000000;\n",
       "        }    #T_31018724_6920_11e9_9d88_e470b8a7867brow3_col3 {\n",
       "            background-color:  #b40426;\n",
       "            color:  #f1f1f1;\n",
       "        }    #T_31018724_6920_11e9_9d88_e470b8a7867brow3_col4 {\n",
       "            background-color:  #f4987a;\n",
       "            color:  #000000;\n",
       "        }    #T_31018724_6920_11e9_9d88_e470b8a7867brow3_col5 {\n",
       "            background-color:  #d65244;\n",
       "            color:  #000000;\n",
       "        }    #T_31018724_6920_11e9_9d88_e470b8a7867brow4_col0 {\n",
       "            background-color:  #f1ccb8;\n",
       "            color:  #000000;\n",
       "        }    #T_31018724_6920_11e9_9d88_e470b8a7867brow4_col1 {\n",
       "            background-color:  #7a9df8;\n",
       "            color:  #000000;\n",
       "        }    #T_31018724_6920_11e9_9d88_e470b8a7867brow4_col2 {\n",
       "            background-color:  #f08a6c;\n",
       "            color:  #000000;\n",
       "        }    #T_31018724_6920_11e9_9d88_e470b8a7867brow4_col3 {\n",
       "            background-color:  #f7b599;\n",
       "            color:  #000000;\n",
       "        }    #T_31018724_6920_11e9_9d88_e470b8a7867brow4_col4 {\n",
       "            background-color:  #b40426;\n",
       "            color:  #f1f1f1;\n",
       "        }    #T_31018724_6920_11e9_9d88_e470b8a7867brow4_col5 {\n",
       "            background-color:  #ca3b37;\n",
       "            color:  #f1f1f1;\n",
       "        }    #T_31018724_6920_11e9_9d88_e470b8a7867brow5_col0 {\n",
       "            background-color:  #e7d7ce;\n",
       "            color:  #000000;\n",
       "        }    #T_31018724_6920_11e9_9d88_e470b8a7867brow5_col1 {\n",
       "            background-color:  #b1cbfc;\n",
       "            color:  #000000;\n",
       "        }    #T_31018724_6920_11e9_9d88_e470b8a7867brow5_col2 {\n",
       "            background-color:  #f6bda2;\n",
       "            color:  #000000;\n",
       "        }    #T_31018724_6920_11e9_9d88_e470b8a7867brow5_col3 {\n",
       "            background-color:  #d75445;\n",
       "            color:  #000000;\n",
       "        }    #T_31018724_6920_11e9_9d88_e470b8a7867brow5_col4 {\n",
       "            background-color:  #c53334;\n",
       "            color:  #f1f1f1;\n",
       "        }    #T_31018724_6920_11e9_9d88_e470b8a7867brow5_col5 {\n",
       "            background-color:  #b40426;\n",
       "            color:  #f1f1f1;\n",
       "        }</style><table id=\"T_31018724_6920_11e9_9d88_e470b8a7867b\" ><thead>    <tr>        <th class=\"blank level0\" ></th>        <th class=\"col_heading level0 col0\" >Euro</th>        <th class=\"col_heading level0 col1\" >Japanese Yen</th>        <th class=\"col_heading level0 col2\" >U.K. Pound Sterling</th>        <th class=\"col_heading level0 col3\" >U.S. Dollar</th>        <th class=\"col_heading level0 col4\" >Australian Dollar</th>        <th class=\"col_heading level0 col5\" >Indian Rupee</th>    </tr></thead><tbody>\n",
       "                <tr>\n",
       "                        <th id=\"T_31018724_6920_11e9_9d88_e470b8a7867blevel0_row0\" class=\"row_heading level0 row0\" >Euro</th>\n",
       "                        <td id=\"T_31018724_6920_11e9_9d88_e470b8a7867brow0_col0\" class=\"data row0 col0\" >1</td>\n",
       "                        <td id=\"T_31018724_6920_11e9_9d88_e470b8a7867brow0_col1\" class=\"data row0 col1\" >-0.645719</td>\n",
       "                        <td id=\"T_31018724_6920_11e9_9d88_e470b8a7867brow0_col2\" class=\"data row0 col2\" >0.53115</td>\n",
       "                        <td id=\"T_31018724_6920_11e9_9d88_e470b8a7867brow0_col3\" class=\"data row0 col3\" >-0.210587</td>\n",
       "                        <td id=\"T_31018724_6920_11e9_9d88_e470b8a7867brow0_col4\" class=\"data row0 col4\" >0.331588</td>\n",
       "                        <td id=\"T_31018724_6920_11e9_9d88_e470b8a7867brow0_col5\" class=\"data row0 col5\" >0.243851</td>\n",
       "            </tr>\n",
       "            <tr>\n",
       "                        <th id=\"T_31018724_6920_11e9_9d88_e470b8a7867blevel0_row1\" class=\"row_heading level0 row1\" >Japanese Yen</th>\n",
       "                        <td id=\"T_31018724_6920_11e9_9d88_e470b8a7867brow1_col0\" class=\"data row1 col0\" >-0.645719</td>\n",
       "                        <td id=\"T_31018724_6920_11e9_9d88_e470b8a7867brow1_col1\" class=\"data row1 col1\" >1</td>\n",
       "                        <td id=\"T_31018724_6920_11e9_9d88_e470b8a7867brow1_col2\" class=\"data row1 col2\" >-0.970308</td>\n",
       "                        <td id=\"T_31018724_6920_11e9_9d88_e470b8a7867brow1_col3\" class=\"data row1 col3\" >0.210295</td>\n",
       "                        <td id=\"T_31018724_6920_11e9_9d88_e470b8a7867brow1_col4\" class=\"data row1 col4\" >-0.582032</td>\n",
       "                        <td id=\"T_31018724_6920_11e9_9d88_e470b8a7867brow1_col5\" class=\"data row1 col5\" >-0.270123</td>\n",
       "            </tr>\n",
       "            <tr>\n",
       "                        <th id=\"T_31018724_6920_11e9_9d88_e470b8a7867blevel0_row2\" class=\"row_heading level0 row2\" >U.K. Pound Sterling</th>\n",
       "                        <td id=\"T_31018724_6920_11e9_9d88_e470b8a7867brow2_col0\" class=\"data row2 col0\" >0.53115</td>\n",
       "                        <td id=\"T_31018724_6920_11e9_9d88_e470b8a7867brow2_col1\" class=\"data row2 col1\" >-0.970308</td>\n",
       "                        <td id=\"T_31018724_6920_11e9_9d88_e470b8a7867brow2_col2\" class=\"data row2 col2\" >1</td>\n",
       "                        <td id=\"T_31018724_6920_11e9_9d88_e470b8a7867brow2_col3\" class=\"data row2 col3\" >-0.0423027</td>\n",
       "                        <td id=\"T_31018724_6920_11e9_9d88_e470b8a7867brow2_col4\" class=\"data row2 col4\" >0.579213</td>\n",
       "                        <td id=\"T_31018724_6920_11e9_9d88_e470b8a7867brow2_col5\" class=\"data row2 col5\" >0.314681</td>\n",
       "            </tr>\n",
       "            <tr>\n",
       "                        <th id=\"T_31018724_6920_11e9_9d88_e470b8a7867blevel0_row3\" class=\"row_heading level0 row3\" >U.S. Dollar</th>\n",
       "                        <td id=\"T_31018724_6920_11e9_9d88_e470b8a7867brow3_col0\" class=\"data row3 col0\" >-0.210587</td>\n",
       "                        <td id=\"T_31018724_6920_11e9_9d88_e470b8a7867brow3_col1\" class=\"data row3 col1\" >0.210295</td>\n",
       "                        <td id=\"T_31018724_6920_11e9_9d88_e470b8a7867brow3_col2\" class=\"data row3 col2\" >-0.0423027</td>\n",
       "                        <td id=\"T_31018724_6920_11e9_9d88_e470b8a7867brow3_col3\" class=\"data row3 col3\" >1</td>\n",
       "                        <td id=\"T_31018724_6920_11e9_9d88_e470b8a7867brow3_col4\" class=\"data row3 col4\" >0.60701</td>\n",
       "                        <td id=\"T_31018724_6920_11e9_9d88_e470b8a7867brow3_col5\" class=\"data row3 col5\" >0.872862</td>\n",
       "            </tr>\n",
       "            <tr>\n",
       "                        <th id=\"T_31018724_6920_11e9_9d88_e470b8a7867blevel0_row4\" class=\"row_heading level0 row4\" >Australian Dollar</th>\n",
       "                        <td id=\"T_31018724_6920_11e9_9d88_e470b8a7867brow4_col0\" class=\"data row4 col0\" >0.331588</td>\n",
       "                        <td id=\"T_31018724_6920_11e9_9d88_e470b8a7867brow4_col1\" class=\"data row4 col1\" >-0.582032</td>\n",
       "                        <td id=\"T_31018724_6920_11e9_9d88_e470b8a7867brow4_col2\" class=\"data row4 col2\" >0.579213</td>\n",
       "                        <td id=\"T_31018724_6920_11e9_9d88_e470b8a7867brow4_col3\" class=\"data row4 col3\" >0.60701</td>\n",
       "                        <td id=\"T_31018724_6920_11e9_9d88_e470b8a7867brow4_col4\" class=\"data row4 col4\" >1</td>\n",
       "                        <td id=\"T_31018724_6920_11e9_9d88_e470b8a7867brow4_col5\" class=\"data row4 col5\" >0.921475</td>\n",
       "            </tr>\n",
       "            <tr>\n",
       "                        <th id=\"T_31018724_6920_11e9_9d88_e470b8a7867blevel0_row5\" class=\"row_heading level0 row5\" >Indian Rupee</th>\n",
       "                        <td id=\"T_31018724_6920_11e9_9d88_e470b8a7867brow5_col0\" class=\"data row5 col0\" >0.243851</td>\n",
       "                        <td id=\"T_31018724_6920_11e9_9d88_e470b8a7867brow5_col1\" class=\"data row5 col1\" >-0.270123</td>\n",
       "                        <td id=\"T_31018724_6920_11e9_9d88_e470b8a7867brow5_col2\" class=\"data row5 col2\" >0.314681</td>\n",
       "                        <td id=\"T_31018724_6920_11e9_9d88_e470b8a7867brow5_col3\" class=\"data row5 col3\" >0.872862</td>\n",
       "                        <td id=\"T_31018724_6920_11e9_9d88_e470b8a7867brow5_col4\" class=\"data row5 col4\" >0.921475</td>\n",
       "                        <td id=\"T_31018724_6920_11e9_9d88_e470b8a7867brow5_col5\" class=\"data row5 col5\" >1</td>\n",
       "            </tr>\n",
       "    </tbody></table>"
      ],
      "text/plain": [
       "<pandas.io.formats.style.Styler at 0x28c3a7a5eb8>"
      ]
     },
     "execution_count": 8,
     "metadata": {},
     "output_type": "execute_result"
    }
   ],
   "source": [
    "corr = df_subset.corr()\n",
    "corr.style.background_gradient(cmap='coolwarm')"
   ]
  }
 ],
 "metadata": {
  "kernelspec": {
   "display_name": "Python 3",
   "language": "python",
   "name": "python3"
  },
  "language_info": {
   "codemirror_mode": {
    "name": "ipython",
    "version": 3
   },
   "file_extension": ".py",
   "mimetype": "text/x-python",
   "name": "python",
   "nbconvert_exporter": "python",
   "pygments_lexer": "ipython3",
   "version": "3.7.3"
  }
 },
 "nbformat": 4,
 "nbformat_minor": 2
}
