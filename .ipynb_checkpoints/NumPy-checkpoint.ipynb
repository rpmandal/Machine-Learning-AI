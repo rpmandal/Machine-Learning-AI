{
 "cells": [
  {
   "cell_type": "code",
   "execution_count": 3,
   "metadata": {},
   "outputs": [],
   "source": [
    "import numpy as np"
   ]
  },
  {
   "cell_type": "code",
   "execution_count": 5,
   "metadata": {},
   "outputs": [
    {
     "name": "stdout",
     "output_type": "stream",
     "text": [
      "[2 4 5 6 7 8]\n",
      "<class 'numpy.ndarray'>\n"
     ]
    }
   ],
   "source": [
    "array_id = np.array([2,4,5,6,7,8])\n",
    "print(array_id)\n",
    "print(type(array_id))"
   ]
  },
  {
   "cell_type": "code",
   "execution_count": 8,
   "metadata": {},
   "outputs": [
    {
     "name": "stdout",
     "output_type": "stream",
     "text": [
      "[2 4 5 6 7 8]\n",
      "<class 'numpy.ndarray'>\n"
     ]
    }
   ],
   "source": [
    "array_2d = np.array([[2,4,5], [1,6,7,8]])\n",
    "print(array_id)\n",
    "print(type(array_id))"
   ]
  },
  {
   "cell_type": "code",
   "execution_count": 2,
   "metadata": {},
   "outputs": [
    {
     "name": "stdout",
     "output_type": "stream",
     "text": [
      "[[1 2 3]\n",
      " [4 5 6]\n",
      " [7 8 9]]\n"
     ]
    }
   ],
   "source": [
    "import numpy as np\n",
    "list_1 = [1,2,3] \n",
    "list_2 = [4,5,6] \n",
    "list_3 = [7,8,9]\n",
    "array_3d = np.array([list_1,list_2,list_3])\n",
    "print(array_3d)"
   ]
  },
  {
   "cell_type": "code",
   "execution_count": 10,
   "metadata": {},
   "outputs": [
    {
     "name": "stdout",
     "output_type": "stream",
     "text": [
      "[12, 30, 7, 35]\n"
     ]
    }
   ],
   "source": [
    "list_1=[3,6,7,5]\n",
    "list_2=[4,5,1,7]\n",
    "\n",
    "product_list = list(map(lambda x,y : x*y, list_1,list_2))\n",
    "print(product_list)"
   ]
  },
  {
   "cell_type": "code",
   "execution_count": 13,
   "metadata": {},
   "outputs": [
    {
     "name": "stdout",
     "output_type": "stream",
     "text": [
      "[12 30  7 35]\n",
      "[ 7 11  8 12]\n"
     ]
    }
   ],
   "source": [
    "array_1 = np.array(list_1)\n",
    "array_2 = np.array(list_2)\n",
    "array_3 = array_1 * array_2\n",
    "array_4 = array_1 + array_2\n",
    "print(array_3)\n",
    "print(array_4)"
   ]
  },
  {
   "cell_type": "code",
   "execution_count": 16,
   "metadata": {},
   "outputs": [
    {
     "name": "stdout",
     "output_type": "stream",
     "text": [
      "[9, 36, 49, 25]\n",
      "[ 9 36 49 25]\n"
     ]
    }
   ],
   "source": [
    "list_squared = [i**2 for i in list_1]\n",
    "print(list_squared)\n",
    "array_5 = array_1 ** 2\n",
    "print(array_5)"
   ]
  },
  {
   "cell_type": "code",
   "execution_count": 21,
   "metadata": {},
   "outputs": [
    {
     "name": "stdout",
     "output_type": "stream",
     "text": [
      "Help on function ones in module numpy.core.numeric:\n",
      "\n",
      "ones(shape, dtype=None, order='C')\n",
      "    Return a new array of given shape and type, filled with ones.\n",
      "    \n",
      "    Parameters\n",
      "    ----------\n",
      "    shape : int or sequence of ints\n",
      "        Shape of the new array, e.g., ``(2, 3)`` or ``2``.\n",
      "    dtype : data-type, optional\n",
      "        The desired data-type for the array, e.g., `numpy.int8`.  Default is\n",
      "        `numpy.float64`.\n",
      "    order : {'C', 'F'}, optional, default: C\n",
      "        Whether to store multi-dimensional data in row-major\n",
      "        (C-style) or column-major (Fortran-style) order in\n",
      "        memory.\n",
      "    \n",
      "    Returns\n",
      "    -------\n",
      "    out : ndarray\n",
      "        Array of ones with the given shape, dtype, and order.\n",
      "    \n",
      "    See Also\n",
      "    --------\n",
      "    ones_like : Return an array of ones with shape and type of input.\n",
      "    empty : Return a new uninitialized array.\n",
      "    zeros : Return a new array setting values to zero.\n",
      "    full : Return a new array of given shape filled with value.\n",
      "    \n",
      "    \n",
      "    Examples\n",
      "    --------\n",
      "    >>> np.ones(5)\n",
      "    array([ 1.,  1.,  1.,  1.,  1.])\n",
      "    \n",
      "    >>> np.ones((5,), dtype=int)\n",
      "    array([1, 1, 1, 1, 1])\n",
      "    \n",
      "    >>> np.ones((2, 1))\n",
      "    array([[ 1.],\n",
      "           [ 1.]])\n",
      "    \n",
      "    >>> s = (2,2)\n",
      "    >>> np.ones(s)\n",
      "    array([[ 1.,  1.],\n",
      "           [ 1.,  1.]])\n",
      "\n"
     ]
    }
   ],
   "source": [
    "help(np.ones)"
   ]
  },
  {
   "cell_type": "code",
   "execution_count": 32,
   "metadata": {},
   "outputs": [
    {
     "name": "stdout",
     "output_type": "stream",
     "text": [
      "[[1 1 1]\n",
      " [1 1 1]\n",
      " [1 1 1]\n",
      " [1 1 1]\n",
      " [1 1 1]]\n"
     ]
    }
   ],
   "source": [
    "np_array = np.ones((5,3), dtype = np.int)\n",
    "print(np_array)"
   ]
  },
  {
   "cell_type": "code",
   "execution_count": 35,
   "metadata": {},
   "outputs": [
    {
     "name": "stdout",
     "output_type": "stream",
     "text": [
      "[[0 0 0]\n",
      " [0 0 0]\n",
      " [0 0 0]\n",
      " [0 0 0]\n",
      " [0 0 0]]\n"
     ]
    }
   ],
   "source": [
    "np_zeros = np.zeros((5,3), dtype = np.int)\n",
    "print(np_zeros)"
   ]
  },
  {
   "cell_type": "code",
   "execution_count": 36,
   "metadata": {},
   "outputs": [
    {
     "name": "stdout",
     "output_type": "stream",
     "text": [
      "[0. 0. 0. 0. 0.]\n"
     ]
    }
   ],
   "source": [
    "print(np.zeros(5))\n"
   ]
  },
  {
   "cell_type": "code",
   "execution_count": 39,
   "metadata": {},
   "outputs": [
    {
     "name": "stdout",
     "output_type": "stream",
     "text": [
      "[[0.15708878 0.47651505 0.26551435 0.25867644]\n",
      " [0.52154678 0.22609484 0.19107979 0.5171229 ]\n",
      " [0.62342608 0.00199485 0.70621932 0.93217452]]\n"
     ]
    }
   ],
   "source": [
    "print(np.random.random([3,4]))"
   ]
  },
  {
   "cell_type": "code",
   "execution_count": 42,
   "metadata": {},
   "outputs": [
    {
     "name": "stdout",
     "output_type": "stream",
     "text": [
      "[ 1  6 11 16 21 26 31 36 41 46 51 56 61 66 71 76 81 86 91 96]\n"
     ]
    }
   ],
   "source": [
    "print(np.arange(1,100,5))"
   ]
  },
  {
   "cell_type": "code",
   "execution_count": 44,
   "metadata": {},
   "outputs": [
    {
     "name": "stdout",
     "output_type": "stream",
     "text": [
      "[15.    15.125 15.25  15.375 15.5   15.625 15.75  15.875 16.    16.125\n",
      " 16.25  16.375 16.5   16.625 16.75  16.875 17.    17.125 17.25  17.375\n",
      " 17.5   17.625 17.75  17.875 18.   ]\n"
     ]
    }
   ],
   "source": [
    "print(np.linspace(15,18,25))"
   ]
  },
  {
   "cell_type": "code",
   "execution_count": 46,
   "metadata": {},
   "outputs": [
    {
     "name": "stdout",
     "output_type": "stream",
     "text": [
      "3\n"
     ]
    }
   ],
   "source": [
    "print(np.random.randint(3,4))"
   ]
  },
  {
   "cell_type": "code",
   "execution_count": 60,
   "metadata": {},
   "outputs": [
    {
     "name": "stdout",
     "output_type": "stream",
     "text": [
      "[[1 0 0]\n",
      " [0 1 0]\n",
      " [0 0 1]]\n"
     ]
    }
   ],
   "source": [
    "print(np.eye(3, dtype = int))"
   ]
  },
  {
   "cell_type": "code",
   "execution_count": 51,
   "metadata": {},
   "outputs": [
    {
     "name": "stdout",
     "output_type": "stream",
     "text": [
      "[[1 1 1]\n",
      " [1 1 1]\n",
      " [1 1 1]]\n"
     ]
    }
   ],
   "source": [
    "print(np.full([3,3],1))"
   ]
  },
  {
   "cell_type": "code",
   "execution_count": 55,
   "metadata": {},
   "outputs": [
    {
     "name": "stdout",
     "output_type": "stream",
     "text": [
      "[ 5 10 15 20 25 30 35 40 45 50]\n"
     ]
    }
   ],
   "source": [
    "print(np.arange(1*5,11*5,5))"
   ]
  },
  {
   "cell_type": "code",
   "execution_count": 56,
   "metadata": {},
   "outputs": [
    {
     "name": "stdout",
     "output_type": "stream",
     "text": [
      "[0 1]\n"
     ]
    }
   ],
   "source": [
    "arr = np.arange(0,2)\n",
    "print(arr)"
   ]
  },
  {
   "cell_type": "code",
   "execution_count": 58,
   "metadata": {},
   "outputs": [
    {
     "name": "stdout",
     "output_type": "stream",
     "text": [
      "[0 1 0 1 0 1 0 1]\n"
     ]
    }
   ],
   "source": [
    "repeatation = 4\n",
    "print(np.tile(arr,repeatation))"
   ]
  },
  {
   "cell_type": "code",
   "execution_count": 96,
   "metadata": {},
   "outputs": [
    {
     "name": "stdout",
     "output_type": "stream",
     "text": [
      "[[0 1 0 1]\n",
      " [1 0 1 0]\n",
      " [0 1 0 1]\n",
      " [1 0 1 0]]\n"
     ]
    }
   ],
   "source": [
    "x = np.zeros([4,4], dtype = int)\n",
    "x[::2,1::2] = 1\n",
    "x[1::2,::2] = 1\n",
    "print(x)\n"
   ]
  },
  {
   "cell_type": "code",
   "execution_count": 63,
   "metadata": {},
   "outputs": [
    {
     "name": "stdout",
     "output_type": "stream",
     "text": [
      "[array([0, 0, 0, 0])]\n"
     ]
    }
   ],
   "source": [
    "print(list(x[1:2]))"
   ]
  },
  {
   "cell_type": "code",
   "execution_count": 115,
   "metadata": {},
   "outputs": [
    {
     "name": "stdout",
     "output_type": "stream",
     "text": [
      "[[ 1  2  3  4]\n",
      " [ 5  6  7  8]\n",
      " [ 9 10 11 12]\n",
      " [13 14 15 16]]\n"
     ]
    },
    {
     "ename": "TypeError",
     "evalue": "'list' object is not callable",
     "output_type": "error",
     "traceback": [
      "\u001b[1;31m---------------------------------------------------------------------------\u001b[0m",
      "\u001b[1;31mTypeError\u001b[0m                                 Traceback (most recent call last)",
      "\u001b[1;32m<ipython-input-115-8c9f0b9ffbb8>\u001b[0m in \u001b[0;36m<module>\u001b[1;34m\u001b[0m\n\u001b[0;32m      2\u001b[0m \u001b[0marray_n\u001b[0m \u001b[1;33m=\u001b[0m \u001b[0mnp\u001b[0m\u001b[1;33m.\u001b[0m\u001b[0marray\u001b[0m\u001b[1;33m(\u001b[0m\u001b[0mlist\u001b[0m\u001b[1;33m)\u001b[0m\u001b[1;33m\u001b[0m\u001b[1;33m\u001b[0m\u001b[0m\n\u001b[0;32m      3\u001b[0m \u001b[0mprint\u001b[0m\u001b[1;33m(\u001b[0m\u001b[0marray_n\u001b[0m\u001b[1;33m)\u001b[0m\u001b[1;33m\u001b[0m\u001b[1;33m\u001b[0m\u001b[0m\n\u001b[1;32m----> 4\u001b[1;33m \u001b[0mprint\u001b[0m\u001b[1;33m(\u001b[0m\u001b[0mlist\u001b[0m\u001b[1;33m(\u001b[0m\u001b[0marray_n\u001b[0m\u001b[1;33m[\u001b[0m\u001b[1;36m1\u001b[0m\u001b[1;33m:\u001b[0m\u001b[1;33m:\u001b[0m\u001b[1;36m2\u001b[0m\u001b[1;33m]\u001b[0m\u001b[1;33m)\u001b[0m\u001b[1;33m.\u001b[0m\u001b[0mreverse\u001b[0m\u001b[1;33m(\u001b[0m\u001b[1;33m)\u001b[0m\u001b[1;33m)\u001b[0m\u001b[1;33m\u001b[0m\u001b[1;33m\u001b[0m\u001b[0m\n\u001b[0m",
      "\u001b[1;31mTypeError\u001b[0m: 'list' object is not callable"
     ]
    }
   ],
   "source": [
    "list = [[1,2,3,4],[5,6,7,8],[9,10,11,12],[13,14,15,16]]\n",
    "array_n = np.array(list)\n",
    "print(array_n)\n",
    "\n"
   ]
  },
  {
   "cell_type": "code",
   "execution_count": 123,
   "metadata": {},
   "outputs": [
    {
     "name": "stdout",
     "output_type": "stream",
     "text": [
      "[[ 1  2  3  4]\n",
      " [ 5  6  7  8]\n",
      " [ 9 10 11 12]\n",
      " [13 14 15 16]]\n"
     ]
    }
   ],
   "source": [
    "#array_n[1::2,::2] = 0\n",
    "array_n[1::2][0][::-1]\n",
    "array_n[1::2][1][::-1]\n",
    "print(array_n)\n",
    "#print(array_n)\n",
    "#array_n[::2,::2] = 5\n",
    "#print(array_n)"
   ]
  },
  {
   "cell_type": "code",
   "execution_count": 131,
   "metadata": {},
   "outputs": [
    {
     "name": "stdout",
     "output_type": "stream",
     "text": [
      "[[0 1 0 1]\n",
      " [0 1 0 1]\n",
      " [0 1 0 1]\n",
      " [0 1 0 1]]\n",
      "[[0 1 0 1]\n",
      " [0 1 0 1]\n",
      " [0 1 0 1]\n",
      " [0 1 0 1]]\n",
      "[[0 1 0 1]\n",
      " [1 0 1 0]\n",
      " [0 1 0 1]\n",
      " [1 0 1 0]]\n"
     ]
    }
   ],
   "source": [
    "n = 4\n",
    "repeation = n,int(n/2)\n",
    "arr_matrix = np.tile([0,1],repeation)\n",
    "print(arr_matrix)\n",
    "arr_matrix[1::2][::-1]\n",
    "\n",
    "print(arr_matrix)\n",
    "x = np.tile(0, (n, n))\n",
    "x[1::2,::2]=1\n",
    "x[::2,1::2]=1\n",
    "print(x)"
   ]
  },
  {
   "cell_type": "code",
   "execution_count": 137,
   "metadata": {},
   "outputs": [
    {
     "name": "stdout",
     "output_type": "stream",
     "text": [
      "[[0 1 0 1]\n",
      " [1 0 1 0]\n",
      " [0 1 0 1]\n",
      " [1 0 1 0]]\n"
     ]
    }
   ],
   "source": [
    "import numpy as np\n",
    "n = 4\n",
    "np_arr = np.tile(0,(n,n))\n",
    "np_arr[1::2,::2] = 1\n",
    "np_arr[::2,1::2] = 1\n",
    "print(np_arr)"
   ]
  },
  {
   "cell_type": "code",
   "execution_count": 147,
   "metadata": {},
   "outputs": [
    {
     "name": "stdout",
     "output_type": "stream",
     "text": [
      "(1000, 300)\n",
      "float64\n",
      "2\n",
      "8\n"
     ]
    }
   ],
   "source": [
    "rand_array = np.random.random((1000,300))\n",
    "#print(rand_array[1, ])\n",
    "print(rand_array.shape)\n",
    "print(rand_array.dtype)\n",
    "print(rand_array.ndim)\n",
    "print(rand_array.itemsize)"
   ]
  },
  {
   "cell_type": "code",
   "execution_count": 150,
   "metadata": {},
   "outputs": [
    {
     "name": "stdout",
     "output_type": "stream",
     "text": [
      "[[[ 0  1  2  3]\n",
      "  [ 4  5  6  7]\n",
      "  [ 8  9 10 11]]\n",
      "\n",
      " [[12 13 14 15]\n",
      "  [16 17 18 19]\n",
      "  [20 21 22 23]]]\n"
     ]
    }
   ],
   "source": [
    "arr_3d = np.arange(24).reshape(2,3,4)\n",
    "print(arr_3d)"
   ]
  },
  {
   "cell_type": "code",
   "execution_count": 162,
   "metadata": {},
   "outputs": [
    {
     "name": "stdout",
     "output_type": "stream",
     "text": [
      "[[ 2  5  7  5]\n",
      " [ 4  6  8 10]\n",
      " [10 12 15 19]]\n",
      "12\n",
      "[[ 4  6  8 10]\n",
      " [10 12 15 19]]\n",
      "[[ 2  5  7  5]\n",
      " [ 4  6  8 10]]\n",
      "[[ 2  5  7]\n",
      " [ 4  6  8]\n",
      " [10 12 15]]\n",
      "[[10 12 15]]\n",
      "[2 5 7 5]\n",
      "[ 4  6  8 10]\n",
      "[10 12 15 19]\n"
     ]
    }
   ],
   "source": [
    "array_2d = np.array([[2,5,7,5],[4,6,8,10],[10,12,15,19]])\n",
    "print(array_2d)\n",
    "print(array_2d[2, 1])\n",
    "print(array_2d[1:])\n",
    "print(array_2d[:2])\n",
    "print(array_2d[:,:3])\n",
    "print(array_2d[2:,:3])\n",
    "for row in array_2d:\n",
    "    print(row)\n"
   ]
  },
  {
   "cell_type": "code",
   "execution_count": 189,
   "metadata": {},
   "outputs": [
    {
     "name": "stdout",
     "output_type": "stream",
     "text": [
      "(3, 4)\n",
      "4\n",
      "2\n",
      "[[ 5]\n",
      " [ 6]\n",
      " [12]]\n",
      "[[ 7]\n",
      " [ 8]\n",
      " [15]]\n"
     ]
    }
   ],
   "source": [
    "n = array_2d.shape\n",
    "print(n)\n",
    "print(n[1])\n",
    "print(n[1]-2)\n",
    "print(array_2d[:,1:2])\n",
    "print(array_2d[:,(n[1]-2):(n[1]-1)])"
   ]
  },
  {
   "cell_type": "code",
   "execution_count": 29,
   "metadata": {},
   "outputs": [
    {
     "name": "stdout",
     "output_type": "stream",
     "text": [
      "No of rows:  3\n",
      "No of columns:  3\n",
      "\n",
      "the array :\n",
      " [[5 6 7]\n",
      " [7 6 5]\n",
      " [0 8 7]]\n",
      "\n",
      " slice 1 : \n",
      " [[6]\n",
      " [6]\n",
      " [8]]\n",
      "\n",
      " slice 2 : \n",
      " [[5 6 7]]\n",
      "\n",
      " slice 3 : \n",
      " [7 5 7]\n",
      "\n",
      " slice 4 : \n",
      " [[5 6]\n",
      " [7 6]\n",
      " [0 8]]\n",
      "\n",
      "First column : \n",
      " [5 7 0]\n",
      "\n",
      "First row : \n",
      " [5 6 7]\n",
      "\n",
      "Lst column : \n",
      " [[7]\n",
      " [5]\n",
      " [7]]\n",
      "\n",
      "Lst row : \n",
      " [0 8 7]\n"
     ]
    }
   ],
   "source": [
    "input_list = [[5,6,7],[7,6,5],[0,8,7]]\n",
    "\n",
    "array_2d =np.array(input_list) \n",
    "print(\"No of rows: \",array_2d.shape[0])\n",
    "print(\"No of columns: \",array_2d.shape[1])\n",
    "print(\"\\nthe array :\\n\" , array_2d)\n",
    "print(\"\\n slice 1 : \\n\",array_2d[:,1:2])\n",
    "print(\"\\n slice 2 : \\n\",array_2d[:1,:])\n",
    "print(\"\\n slice 3 : \\n\",array_2d[:,2])\n",
    "print(\"\\n slice 4 : \\n\",array_2d[:,:2])\n",
    "print(\"\\nFirst column : \\n\" , array_2d[:,0])\n",
    "print(\"\\nFirst row : \\n\" , array_2d[:1,:][0])\n",
    "print(\"\\nLst column : \\n\" , array_2d[:,-1:])\n",
    "print(\"\\nLst row : \\n\" , array_2d[-1:,:][0])"
   ]
  },
  {
   "cell_type": "code",
   "execution_count": 8,
   "metadata": {},
   "outputs": [
    {
     "name": "stdout",
     "output_type": "stream",
     "text": [
      "[[11 12 13 14]\n",
      " [21 22 23 24]\n",
      " [31 32 33 34]]\n",
      "[11 21 31]\n",
      "[11 12 13 14]\n",
      "[14 24 34]\n",
      "[31 32 33 34]\n"
     ]
    }
   ],
   "source": [
    "input_list = [[11,12,13,14],[21,22,23,24],[31,32,33,34]]\n",
    "\n",
    "array_2d =np.array(input_list) \n",
    "print(array_2d)\n",
    "col_first = array_2d[:,0]\n",
    "row_first = array_2d[1,:][0]\n",
    "col_last = array_2d[:,-1]\n",
    "row_last = array_2d[-1:,:][0]\n",
    "print(col_first)\n",
    "print(row_first)\n",
    "print(col_last)\n",
    "print(row_last)"
   ]
  },
  {
   "cell_type": "code",
   "execution_count": 47,
   "metadata": {},
   "outputs": [
    {
     "name": "stdout",
     "output_type": "stream",
     "text": [
      "arr beofore transpose : \n",
      " [[ 0  1  2  3]\n",
      " [ 4  5  6  7]\n",
      " [ 8  9 10 11]]\n",
      "arr after transpose : \n",
      " [[ 0  4  8]\n",
      " [ 1  5  9]\n",
      " [ 2  6 10]\n",
      " [ 3  7 11]]\n"
     ]
    }
   ],
   "source": [
    "arr = np.arange(0,12).reshape(3,4)\n",
    "print(\"arr beofore transpose : \\n\",arr)\n",
    "print(\"arr after transpose : \\n\",arr.T)\n"
   ]
  },
  {
   "cell_type": "code",
   "execution_count": 56,
   "metadata": {},
   "outputs": [
    {
     "name": "stdout",
     "output_type": "stream",
     "text": [
      "arr_1 : \n",
      " [[ 0  1  2  3]\n",
      " [ 4  5  6  7]\n",
      " [ 8  9 10 11]]\n",
      "arr_2 : \n",
      " [[12 13 14 15]\n",
      " [16 17 18 19]\n",
      " [20 21 22 23]\n",
      " [24 25 26 27]]\n",
      "arr_vstack : \n",
      " [[ 0  1  2  3]\n",
      " [ 4  5  6  7]\n",
      " [ 8  9 10 11]\n",
      " [12 13 14 15]\n",
      " [16 17 18 19]\n",
      " [20 21 22 23]\n",
      " [24 25 26 27]]\n"
     ]
    }
   ],
   "source": [
    "arr_1 = np.arange(12).reshape(3,4)\n",
    "arr_2 = np.arange(12,28).reshape(4,4)\n",
    "print(\"arr_1 : \\n\",arr_1)\n",
    "print(\"arr_2 : \\n\",arr_2)\n",
    "arr_vstack = np.vstack((arr_1,arr_2))\n",
    "print(\"arr_vstack : \\n\",arr_vstack)\n"
   ]
  },
  {
   "cell_type": "code",
   "execution_count": 60,
   "metadata": {},
   "outputs": [
    {
     "name": "stdout",
     "output_type": "stream",
     "text": [
      "arr_1 : \n",
      " [[ 0  1  2]\n",
      " [ 3  4  5]\n",
      " [ 6  7  8]\n",
      " [ 9 10 11]]\n",
      "arr_2 : \n",
      " [[12 13 14 15 16]\n",
      " [17 18 19 20 21]\n",
      " [22 23 24 25 26]\n",
      " [27 28 29 30 31]]\n",
      "arr_vstack : \n",
      " [[ 0  1  2 12 13 14 15 16]\n",
      " [ 3  4  5 17 18 19 20 21]\n",
      " [ 6  7  8 22 23 24 25 26]\n",
      " [ 9 10 11 27 28 29 30 31]]\n"
     ]
    }
   ],
   "source": [
    "arr_1 = np.arange(12).reshape(4,3)\n",
    "arr_2 = np.arange(12,32).reshape(4,5)\n",
    "print(\"arr_1 : \\n\",arr_1)\n",
    "print(\"arr_2 : \\n\",arr_2)\n",
    "arr_hstack = np.hstack((arr_1,arr_2))\n",
    "print(\"arr_vstack : \\n\",arr_hstack)"
   ]
  },
  {
   "cell_type": "code",
   "execution_count": 64,
   "metadata": {},
   "outputs": [
    {
     "name": "stdout",
     "output_type": "stream",
     "text": [
      "[[1 2]\n",
      " [5 6]]\n",
      "[[3 4]\n",
      " [7 8]]\n",
      "[[ 9 10 11 12]]\n",
      "[[1 2 3 4]\n",
      " [5 6 7 8]]\n"
     ]
    }
   ],
   "source": [
    "list_1 = [[1, 2],[5, 6]]\n",
    "list_2 = [[3, 4],[7, 8]]\n",
    "list_3 = [[9, 10, 11, 12]]\n",
    "\n",
    "arr_1 = np.array(list_1)\n",
    "arr_2 = np.array(list_2)\n",
    "arr_3 = np.array(list_3)\n",
    "print(arr_1)\n",
    "print(arr_2)\n",
    "print(arr_3)\n",
    "arr_hstack = np.hstack((arr_1,arr_2))\n",
    "print(arr_hstack)\n"
   ]
  }
 ],
 "metadata": {
  "kernelspec": {
   "display_name": "Python 3",
   "language": "python",
   "name": "python3"
  },
  "language_info": {
   "codemirror_mode": {
    "name": "ipython",
    "version": 3
   },
   "file_extension": ".py",
   "mimetype": "text/x-python",
   "name": "python",
   "nbconvert_exporter": "python",
   "pygments_lexer": "ipython3",
   "version": "3.7.1"
  }
 },
 "nbformat": 4,
 "nbformat_minor": 2
}
