{
 "cells": [
  {
   "cell_type": "code",
   "execution_count": 72,
   "metadata": {},
   "outputs": [],
   "source": [
    "import re\n",
    "from collections import Counter"
   ]
  },
  {
   "cell_type": "code",
   "execution_count": 73,
   "metadata": {},
   "outputs": [],
   "source": [
    "def words(document):\n",
    "    return re.findall(\"\\w+\",document.lower())"
   ]
  },
  {
   "cell_type": "code",
   "execution_count": 74,
   "metadata": {},
   "outputs": [
    {
     "name": "stdout",
     "output_type": "stream",
     "text": [
      "79809\n"
     ]
    }
   ],
   "source": [
    "#Let's read the file\n",
    "all_words = Counter(words(open(\"big.txt\").read()))\n",
    "#file_txt = file.readlines()\n",
    "print(all_words['the'])"
   ]
  },
  {
   "cell_type": "code",
   "execution_count": 75,
   "metadata": {},
   "outputs": [
    {
     "data": {
      "text/plain": [
       "[('the', 79809),\n",
       " ('of', 40024),\n",
       " ('and', 38312),\n",
       " ('to', 28765),\n",
       " ('in', 22023),\n",
       " ('a', 21124),\n",
       " ('that', 12512),\n",
       " ('he', 12401),\n",
       " ('was', 11410),\n",
       " ('it', 10681)]"
      ]
     },
     "execution_count": 75,
     "metadata": {},
     "output_type": "execute_result"
    }
   ],
   "source": [
    "all_words.most_common(10)"
   ]
  },
  {
   "cell_type": "code",
   "execution_count": 192,
   "metadata": {},
   "outputs": [],
   "source": [
    "def edit_one(word):\n",
    "    \"Creating all edits that are one edit away from `word`.\"\n",
    "    alphabets = \"abcdefghijklmnopqrstuvwxyz\"\n",
    "    splits = [(word[:i],word[i:]) for i in range(len(word)+1)]\n",
    "   # print(\"splits : \",splits)\n",
    "    deletes = [(left+right[1:]) for left,right in splits if right]\n",
    "   # print(\"\\ndeletes : \" ,deletes)\n",
    "    inserts = [left + c + right for left,right in splits for c in alphabets]\n",
    "   # print(\"\\n\\ninserts : \",inserts)\n",
    "    replaces = [left + c + right[1:] for left,right in splits if right for c in alphabets]\n",
    "   # print(\"\\n\\nreplaces : \",replaces)\n",
    "    transposes = [left + right[1] + right[0] + right[2:] for left,right in splits if len(right)>1]\n",
    "    #print(\"\\n\\ntransposes : \",transposes)\n",
    "    return set(deletes + inserts + replaces + transposes)"
   ]
  },
  {
   "cell_type": "code",
   "execution_count": 164,
   "metadata": {},
   "outputs": [],
   "source": [
    "def edit_two(word):\n",
    "    return(e2 for e1 in edit_one(word) for e2 in edit_one(e1))"
   ]
  },
  {
   "cell_type": "code",
   "execution_count": 170,
   "metadata": {},
   "outputs": [],
   "source": [
    "def known(words):\n",
    "    return(set(word for word in words if word in  all_words))"
   ]
  },
  {
   "cell_type": "code",
   "execution_count": 193,
   "metadata": {},
   "outputs": [],
   "source": [
    "def correction_prediction(word):\n",
    "    #return(known([word]) or edit_one(word) or edit_two(word) or [word])\n",
    "    return (known([word]) or known(edit_one(word)) or known(edit_two(word)) or [word])"
   ]
  },
  {
   "cell_type": "code",
   "execution_count": 242,
   "metadata": {},
   "outputs": [],
   "source": [
    "def prob(word,N=sum(all_words.values())):\n",
    "    #pobability of the word : Frequency of the word/total no of words\n",
    "    #print(N)  \n",
    "    #print(all_words[word])\n",
    "    #print(word)\n",
    "    #print(all_words)\n",
    "    return(all_words[word]/N)"
   ]
  },
  {
   "cell_type": "code",
   "execution_count": 225,
   "metadata": {},
   "outputs": [
    {
     "name": "stdout",
     "output_type": "stream",
     "text": [
      "336\n",
      "{'msonney', 'monvney', 'gonney', 'mlonney', 'zmonney', 'monnely', 'monnbey', 'mogney', 'monnay', 'mconney', 'mojnney', 'monnevy', 'moenney', 'monnery', 'monneyi', 'monrey', 'mnoney', 'monnemy', 'mjonney', 'maonney', 'monfey', 'monnexy', 'monneyp', 'monnen', 'mxnney', 'xonney', 'monnky', 'monneyv', 'monnty', 'mononey', 'monnyy', 'meonney', 'moknney', 'monnyey', 'monneu', 'monnmy', 'umonney', 'monnejy', 'monnhy', 'monnpy', 'monneyw', 'fmonney', 'mmonney', 'monzey', 'monneey', 'mondey', 'muonney', 'mooney', 'mondney', 'mknney', 'moznney', 'monneyy', 'rmonney', 'monnaey', 'fonney', 'monyney', 'emonney', 'vmonney', 'kmonney', 'monnjy', 'monntey', 'mnnney', 'monwey', 'monneyz', 'monnsy', 'monneyo', 'myonney', 'bonney', 'yonney', 'monaney', 'honney', 'monnhey', 'modney', 'monneyq', 'xmonney', 'monneyd', 'morney', 'monwney', 'monniey', 'monner', 'monneqy', 'moneey', 'monneyx', 'imonney', 'monnes', 'moynney', 'monnoey', 'mpnney', 'monsney', 'monhey', 'monnrey', 'monnmey', 'mwnney', 'monhney', 'moqnney', 'moanney', 'ronney', 'monyey', 'mosney', 'monnem', 'monnuy', 'monneyg', 'monfney', 'monnef', 'monnfy', 'moncey', 'movnney', 'bmonney', 'mdnney', 'mnney', 'ymonney', 'monley', 'monmey', 'wonney', 'monnny', 'montey', 'oonney', 'mornney', 'monnee', 'monneyk', 'mofney', 'onney', 'monned', 'monqey', 'monuney', 'monncey', 'monnry', 'monnety', 'conney', 'mynney', 'mqonney', 'monkey', 'mnonney', 'monneq', 'moeney', 'monsey', 'mponney', 'monneyu', 'monncy', 'monoey', 'monnecy', 'jmonney', 'monnzey', 'monnew', 'monndey', 'monjney', 'monneby', 'mokney', 'mgonney', 'monnezy', 'mosnney', 'monnewy', 'monneyr', 'mfnney', 'mhonney', 'mvnney', 'monneo', 'monny', 'mognney', 'mdonney', 'motney', 'mlnney', 'qmonney', 'smonney', 'mobnney', 'monnec', 'mohnney', 'moxnney', 'mouney', 'monrney', 'monneyn', 'mowney', 'monneym', 'molnney', 'monnzy', 'monxey', 'monneh', 'monnxey', 'monnegy', 'mocney', 'monnsey', 'monnev', 'mohney', 'amonney', 'monbney', 'wmonney', 'moiney', 'qonney', 'jonney', 'monxney', 'monnye', 'mobney', 'mmnney', 'omnney', 'monmney', 'monbey', 'monneay', 'monniy', 'nmonney', 'ionney', 'monnly', 'moqney', 'monnej', 'monneoy', 'mrnney', 'monnley', 'menney', 'monvey', 'monneuy', 'uonney', 'zonney', 'motnney', 'monnwy', 'vonney', 'monzney', 'monneky', 'mounney', 'monneyl', 'mojney', 'mtnney', 'monnby', 'omonney', 'monngey', 'monnesy', 'money', 'monnxy', 'monne', 'monnfey', 'munney', 'hmonney', 'mofnney', 'monneiy', 'molney', 'ponney', 'mopnney', 'monpney', 'tonney', 'mxonney', 'mznney', 'monnuey', 'monneye', 'mongney', 'momney', 'mopney', 'montney', 'monneya', 'monnqy', 'konney', 'monnpey', 'movney', 'monnep', 'monnoy', 'monneys', 'monneyc', 'monneyh', 'moonney', 'mzonney', 'monneyt', 'moyney', 'monnedy', 'monnvy', 'lmonney', 'monnney', 'eonney', 'momnney', 'monnet', 'mbonney', 'monqney', 'cmonney', 'monnek', 'mjnney', 'monney', 'mionney', 'aonney', 'monaey', 'monngy', 'modnney', 'donney', 'monnea', 'moncney', 'monneg', 'monnei', 'nonney', 'monjey', 'monnefy', 'mwonney', 'moaney', 'monnepy', 'pmonney', 'mgnney', 'monnehy', 'mocnney', 'dmonney', 'tmonney', 'mronney', 'monneyj', 'mcnney', 'monnel', 'moxney', 'monkney', 'msnney', 'monndy', 'mhnney', 'monnwey', 'monpey', 'monnjey', 'monneyb', 'mozney', 'mtonney', 'monnvey', 'monnez', 'moniney', 'lonney', 'manney', 'monnex', 'monneny', 'moinney', 'monneyf', 'mqnney', 'moniey', 'mvonney', 'monnqey', 'sonney', 'mongey', 'monlney', 'mbnney', 'moneney', 'monnkey', 'mownney', 'minney', 'monneb', 'mkonney', 'monuey', 'mfonney', 'moneny', 'gmonney'}\n"
     ]
    }
   ],
   "source": [
    "print(len(edit_one(\"monney\")))\n",
    "print(edit_one(\"monney\"))"
   ]
  },
  {
   "cell_type": "code",
   "execution_count": 230,
   "metadata": {},
   "outputs": [
    {
     "name": "stdout",
     "output_type": "stream",
     "text": [
      "2\n",
      "{'monkey', 'money'}\n"
     ]
    }
   ],
   "source": [
    "print(len(known(edit_one(\"monney\"))))\n",
    "print(known(edit_one(\"monney\")))"
   ]
  },
  {
   "cell_type": "code",
   "execution_count": 238,
   "metadata": {},
   "outputs": [
    {
     "name": "stdout",
     "output_type": "stream",
     "text": [
      "51013\n",
      "{'morley', 'donne', 'motley', 'monkey', 'moines', 'monkeys', 'tonne', 'convey', 'bonnet', 'honey', 'bonne', 'donkey', 'money', 'monday', 'manner', 'moaned', 'manned', 'monger', 'olney', 'donned', 'bonny'}\n"
     ]
    }
   ],
   "source": [
    "print(len(set(edit_two(\"monney\"))))\n",
    "print(known(edit_two(\"monney\")))"
   ]
  },
  {
   "cell_type": "code",
   "execution_count": 240,
   "metadata": {},
   "outputs": [
    {
     "name": "stdout",
     "output_type": "stream",
     "text": [
      "{'monkey', 'money'}\n"
     ]
    }
   ],
   "source": [
    "print(correction_prediction(\"monney\"))"
   ]
  },
  {
   "cell_type": "code",
   "execution_count": 245,
   "metadata": {},
   "outputs": [
    {
     "name": "stdout",
     "output_type": "stream",
     "text": [
      "0.0002922233626303688\n",
      "5.378344097491451e-06\n"
     ]
    }
   ],
   "source": [
    "#lets check probability\n",
    "print(prob(\"money\"))\n",
    "print(prob(\"monkey\"))"
   ]
  },
  {
   "cell_type": "code",
   "execution_count": 266,
   "metadata": {},
   "outputs": [],
   "source": [
    "\"Print the most probable spelling correction for `word` out of all the `possible_corrections`\"\n",
    "\n",
    "def rectify(word):\n",
    "    correct_word = max(correction_prediction(word),key=prob)\n",
    "    #print(correct_word)\n",
    "    if correct_word != word:\n",
    "        return \"do you mean \"+ correct_word+\"?\"\n",
    "    else:\n",
    "        return word\n",
    "    "
   ]
  },
  {
   "cell_type": "code",
   "execution_count": 1,
   "metadata": {},
   "outputs": [
    {
     "ename": "NameError",
     "evalue": "name 'rectify' is not defined",
     "output_type": "error",
     "traceback": [
      "\u001b[1;31m---------------------------------------------------------------------------\u001b[0m",
      "\u001b[1;31mNameError\u001b[0m                                 Traceback (most recent call last)",
      "\u001b[1;32m<ipython-input-1-a35274414cbb>\u001b[0m in \u001b[0;36m<module>\u001b[1;34m\u001b[0m\n\u001b[1;32m----> 1\u001b[1;33m \u001b[0mrectify\u001b[0m\u001b[1;33m(\u001b[0m\u001b[1;34m\"trnsfr\"\u001b[0m\u001b[1;33m)\u001b[0m\u001b[1;33m\u001b[0m\u001b[1;33m\u001b[0m\u001b[0m\n\u001b[0m",
      "\u001b[1;31mNameError\u001b[0m: name 'rectify' is not defined"
     ]
    }
   ],
   "source": [
    "rectify(\"trnsfr\")"
   ]
  },
  {
   "cell_type": "code",
   "execution_count": null,
   "metadata": {},
   "outputs": [],
   "source": []
  },
  {
   "cell_type": "code",
   "execution_count": null,
   "metadata": {},
   "outputs": [],
   "source": []
  },
  {
   "cell_type": "code",
   "execution_count": null,
   "metadata": {},
   "outputs": [],
   "source": []
  },
  {
   "cell_type": "code",
   "execution_count": null,
   "metadata": {},
   "outputs": [],
   "source": []
  },
  {
   "cell_type": "code",
   "execution_count": null,
   "metadata": {},
   "outputs": [],
   "source": []
  },
  {
   "cell_type": "code",
   "execution_count": null,
   "metadata": {},
   "outputs": [],
   "source": []
  }
 ],
 "metadata": {
  "kernelspec": {
   "display_name": "Python 3",
   "language": "python",
   "name": "python3"
  },
  "language_info": {
   "codemirror_mode": {
    "name": "ipython",
    "version": 3
   },
   "file_extension": ".py",
   "mimetype": "text/x-python",
   "name": "python",
   "nbconvert_exporter": "python",
   "pygments_lexer": "ipython3",
   "version": "3.7.4"
  }
 },
 "nbformat": 4,
 "nbformat_minor": 2
}
