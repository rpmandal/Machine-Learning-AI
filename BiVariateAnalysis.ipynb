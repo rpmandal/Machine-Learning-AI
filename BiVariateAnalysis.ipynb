{
 "cells": [
  {
   "cell_type": "code",
   "execution_count": 5,
   "metadata": {},
   "outputs": [],
   "source": [
    "import numpy as np\n",
    "import pandas as pd\n",
    "import seaborn as sns\n",
    "import matplotlib.pyplot as plt\n",
    "\n",
    "df = pd.read_csv('C:/Python/Missing_Values/nas.csv')\n",
    "# Taking a subset of Mother's literacy and Siblings column\n",
    "\n",
    "df_temp = df[(df['Mother.edu']=='Illiterate')]\n",
    "df_M_Illeterate_Sib = df_temp[['Mother.edu','Siblings']]"
   ]
  },
  {
   "cell_type": "code",
   "execution_count": 7,
   "metadata": {},
   "outputs": [
    {
     "name": "stdout",
     "output_type": "stream",
     "text": [
      "avg :  1.6666666666666667\n",
      "avg_round :  2\n"
     ]
    }
   ],
   "source": [
    "a = 1\n",
    "b = 2\n",
    "c = 2\n",
    "avg = (a+b+c)/3\n",
    "avg_round = round((a+b+c)/3)\n",
    "print('avg : ', avg)\n",
    "print('avg_round : ', avg_round)"
   ]
  }
 ],
 "metadata": {
  "kernelspec": {
   "display_name": "Python 3",
   "language": "python",
   "name": "python3"
  },
  "language_info": {
   "codemirror_mode": {
    "name": "ipython",
    "version": 3
   },
   "file_extension": ".py",
   "mimetype": "text/x-python",
   "name": "python",
   "nbconvert_exporter": "python",
   "pygments_lexer": "ipython3",
   "version": "3.7.3"
  }
 },
 "nbformat": 4,
 "nbformat_minor": 2
}
