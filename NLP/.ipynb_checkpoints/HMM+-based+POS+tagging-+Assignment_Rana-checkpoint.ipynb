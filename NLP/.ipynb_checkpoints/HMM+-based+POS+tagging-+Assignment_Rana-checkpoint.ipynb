{
 "cells": [
  {
   "cell_type": "markdown",
   "metadata": {},
   "source": [
    "## POS tagging using modified Viterbi"
   ]
  },
  {
   "cell_type": "markdown",
   "metadata": {},
   "source": [
    "### Data Preparation"
   ]
  },
  {
   "cell_type": "code",
   "execution_count": 24,
   "metadata": {},
   "outputs": [],
   "source": [
    "#Importing required libraries\n",
    "\n",
    "import numpy as np\n",
    "import pandas as pd\n",
    "import seaborn as sns\n",
    "import matplotlib.pyplot as plt\n",
    "import re, nltk,time,pprint,random, requests\n",
    "from collections import Counter\n",
    "from nltk.tokenize import word_tokenize\n",
    "from sklearn.model_selection import train_test_split\n"
   ]
  },
  {
   "cell_type": "code",
   "execution_count": 25,
   "metadata": {},
   "outputs": [
    {
     "name": "stderr",
     "output_type": "stream",
     "text": [
      "[nltk_data] Downloading package treebank to\n",
      "[nltk_data]     C:\\Users\\home\\AppData\\Roaming\\nltk_data...\n",
      "[nltk_data]   Package treebank is already up-to-date!\n",
      "[nltk_data] Downloading package universal_tagset to\n",
      "[nltk_data]     C:\\Users\\home\\AppData\\Roaming\\nltk_data...\n",
      "[nltk_data]   Package universal_tagset is already up-to-date!\n"
     ]
    },
    {
     "data": {
      "text/plain": [
       "True"
      ]
     },
     "execution_count": 25,
     "metadata": {},
     "output_type": "execute_result"
    }
   ],
   "source": [
    "#downloading treebank and universal_tagset\n",
    "nltk.download('treebank')\n",
    "nltk.download('universal_tagset')"
   ]
  },
  {
   "cell_type": "code",
   "execution_count": 9,
   "metadata": {},
   "outputs": [],
   "source": [
    "\n",
    "#nltk_data = list(nltk.corpus.treebank.tagged_sents(tagset='universal'))"
   ]
  },
  {
   "cell_type": "markdown",
   "metadata": {},
   "source": [
    "#### Data Preparation - Start"
   ]
  },
  {
   "cell_type": "code",
   "execution_count": 22,
   "metadata": {},
   "outputs": [
    {
     "name": "stdout",
     "output_type": "stream",
     "text": [
      "['Android is a mobile operating system developed by Google.\\n', 'Android has been the best-selling OS worldwide on smartphones since 2011 and on tablets since 2013.\\n', \"Google and Twitter made a deal in 2015 that gave Google access to Twitter's firehose.\\n\", 'Twitter is an online news and social networking service on which users post and interact with messages known as tweets.\\n', 'Before entering politics, Donald Trump was a domineering businessman and a television personality.\\n', 'The 2018 FIFA World Cup is the 21st FIFA World Cup, an international football tournament contested once every four years.\\n', 'This is the first World Cup to be held in Eastern Europe and the 11th time that it has been held in Europe.\\n', 'Show me the cheapest round trips from Dallas to Atlanta\\n', 'I would like to see flights from Denver to Philadelphia.\\n', 'Show me the price of the flights leaving Atlanta at about 3 in the afternoon and arriving in San Francisco.\\n', 'NASA invited social media users to experience the launch of ICESAT-2 Satellite.\\n', '\\n', '\\n', '\\n']\n"
     ]
    }
   ],
   "source": [
    "#Opening the input file to copy the text in a variable for further processing\n",
    "input_file = open(\"Test_sentences.txt\",\"r\")\n",
    "text=input_file.readlines()\n",
    "input_file.close()\n",
    "print(text)\n"
   ]
  },
  {
   "cell_type": "code",
   "execution_count": 23,
   "metadata": {},
   "outputs": [
    {
     "data": {
      "text/plain": [
       "[['Android',\n",
       "  'is',\n",
       "  'a',\n",
       "  'mobile',\n",
       "  'operating',\n",
       "  'system',\n",
       "  'developed',\n",
       "  'by',\n",
       "  'Google',\n",
       "  '.'],\n",
       " ['Android',\n",
       "  'has',\n",
       "  'been',\n",
       "  'the',\n",
       "  'best-selling',\n",
       "  'OS',\n",
       "  'worldwide',\n",
       "  'on',\n",
       "  'smartphones',\n",
       "  'since',\n",
       "  '2011',\n",
       "  'and',\n",
       "  'on',\n",
       "  'tablets',\n",
       "  'since',\n",
       "  '2013',\n",
       "  '.'],\n",
       " ['Google',\n",
       "  'and',\n",
       "  'Twitter',\n",
       "  'made',\n",
       "  'a',\n",
       "  'deal',\n",
       "  'in',\n",
       "  '2015',\n",
       "  'that',\n",
       "  'gave',\n",
       "  'Google',\n",
       "  'access',\n",
       "  'to',\n",
       "  'Twitter',\n",
       "  \"'s\",\n",
       "  'firehose',\n",
       "  '.'],\n",
       " ['Twitter',\n",
       "  'is',\n",
       "  'an',\n",
       "  'online',\n",
       "  'news',\n",
       "  'and',\n",
       "  'social',\n",
       "  'networking',\n",
       "  'service',\n",
       "  'on',\n",
       "  'which',\n",
       "  'users',\n",
       "  'post',\n",
       "  'and',\n",
       "  'interact',\n",
       "  'with',\n",
       "  'messages',\n",
       "  'known',\n",
       "  'as',\n",
       "  'tweets',\n",
       "  '.'],\n",
       " ['Before',\n",
       "  'entering',\n",
       "  'politics',\n",
       "  ',',\n",
       "  'Donald',\n",
       "  'Trump',\n",
       "  'was',\n",
       "  'a',\n",
       "  'domineering',\n",
       "  'businessman',\n",
       "  'and',\n",
       "  'a',\n",
       "  'television',\n",
       "  'personality',\n",
       "  '.'],\n",
       " ['The',\n",
       "  '2018',\n",
       "  'FIFA',\n",
       "  'World',\n",
       "  'Cup',\n",
       "  'is',\n",
       "  'the',\n",
       "  '21st',\n",
       "  'FIFA',\n",
       "  'World',\n",
       "  'Cup',\n",
       "  ',',\n",
       "  'an',\n",
       "  'international',\n",
       "  'football',\n",
       "  'tournament',\n",
       "  'contested',\n",
       "  'once',\n",
       "  'every',\n",
       "  'four',\n",
       "  'years',\n",
       "  '.'],\n",
       " ['This',\n",
       "  'is',\n",
       "  'the',\n",
       "  'first',\n",
       "  'World',\n",
       "  'Cup',\n",
       "  'to',\n",
       "  'be',\n",
       "  'held',\n",
       "  'in',\n",
       "  'Eastern',\n",
       "  'Europe',\n",
       "  'and',\n",
       "  'the',\n",
       "  '11th',\n",
       "  'time',\n",
       "  'that',\n",
       "  'it',\n",
       "  'has',\n",
       "  'been',\n",
       "  'held',\n",
       "  'in',\n",
       "  'Europe',\n",
       "  '.'],\n",
       " ['Show',\n",
       "  'me',\n",
       "  'the',\n",
       "  'cheapest',\n",
       "  'round',\n",
       "  'trips',\n",
       "  'from',\n",
       "  'Dallas',\n",
       "  'to',\n",
       "  'Atlanta'],\n",
       " ['I',\n",
       "  'would',\n",
       "  'like',\n",
       "  'to',\n",
       "  'see',\n",
       "  'flights',\n",
       "  'from',\n",
       "  'Denver',\n",
       "  'to',\n",
       "  'Philadelphia',\n",
       "  '.'],\n",
       " ['Show',\n",
       "  'me',\n",
       "  'the',\n",
       "  'price',\n",
       "  'of',\n",
       "  'the',\n",
       "  'flights',\n",
       "  'leaving',\n",
       "  'Atlanta',\n",
       "  'at',\n",
       "  'about',\n",
       "  '3',\n",
       "  'in',\n",
       "  'the',\n",
       "  'afternoon',\n",
       "  'and',\n",
       "  'arriving',\n",
       "  'in',\n",
       "  'San',\n",
       "  'Francisco',\n",
       "  '.'],\n",
       " ['NASA',\n",
       "  'invited',\n",
       "  'social',\n",
       "  'media',\n",
       "  'users',\n",
       "  'to',\n",
       "  'experience',\n",
       "  'the',\n",
       "  'launch',\n",
       "  'of',\n",
       "  'ICESAT-2',\n",
       "  'Satellite',\n",
       "  '.'],\n",
       " [],\n",
       " [],\n",
       " []]"
      ]
     },
     "execution_count": 23,
     "metadata": {},
     "output_type": "execute_result"
    }
   ],
   "source": [
    "#replacing the newline characters to blank and doing word tokenization\n",
    "text=[word_tokenize(newline.replace(\"\\n\",\"\")) for newline in text]\n",
    "text"
   ]
  },
  {
   "cell_type": "code",
   "execution_count": 17,
   "metadata": {},
   "outputs": [
    {
     "data": {
      "text/plain": [
       "['Android',\n",
       " 'is',\n",
       " 'a',\n",
       " 'mobile',\n",
       " 'operating',\n",
       " 'system',\n",
       " 'developed',\n",
       " 'by',\n",
       " 'Google',\n",
       " '.',\n",
       " 'Android',\n",
       " 'has',\n",
       " 'been',\n",
       " 'the',\n",
       " 'best-selling',\n",
       " 'OS',\n",
       " 'worldwide',\n",
       " 'on',\n",
       " 'smartphones',\n",
       " 'since',\n",
       " '2011',\n",
       " 'and',\n",
       " 'on',\n",
       " 'tablets',\n",
       " 'since',\n",
       " '2013',\n",
       " '.',\n",
       " 'Google',\n",
       " 'and',\n",
       " 'Twitter',\n",
       " 'made',\n",
       " 'a',\n",
       " 'deal',\n",
       " 'in',\n",
       " '2015',\n",
       " 'that',\n",
       " 'gave',\n",
       " 'Google',\n",
       " 'access',\n",
       " 'to',\n",
       " 'Twitter',\n",
       " \"'s\",\n",
       " 'firehose',\n",
       " '.',\n",
       " 'Twitter',\n",
       " 'is',\n",
       " 'an',\n",
       " 'online',\n",
       " 'news',\n",
       " 'and',\n",
       " 'social',\n",
       " 'networking',\n",
       " 'service',\n",
       " 'on',\n",
       " 'which',\n",
       " 'users',\n",
       " 'post',\n",
       " 'and',\n",
       " 'interact',\n",
       " 'with',\n",
       " 'messages',\n",
       " 'known',\n",
       " 'as',\n",
       " 'tweets',\n",
       " '.',\n",
       " 'Before',\n",
       " 'entering',\n",
       " 'politics',\n",
       " ',',\n",
       " 'Donald',\n",
       " 'Trump',\n",
       " 'was',\n",
       " 'a',\n",
       " 'domineering',\n",
       " 'businessman',\n",
       " 'and',\n",
       " 'a',\n",
       " 'television',\n",
       " 'personality',\n",
       " '.',\n",
       " 'The',\n",
       " '2018',\n",
       " 'FIFA',\n",
       " 'World',\n",
       " 'Cup',\n",
       " 'is',\n",
       " 'the',\n",
       " '21st',\n",
       " 'FIFA',\n",
       " 'World',\n",
       " 'Cup',\n",
       " ',',\n",
       " 'an',\n",
       " 'international',\n",
       " 'football',\n",
       " 'tournament',\n",
       " 'contested',\n",
       " 'once',\n",
       " 'every',\n",
       " 'four',\n",
       " 'years',\n",
       " '.',\n",
       " 'This',\n",
       " 'is',\n",
       " 'the',\n",
       " 'first',\n",
       " 'World',\n",
       " 'Cup',\n",
       " 'to',\n",
       " 'be',\n",
       " 'held',\n",
       " 'in',\n",
       " 'Eastern',\n",
       " 'Europe',\n",
       " 'and',\n",
       " 'the',\n",
       " '11th',\n",
       " 'time',\n",
       " 'that',\n",
       " 'it',\n",
       " 'has',\n",
       " 'been',\n",
       " 'held',\n",
       " 'in',\n",
       " 'Europe',\n",
       " '.',\n",
       " 'Show',\n",
       " 'me',\n",
       " 'the',\n",
       " 'cheapest',\n",
       " 'round',\n",
       " 'trips',\n",
       " 'from',\n",
       " 'Dallas',\n",
       " 'to',\n",
       " 'Atlanta',\n",
       " 'I',\n",
       " 'would',\n",
       " 'like',\n",
       " 'to',\n",
       " 'see',\n",
       " 'flights',\n",
       " 'from',\n",
       " 'Denver',\n",
       " 'to',\n",
       " 'Philadelphia',\n",
       " '.',\n",
       " 'Show',\n",
       " 'me',\n",
       " 'the',\n",
       " 'price',\n",
       " 'of',\n",
       " 'the',\n",
       " 'flights',\n",
       " 'leaving',\n",
       " 'Atlanta',\n",
       " 'at',\n",
       " 'about',\n",
       " '3',\n",
       " 'in',\n",
       " 'the',\n",
       " 'afternoon',\n",
       " 'and',\n",
       " 'arriving',\n",
       " 'in',\n",
       " 'San',\n",
       " 'Francisco',\n",
       " '.',\n",
       " 'NASA',\n",
       " 'invited',\n",
       " 'social',\n",
       " 'media',\n",
       " 'users',\n",
       " 'to',\n",
       " 'experience',\n",
       " 'the',\n",
       " 'launch',\n",
       " 'of',\n",
       " 'ICESAT-2',\n",
       " 'Satellite',\n",
       " '.']"
      ]
     },
     "execution_count": 17,
     "metadata": {},
     "output_type": "execute_result"
    }
   ],
   "source": [
    "# Converting the Sample Test File into a List\n",
    "SampleUntaggedWords=[word for sent in SampleSentences for word in sent]\n",
    "SampleUntaggedWords"
   ]
  },
  {
   "cell_type": "code",
   "execution_count": 16,
   "metadata": {},
   "outputs": [
    {
     "ename": "AttributeError",
     "evalue": "'list' object has no attribute 'replace'",
     "output_type": "error",
     "traceback": [
      "\u001b[1;31m---------------------------------------------------------------------------\u001b[0m",
      "\u001b[1;31mAttributeError\u001b[0m                            Traceback (most recent call last)",
      "\u001b[1;32m<ipython-input-16-0093b6dadd74>\u001b[0m in \u001b[0;36m<module>\u001b[1;34m\u001b[0m\n\u001b[0;32m      1\u001b[0m \u001b[1;31m#replacing the newline characters to blank and doing word tokenization\u001b[0m\u001b[1;33m\u001b[0m\u001b[1;33m\u001b[0m\u001b[1;33m\u001b[0m\u001b[0m\n\u001b[1;32m----> 2\u001b[1;33m \u001b[0mtext\u001b[0m\u001b[1;33m=\u001b[0m\u001b[1;33m[\u001b[0m\u001b[0mword_tokenize\u001b[0m\u001b[1;33m(\u001b[0m\u001b[0mnewline\u001b[0m\u001b[1;33m.\u001b[0m\u001b[0mreplace\u001b[0m\u001b[1;33m(\u001b[0m\u001b[1;34m\"\\n\"\u001b[0m\u001b[1;33m,\u001b[0m\u001b[1;34m\"\"\u001b[0m\u001b[1;33m)\u001b[0m\u001b[1;33m)\u001b[0m \u001b[1;32mfor\u001b[0m \u001b[0mnewline\u001b[0m \u001b[1;32min\u001b[0m \u001b[0mtext\u001b[0m\u001b[1;33m]\u001b[0m\u001b[1;33m\u001b[0m\u001b[1;33m\u001b[0m\u001b[0m\n\u001b[0m\u001b[0;32m      3\u001b[0m \u001b[0mtext\u001b[0m\u001b[1;33m\u001b[0m\u001b[1;33m\u001b[0m\u001b[0m\n",
      "\u001b[1;32m<ipython-input-16-0093b6dadd74>\u001b[0m in \u001b[0;36m<listcomp>\u001b[1;34m(.0)\u001b[0m\n\u001b[0;32m      1\u001b[0m \u001b[1;31m#replacing the newline characters to blank and doing word tokenization\u001b[0m\u001b[1;33m\u001b[0m\u001b[1;33m\u001b[0m\u001b[1;33m\u001b[0m\u001b[0m\n\u001b[1;32m----> 2\u001b[1;33m \u001b[0mtext\u001b[0m\u001b[1;33m=\u001b[0m\u001b[1;33m[\u001b[0m\u001b[0mword_tokenize\u001b[0m\u001b[1;33m(\u001b[0m\u001b[0mnewline\u001b[0m\u001b[1;33m.\u001b[0m\u001b[0mreplace\u001b[0m\u001b[1;33m(\u001b[0m\u001b[1;34m\"\\n\"\u001b[0m\u001b[1;33m,\u001b[0m\u001b[1;34m\"\"\u001b[0m\u001b[1;33m)\u001b[0m\u001b[1;33m)\u001b[0m \u001b[1;32mfor\u001b[0m \u001b[0mnewline\u001b[0m \u001b[1;32min\u001b[0m \u001b[0mtext\u001b[0m\u001b[1;33m]\u001b[0m\u001b[1;33m\u001b[0m\u001b[1;33m\u001b[0m\u001b[0m\n\u001b[0m\u001b[0;32m      3\u001b[0m \u001b[0mtext\u001b[0m\u001b[1;33m\u001b[0m\u001b[1;33m\u001b[0m\u001b[0m\n",
      "\u001b[1;31mAttributeError\u001b[0m: 'list' object has no attribute 'replace'"
     ]
    }
   ],
   "source": []
  },
  {
   "cell_type": "code",
   "execution_count": 5,
   "metadata": {},
   "outputs": [
    {
     "data": {
      "text/plain": [
       "3914"
      ]
     },
     "execution_count": 5,
     "metadata": {},
     "output_type": "execute_result"
    }
   ],
   "source": [
    "# Finding the Length of the Treebank tagged sentences\n",
    "len(nltk_data)"
   ]
  },
  {
   "cell_type": "code",
   "execution_count": 6,
   "metadata": {},
   "outputs": [
    {
     "name": "stdout",
     "output_type": "stream",
     "text": [
      "3718\n",
      "196\n",
      "[[('``', '.'), ('Small', 'ADJ'), ('investors', 'NOUN'), ('are', 'VERB'), ('absolutely', 'ADV'), ('dismayed', 'ADJ'), ('that', 'ADP'), ('Wall', 'NOUN'), ('Street', 'NOUN'), ('is', 'VERB'), ('stacking', 'VERB'), ('the', 'DET'), ('deck', 'NOUN'), ('against', 'ADP'), ('them', 'PRON'), (',', '.'), ('and', 'CONJ'), ('these', 'DET'), ('wide', 'ADJ'), ('swings', 'NOUN'), ('are', 'VERB'), ('scaring', 'VERB'), ('them', 'PRON'), ('to', 'PRT'), ('death', 'NOUN'), (',', '.'), (\"''\", '.'), ('says', 'VERB'), ('*T*-1', 'X'), ('Raymond', 'NOUN'), ('A.', 'NOUN'), ('Mason', 'NOUN'), (',', '.'), ('chairman', 'NOUN'), ('of', 'ADP'), ('regional', 'ADJ'), ('broker', 'NOUN'), ('Legg', 'NOUN'), ('Mason', 'NOUN'), ('Inc.', 'NOUN'), ('in', 'ADP'), ('Baltimore', 'NOUN'), ('.', '.')], [('The', 'DET'), ('development', 'NOUN'), (',', '.'), ('traders', 'NOUN'), ('said', 'VERB'), ('0', 'X'), ('*T*-1', 'X'), (',', '.'), ('showed', 'VERB'), ('that', 'ADP'), ('there', 'DET'), ('is', 'VERB'), ('more', 'ADJ'), ('than', 'ADP'), ('ample', 'ADJ'), ('liquidity', 'NOUN'), ('available', 'ADJ'), ('for', 'ADP'), ('investment', 'NOUN'), ('despite', 'ADP'), ('the', 'DET'), ('market', 'NOUN'), (\"'s\", 'PRT'), ('recent', 'ADJ'), ('directionless', 'ADJ'), ('trend', 'NOUN'), ('.', '.')], [('Friends', 'NOUN'), ('of', 'ADP'), ('Education', 'NOUN'), ('rates', 'VERB'), ('South', 'NOUN'), ('Carolina', 'NOUN'), ('one', 'NUM'), ('of', 'ADP'), ('the', 'DET'), ('worst', 'ADJ'), ('seven', 'NUM'), ('states', 'NOUN'), ('in', 'ADP'), ('its', 'PRON'), ('study', 'NOUN'), ('on', 'ADP'), ('academic', 'ADJ'), ('cheating', 'NOUN'), ('.', '.')], [('``', '.'), ('The', 'DET'), ('profit', 'NOUN'), ('motive', 'NOUN'), ('of', 'ADP'), ('the', 'DET'), ('major', 'ADJ'), ('shareholders', 'NOUN'), ('has', 'VERB'), ('clearly', 'ADV'), ('changed', 'VERB'), ('for', 'ADP'), ('the', 'DET'), ('better', 'ADJ'), (',', '.'), (\"''\", '.'), ('said', 'VERB'), ('*T*-1', 'X'), ('John', 'NOUN'), ('McMillin', 'NOUN'), (',', '.'), ('a', 'DET'), ('food', 'NOUN'), ('industry', 'NOUN'), ('analyst', 'NOUN'), ('for', 'ADP'), ('Prudential-Bache', 'NOUN'), ('in', 'ADP'), ('New', 'NOUN'), ('York', 'NOUN'), ('.', '.')], [('In', 'ADP'), ('August', 'NOUN'), (',', '.'), ('Temple', 'NOUN'), ('sweetened', 'VERB'), ('the', 'DET'), ('offer', 'NOUN'), ('to', 'PRT'), ('$', '.'), ('63', 'NUM'), ('*U*', 'X'), ('a', 'DET'), ('share', 'NOUN'), (',', '.'), ('or', 'CONJ'), ('$', '.'), ('963', 'NUM'), ('million', 'NUM'), ('*U*', 'X'), ('.', '.')], [('RMS', 'NOUN'), ('distributes', 'VERB'), ('electronic', 'ADJ'), ('devices', 'NOUN'), ('and', 'CONJ'), ('produces', 'VERB'), ('power', 'NOUN'), ('supplies', 'NOUN'), ('and', 'CONJ'), ('plastic', 'ADJ'), ('literature', 'NOUN'), ('displays', 'NOUN'), ('.', '.')], [('The', 'DET'), ('Continental', 'NOUN'), ('Baking', 'NOUN'), ('business', 'NOUN'), ('benefited', 'VERB'), ('from', 'ADP'), ('higher', 'ADJ'), ('margins', 'NOUN'), ('on', 'ADP'), ('bread', 'NOUN'), ('and', 'CONJ'), ('on', 'ADP'), ('increased', 'VERB'), ('cake', 'NOUN'), ('sales', 'NOUN'), (',', '.'), ('it', 'PRON'), ('added', 'VERB'), ('0', 'X'), ('*T*-1', 'X'), ('.', '.')], [('However', 'ADV'), (',', '.'), ('five', 'NUM'), ('other', 'ADJ'), ('countries', 'NOUN'), ('--', '.'), ('China', 'NOUN'), (',', '.'), ('Thailand', 'NOUN'), (',', '.'), ('India', 'NOUN'), (',', '.'), ('Brazil', 'NOUN'), ('and', 'CONJ'), ('Mexico', 'NOUN'), ('--', '.'), ('will', 'VERB'), ('remain', 'VERB'), ('on', 'ADP'), ('that', 'DET'), ('so-called', 'ADJ'), ('priority', 'NOUN'), ('watch', 'NOUN'), ('list', 'NOUN'), ('as', 'ADP'), ('a', 'DET'), ('result', 'NOUN'), ('of', 'ADP'), ('an', 'DET'), ('interim', 'ADJ'), ('review', 'NOUN'), (',', '.'), ('U.S.', 'NOUN'), ('Trade', 'NOUN'), ('Representative', 'NOUN'), ('Carla', 'NOUN'), ('Hills', 'NOUN'), ('announced', 'VERB'), ('0', 'X'), ('*T*-1', 'X'), ('.', '.')], [('Some', 'DET'), ('think', 'VERB'), ('0', 'X'), ('Columbia', 'NOUN'), (\"'s\", 'PRT'), ('thrift', 'NOUN'), (',', '.'), ('which', 'DET'), ('*T*-1', 'X'), ('now', 'ADV'), ('is', 'VERB'), ('seeking', 'VERB'), ('a', 'DET'), ('new', 'ADJ'), ('chief', 'NOUN'), ('operating', 'VERB'), ('officer', 'NOUN'), (',', '.'), ('might', 'VERB'), ('be', 'VERB'), ('capitalized', 'VERB'), ('*-3', 'X'), ('at', 'ADP'), (',', '.'), ('say', 'VERB'), ('$', '.'), ('300', 'NUM'), ('million', 'NUM'), ('*U*', 'X'), (',', '.'), ('and', 'CONJ'), ('shopped', 'VERB'), ('*-3', 'X'), ('to', 'PRT'), ('a', 'DET'), ('commercial', 'ADJ'), ('bank', 'NOUN'), ('that', 'DET'), ('*T*-2', 'X'), ('wants', 'VERB'), ('a', 'DET'), ('California', 'NOUN'), ('presence', 'NOUN'), ('.', '.')], [('They', 'PRON'), ('want', 'VERB'), ('assets', 'NOUN'), (',', '.'), ('they', 'PRON'), ('want', 'VERB'), ('a', 'DET'), ('balance', 'NOUN'), ('sheet', 'NOUN'), (',', '.'), ('which', 'DET'), ('*T*-194', 'X'), ('has', 'VERB'), ('no', 'DET'), ('relation', 'NOUN'), ('to', 'PRT'), ('the', 'DET'), ('business', 'NOUN'), ('0', 'X'), ('a', 'DET'), ('company', 'NOUN'), ('can', 'VERB'), ('generate', 'VERB'), ('*T*-1', 'X'), ('.', '.'), (\"''\", '.')], [('Takuma', 'NOUN'), ('Yamamoto', 'NOUN'), (',', '.'), ('president', 'NOUN'), ('of', 'ADP'), ('Fujitsu', 'NOUN'), ('Ltd.', 'NOUN'), (',', '.'), ('believes', 'VERB'), ('``', '.'), ('0', 'X'), ('the', 'DET'), ('`', '.'), ('money', 'NOUN'), ('worship', 'NOUN'), (\"'\", '.'), ('among', 'ADP'), ('young', 'ADJ'), ('people', 'NOUN'), ('...', '.'), ('caused', 'VERB'), ('the', 'DET'), ('problem', 'NOUN'), ('.', '.'), (\"''\", '.')], [('In', 'ADP'), ('New', 'NOUN'), ('York', 'NOUN'), ('Stock', 'NOUN'), ('Exchange', 'NOUN'), ('composite', 'ADJ'), ('trading', 'NOUN'), ('yesterday', 'NOUN'), (',', '.'), ('USX', 'NOUN'), ('shares', 'NOUN'), ('closed', 'VERB'), ('up', 'ADV'), ('$', '.'), ('1.25', 'NUM'), ('*U*', 'X'), (',', '.'), ('at', 'ADP'), ('$', '.'), ('34.625', 'NUM'), ('*U*', 'X'), (',', '.'), ('as', 'ADP'), ('the', 'DET'), ('reported', 'VERB'), ('earnings', 'NOUN'), ('exceeded', 'VERB'), ('projections', 'NOUN'), ('by', 'ADP'), ('some', 'DET'), ('analysts', 'NOUN'), ('who', 'PRON'), ('*T*-1', 'X'), ('had', 'VERB'), (\"n't\", 'ADV'), ('expected', 'VERB'), ('as', 'ADV'), ('great', 'ADJ'), ('a', 'DET'), ('volume', 'NOUN'), ('of', 'ADP'), ('asset', 'NOUN'), ('sales', 'NOUN'), ('.', '.')], [('Komatsu', 'NOUN'), ('predicted', 'VERB'), ('that', 'ADP'), ('for', 'ADP'), ('the', 'DET'), ('fiscal', 'ADJ'), ('year', 'NOUN'), ('ending', 'VERB'), ('March', 'NOUN'), ('31', 'NUM'), ('sales', 'NOUN'), ('will', 'VERB'), ('climb', 'VERB'), ('to', 'PRT'), ('600', 'NUM'), ('billion', 'NUM'), ('yen', 'NOUN'), ('from', 'ADP'), ('566.54', 'NUM'), ('billion', 'NUM'), ('yen', 'NOUN'), (';', '.'), ('pretax', 'NOUN'), ('profit', 'NOUN'), ('was', 'VERB'), ('forecast', 'VERB'), ('*-1', 'X'), ('at', 'ADP'), ('35', 'NUM'), ('billion', 'NUM'), ('yen', 'NOUN'), (',', '.'), ('up', 'ADV'), ('from', 'ADP'), ('28.53', 'NUM'), ('billion', 'NUM'), ('yen', 'NOUN'), ('in', 'ADP'), ('fiscal', 'ADJ'), ('1989', 'NUM'), ('.', '.')], [('The', 'DET'), ('Soviets', 'NOUN'), (',', '.'), ('who', 'PRON'), ('*T*-12', 'X'), ('normally', 'ADV'), ('have', 'VERB'), ('few', 'ADJ'), ('clients', 'NOUN'), ('other', 'ADJ'), ('than', 'ADP'), ('the', 'DET'), ('state', 'NOUN'), (',', '.'), ('will', 'VERB'), ('get', 'VERB'), ('``', '.'), ('exposure', 'NOUN'), ('to', 'PRT'), ('a', 'DET'), ('market', 'NOUN'), ('system', 'NOUN'), (',', '.'), (\"''\", '.'), ('he', 'PRON'), ('says', 'VERB'), ('0', 'X'), ('*T*-1', 'X'), ('.', '.')], [('Czechoslovakia', 'NOUN'), ('said', 'VERB'), ('in', 'ADP'), ('May', 'NOUN'), ('0', 'X'), ('it', 'PRON'), ('could', 'VERB'), ('seek', 'VERB'), ('$', '.'), ('2', 'NUM'), ('billion', 'NUM'), ('*U*', 'X'), ('from', 'ADP'), ('Hungary', 'NOUN'), ('if', 'ADP'), ('the', 'DET'), ('twindam', 'NOUN'), ('contract', 'NOUN'), ('were', 'VERB'), ('broken', 'VERB'), ('*-68', 'X'), ('.', '.')], [('Evidence', 'NOUN'), ('of', 'ADP'), ('widespread', 'ADJ'), ('cheating', 'NOUN'), ('has', 'VERB'), ('surfaced', 'VERB'), ('in', 'ADP'), ('several', 'ADJ'), ('states', 'NOUN'), ('in', 'ADP'), ('the', 'DET'), ('last', 'ADJ'), ('year', 'NOUN'), ('or', 'CONJ'), ('so', 'ADV'), ('.', '.')], [('Estimated', 'VERB'), ('volume', 'NOUN'), ('was', 'VERB'), ('a', 'DET'), ('moderate', 'ADJ'), ('3.5', 'NUM'), ('million', 'NUM'), ('ounces', 'NOUN'), ('.', '.')], [('It', 'PRON'), ('*EXP*-1', 'X'), ('is', 'VERB'), (\"n't\", 'ADV'), ('clear', 'ADJ'), (',', '.'), ('however', 'ADV'), (',', '.'), ('who', 'PRON'), ('*T*-2', 'X'), ('would', 'VERB'), ('win', 'VERB'), ('a', 'DET'), ('waiting', 'VERB'), ('game', 'NOUN'), ('.', '.')], [('If', 'ADP'), ('you', 'PRON'), ('were', 'VERB'), ('not', 'ADV'), ('an', 'DET'), ('effective', 'ADJ'), ('crook', 'NOUN'), (',', '.'), ('you', 'PRON'), ('found', 'VERB'), ('yourself', 'PRON'), ('out', 'ADP'), ('in', 'ADP'), ('the', 'DET'), ('cold', 'NOUN'), (',', '.'), ('a', 'DET'), ('fate', 'NOUN'), ('that', 'DET'), ('*T*-1', 'X'), ('eventually', 'ADV'), ('befell', 'VERB'), ('Mr.', 'NOUN'), ('Mariotta', 'NOUN'), (',', '.'), ('the', 'DET'), ('firm', 'NOUN'), (\"'s\", 'PRT'), ('semiliterate', 'ADJ'), ('``', '.'), ('minority', 'NOUN'), (\"''\", '.'), ('person', 'NOUN'), ('.', '.')], [('``', '.'), ('There', 'DET'), (\"'s\", 'VERB'), ('a', 'DET'), ('price', 'NOUN'), ('above', 'ADP'), ('which', 'DET'), ('I', 'PRON'), (\"'m\", 'VERB'), ('positive', 'ADJ'), ('0', 'X'), ('Marshall', 'NOUN'), ('has', 'VERB'), ('the', 'DET'), ('courage', 'NOUN'), ('0', 'X'), ('*', 'X'), ('not', 'ADV'), ('to', 'PRT'), ('pay', 'VERB'), ('*T*-1', 'X'), ('*T*-3', 'X'), (',', '.'), (\"''\", '.'), ('says', 'VERB'), ('*T*-2', 'X'), ('A.D.', 'NOUN'), ('Correll', 'NOUN'), (',', '.'), ('Georgia-Pacific', 'NOUN'), (\"'s\", 'PRT'), ('executive', 'ADJ'), ('vice', 'NOUN'), ('president', 'NOUN'), ('for', 'ADP'), ('pulp', 'NOUN'), ('and', 'CONJ'), ('paper', 'NOUN'), ('.', '.')], [('Cray', 'NOUN'), ('Research', 'NOUN'), ('indicated', 'VERB'), ('that', 'ADP'), ('the', 'DET'), ('survival', 'NOUN'), ('of', 'ADP'), ('a', 'DET'), ('spinoff', 'NOUN'), ('company', 'NOUN'), (',', '.'), ('which', 'DET'), ('*T*-1', 'X'), ('is', 'VERB'), ('developing', 'VERB'), ('a', 'DET'), ('new', 'ADJ'), ('supercomputer', 'NOUN'), (',', '.'), ('depends', 'VERB'), ('heavily', 'ADV'), ('on', 'ADP'), ('its', 'PRON'), ('chairman', 'NOUN'), ('and', 'CONJ'), ('chief', 'NOUN'), ('designer', 'NOUN'), (',', '.'), ('Seymour', 'NOUN'), ('Cray', 'NOUN'), ('.', '.')], [('He', 'PRON'), ('was', 'VERB'), ('previously', 'ADV'), ('president', 'NOUN'), ('of', 'ADP'), ('the', 'DET'), ('company', 'NOUN'), (\"'s\", 'PRT'), ('Eastern', 'NOUN'), ('Edison', 'NOUN'), ('Co.', 'NOUN'), ('unit', 'NOUN'), ('.', '.')], [('The', 'DET'), ('branch', 'NOUN'), ('of', 'ADP'), ('the', 'DET'), ('Bank', 'NOUN'), ('for', 'ADP'), ('Foreign', 'NOUN'), ('Economic', 'NOUN'), ('Affairs', 'NOUN'), ('was', 'VERB'), ('approved', 'VERB'), ('*-1', 'X'), ('last', 'ADJ'), ('spring', 'NOUN'), ('and', 'CONJ'), ('opened', 'VERB'), ('in', 'ADP'), ('July', 'NOUN'), ('.', '.')], [('She', 'PRON'), ('was', 'VERB'), ('an', 'DET'), ('unstinting', 'ADJ'), ('teacher', 'NOUN'), ('who', 'PRON'), ('*T*-80', 'X'), ('won', 'VERB'), ('laurels', 'NOUN'), ('and', 'CONJ'), ('inspired', 'VERB'), ('students', 'NOUN'), (',', '.'), ('but', 'CONJ'), ('she', 'PRON'), ('will', 'VERB'), ('probably', 'ADV'), ('never', 'ADV'), ('teach', 'VERB'), ('again', 'ADV'), ('.', '.')], [('They', 'PRON'), ('say', 'VERB'), ('0', 'X'), ('greedy', 'ADJ'), ('market', 'NOUN'), ('manipulators', 'NOUN'), ('have', 'VERB'), ('made', 'VERB'), ('a', 'DET'), ('shambles', 'NOUN'), ('of', 'ADP'), ('the', 'DET'), ('nation', 'NOUN'), (\"'s\", 'PRT'), ('free-enterprise', 'NOUN'), ('system', 'NOUN'), (',', '.'), ('*-1', 'X'), ('turning', 'VERB'), ('the', 'DET'), ('stock', 'NOUN'), ('market', 'NOUN'), ('into', 'ADP'), ('a', 'DET'), ('big', 'ADJ'), ('gambling', 'NOUN'), ('den', 'NOUN'), (',', '.'), ('with', 'ADP'), ('the', 'DET'), ('odds', 'NOUN'), ('heavily', 'ADV'), ('stacked', 'VERB'), ('*-2', 'X'), ('against', 'ADP'), ('the', 'DET'), ('small', 'ADJ'), ('investor', 'NOUN'), ('.', '.')], [('The', 'DET'), ('40-year-old', 'ADJ'), ('Mr.', 'NOUN'), ('Murakami', 'NOUN'), ('is', 'VERB'), ('a', 'DET'), ('publishing', 'NOUN'), ('sensation', 'NOUN'), ('in', 'ADP'), ('Japan', 'NOUN'), ('.', '.')], [('The', 'DET'), ('company', 'NOUN'), (',', '.'), ('which', 'DET'), ('*T*-237', 'X'), ('recently', 'ADV'), ('said', 'VERB'), ('0', 'X'), ('it', 'PRON'), ('lacked', 'VERB'), ('the', 'DET'), ('profits', 'NOUN'), ('and', 'CONJ'), ('capital', 'NOUN'), ('0', 'X'), ('*', 'X'), ('to', 'PRT'), ('pay', 'VERB'), ('dividends', 'NOUN'), ('on', 'ADP'), ('its', 'PRON'), ('Series', 'NOUN'), ('A', 'NOUN'), ('convertible', 'ADJ'), ('preferred', 'VERB'), ('stock', 'NOUN'), ('*T*-1', 'X'), (',', '.'), ('said', 'VERB'), ('0', 'X'), ('it', 'PRON'), ('has', 'VERB'), ('hired', 'VERB'), ('an', 'DET'), ('investment', 'NOUN'), ('banker', 'NOUN'), ('0', 'X'), ('*T*-2', 'X'), ('to', 'PRT'), ('help', 'VERB'), ('it', 'PRON'), ('raise', 'VERB'), ('additional', 'ADJ'), ('cash', 'NOUN'), ('.', '.')], [('*', 'X'), ('Legislating', 'VERB'), ('new', 'ADJ'), ('trading', 'NOUN'), ('inefficiencies', 'NOUN'), ('will', 'VERB'), ('only', 'ADV'), ('make', 'VERB'), ('things', 'NOUN'), ('harder', 'ADJ'), ('on', 'ADP'), ('the', 'DET'), ('least', 'ADJ'), ('sophisticated', 'ADJ'), ('investors', 'NOUN'), ('.', '.')], [('In', 'ADP'), ('a', 'DET'), ('telephone', 'NOUN'), ('interview', 'NOUN'), (',', '.'), ('Mr.', 'NOUN'), ('Reupke', 'NOUN'), ('said', 'VERB'), ('0', 'X'), ('his', 'PRON'), ('departure', 'NOUN'), ('was', 'VERB'), ('for', 'ADP'), ('``', '.'), ('personal', 'ADJ'), ('reasons', 'NOUN'), (',', '.'), (\"''\", '.'), ('which', 'DET'), ('he', 'PRON'), ('declined', 'VERB'), ('*-2', 'X'), ('to', 'PRT'), ('specify', 'VERB'), ('*T*-1', 'X'), ('.', '.')], [('Year', 'NOUN'), ('ended', 'VERB'), ('Dec.', 'NOUN'), ('31', 'NUM'), (',', '.'), ('1988', 'NUM'), (':', '.'), ('Net', 'ADJ'), ('income', 'NOUN'), (':', '.'), ('$', '.'), ('65', 'NUM'), ('million', 'NUM'), ('*U*', 'X'), (';', '.'), ('or', 'CONJ'), ('$', '.'), ('1.49', 'NUM'), ('*U*', 'X'), ('a', 'DET'), ('share', 'NOUN')], [('*', 'X'), ('Eliminate', 'VERB'), ('arbitrage', 'NOUN'), ('and', 'CONJ'), ('liquidity', 'NOUN'), ('will', 'VERB'), ('decline', 'VERB'), ('instead', 'ADV'), ('of', 'ADP'), ('*', 'X'), ('rising', 'VERB'), (',', '.'), ('*', 'X'), ('creating', 'VERB'), ('more', 'ADJ'), ('volatility', 'NOUN'), ('instead', 'ADV'), ('of', 'ADP'), ('less', 'ADJ'), ('.', '.')], [('Temple', 'NOUN'), (',', '.'), ('however', 'ADV'), (',', '.'), ('harshly', 'ADV'), ('criticized', 'VERB'), ('Sea', 'NOUN'), ('Containers', 'NOUN'), (\"'\", 'PRT'), ('plan', 'NOUN'), ('yesterday', 'NOUN'), (',', '.'), ('*-1', 'X'), ('characterizing', 'VERB'), ('it', 'PRON'), ('as', 'ADP'), ('a', 'DET'), ('``', '.'), ('highly', 'ADV'), ('conditional', 'ADJ'), ('device', 'NOUN'), ('designed', 'VERB'), ('*', 'X'), ('*-2', 'X'), ('to', 'PRT'), ('entrench', 'VERB'), ('management', 'NOUN'), (',', '.'), ('confuse', 'VERB'), ('shareholders', 'NOUN'), ('and', 'CONJ'), ('prevent', 'VERB'), ('them', 'PRON'), ('from', 'ADP'), ('*-3', 'X'), ('accepting', 'VERB'), ('our', 'PRON'), ('superior', 'ADJ'), ('cash', 'NOUN'), ('offer', 'NOUN'), ('.', '.'), (\"''\", '.')], [('As', 'ADP'), ('an', 'DET'), ('actor', 'NOUN'), (',', '.'), ('Charles', 'NOUN'), ('Lane', 'NOUN'), ('is', 'VERB'), (\"n't\", 'ADV'), ('the', 'DET'), ('inheritor', 'NOUN'), ('of', 'ADP'), ('Charlie', 'NOUN'), ('Chaplin', 'NOUN'), (\"'s\", 'PRT'), ('spirit', 'NOUN'), ('.', '.')], [('Columbia', 'NOUN'), ('wo', 'VERB'), (\"n't\", 'ADV'), ('comment', 'VERB'), ('on', 'ADP'), ('all', 'DET'), ('the', 'DET'), ('speculation', 'NOUN'), ('.', '.')], [('Intermec', 'NOUN'), ('Corp.', 'NOUN'), (',', '.'), ('offering', 'VERB'), ('of', 'ADP'), ('1,050,000', 'NUM'), ('common', 'ADJ'), ('shares', 'NOUN'), (',', '.'), ('via', 'ADP'), ('Goldman', 'NOUN'), (',', '.'), ('Sachs', 'NOUN'), ('&', 'CONJ'), ('Co.', 'NOUN'), ('and', 'CONJ'), ('Piper', 'NOUN'), (',', '.'), ('Jaffray', 'NOUN'), ('&', 'CONJ'), ('Hopwood', 'NOUN'), ('Inc', 'NOUN'), ('.', '.')], [('The', 'DET'), ('asbestos', 'NOUN'), ('fiber', 'NOUN'), (',', '.'), ('crocidolite', 'NOUN'), (',', '.'), ('is', 'VERB'), ('unusually', 'ADV'), ('resilient', 'ADJ'), ('once', 'ADP'), ('it', 'PRON'), ('enters', 'VERB'), ('the', 'DET'), ('lungs', 'NOUN'), (',', '.'), ('with', 'ADP'), ('even', 'ADV'), ('brief', 'ADJ'), ('exposures', 'NOUN'), ('to', 'PRT'), ('it', 'PRON'), ('causing', 'VERB'), ('symptoms', 'NOUN'), ('that', 'DET'), ('*T*-1', 'X'), ('show', 'VERB'), ('up', 'PRT'), ('decades', 'NOUN'), ('later', 'ADJ'), (',', '.'), ('researchers', 'NOUN'), ('said', 'VERB'), ('0', 'X'), ('*T*-2', 'X'), ('.', '.')], [('In', 'ADP'), ('a', 'DET'), ('second', 'ADJ'), ('area', 'NOUN'), ('of', 'ADP'), ('common', 'ADJ'), ('concern', 'NOUN'), (',', '.'), ('the', 'DET'), ('world', 'NOUN'), ('environment', 'NOUN'), (',', '.'), ('an', 'DET'), ('additional', 'ADJ'), ('$', '.'), ('15', 'NUM'), ('million', 'NUM'), ('*U*', 'X'), ('*ICH*-1', 'X'), ('will', 'VERB'), ('be', 'VERB'), ('provided', 'VERB'), ('*-7', 'X'), ('in', 'ADP'), ('development', 'NOUN'), ('assistance', 'NOUN'), ('0', 'X'), ('*T*-2', 'X'), ('to', 'PRT'), ('fund', 'VERB'), ('a', 'DET'), ('series', 'NOUN'), ('of', 'ADP'), ('initiatives', 'NOUN'), (',', '.'), ('related', 'VERB'), ('both', 'DET'), ('to', 'PRT'), ('global', 'ADJ'), ('warming', 'NOUN'), ('and', 'CONJ'), ('the', 'DET'), ('plight', 'NOUN'), ('of', 'ADP'), ('the', 'DET'), ('African', 'ADJ'), ('elephant', 'NOUN'), ('.', '.')], [('Much', 'ADJ'), ('of', 'ADP'), ('the', 'DET'), ('800', 'NUM'), ('service', 'NOUN'), ('will', 'VERB'), ('``', '.'), ('migrate', 'VERB'), ('to', 'PRT'), ('900', 'NUM'), (',', '.'), (\"''\", '.'), ('predicts', 'VERB'), ('*T*-1', 'X'), ('Jack', 'NOUN'), ('Lawless', 'NOUN'), (',', '.'), ('general', 'ADJ'), ('manager', 'NOUN'), ('of', 'ADP'), ('US', 'NOUN'), ('Sprint', 'NOUN'), (\"'s\", 'PRT'), ('900', 'NUM'), ('product', 'NOUN'), ('.', '.')], [('Manila', 'NOUN'), ('markets', 'NOUN'), ('were', 'VERB'), ('closed', 'VERB'), ('for', 'ADP'), ('a', 'DET'), ('holiday', 'NOUN'), ('.', '.')], [('In', 'ADP'), ('and', 'CONJ'), ('around', 'ADP'), ('all', 'DET'), ('levels', 'NOUN'), ('of', 'ADP'), ('government', 'NOUN'), ('in', 'ADP'), ('the', 'DET'), ('U.S.', 'NOUN'), ('are', 'VERB'), ('*T*-3', 'X'), ('groups', 'NOUN'), ('of', 'ADP'), ('people', 'NOUN'), ('who', 'PRON'), ('*T*-2', 'X'), ('can', 'VERB'), ('best', 'ADJ'), ('be', 'VERB'), ('described', 'VERB'), ('*-1', 'X'), ('as', 'ADP'), ('*-4', 'X'), ('belonging', 'VERB'), ('to', 'PRT'), ('a', 'DET'), ('political', 'ADJ'), ('insider', 'NOUN'), ('commercial', 'ADJ'), ('party', 'NOUN'), ('.', '.')]]\n"
     ]
    }
   ],
   "source": [
    "# Splitting into train and test set\n",
    "random.seed(1234)\n",
    "train_set, test_set = train_test_split(nltk_data,test_size=0.05)\n",
    "\n",
    "print(len(train_set))\n",
    "print(len(test_set))\n",
    "print(train_set[:40])"
   ]
  },
  {
   "cell_type": "code",
   "execution_count": 7,
   "metadata": {},
   "outputs": [
    {
     "data": {
      "text/plain": [
       "95392"
      ]
     },
     "execution_count": 7,
     "metadata": {},
     "output_type": "execute_result"
    }
   ],
   "source": [
    "# Getting list of the tagged words \n",
    "train_tagged_words=[tup for sent in train_set for tup in sent]\n",
    "len(train_tagged_words)"
   ]
  },
  {
   "cell_type": "code",
   "execution_count": 8,
   "metadata": {},
   "outputs": [],
   "source": [
    "# Getting list of tokens tagged in the nltk_data Set\n",
    "\n",
    "tokens = [x[0] for x in train_tagged_words]"
   ]
  },
  {
   "cell_type": "code",
   "execution_count": 9,
   "metadata": {},
   "outputs": [
    {
     "data": {
      "text/plain": [
       "12002"
      ]
     },
     "execution_count": 9,
     "metadata": {},
     "output_type": "execute_result"
    }
   ],
   "source": [
    "#Getting the vocabulary in the Training Set\n",
    "Vocab = set(tokens)\n",
    "# Getting the length of the Vocabulary\n",
    "len(Vocab)"
   ]
  },
  {
   "cell_type": "code",
   "execution_count": 10,
   "metadata": {},
   "outputs": [
    {
     "name": "stdout",
     "output_type": "stream",
     "text": [
      "95392\n",
      "12\n",
      "[('NOUN', 27382), ('VERB', 12846), ('.', 11066), ('ADP', 9357), ('DET', 8282), ('X', 6248), ('ADJ', 6062), ('NUM', 3350), ('PRT', 3062), ('ADV', 2998), ('PRON', 2595), ('CONJ', 2144)]\n",
      "Most Common Tag :  NOUN\n"
     ]
    }
   ],
   "source": [
    "#getting the list of the tags in the Training set\n",
    "Tags=[x[1] for x in train_tagged_words]\n",
    "TagCounts=Counter(Tags)\n",
    "UniqueTags=set(Tags)\n",
    "print(len(Tags))\n",
    "print(len(UniqueTags))\n",
    "print(TagCounts.most_common(12))\n",
    "print(\"Most Common Tag : \", TagCounts.most_common(12)[0][0])"
   ]
  },
  {
   "cell_type": "markdown",
   "metadata": {},
   "source": [
    "### Emission Probabilities"
   ]
  },
  {
   "cell_type": "code",
   "execution_count": 11,
   "metadata": {},
   "outputs": [],
   "source": [
    "# computing word given tag: Emission Probability\n",
    "def word_given_tag(word, tag, train_bag = train_tagged_words):\n",
    "    tag_list = [pair for pair in train_bag if pair[1]==tag]\n",
    "    count_tag = len(tag_list)\n",
    "    w_given_tag_list = [pair[0] for pair in tag_list if pair[0].lower()==word.lower()]\n",
    "    count_w_given_tag = len(w_given_tag_list)\n",
    "    EmissionProbability = count_w_given_tag/count_tag\n",
    "    \n",
    "    return (count_w_given_tag, count_tag,EmissionProbability)"
   ]
  },
  {
   "cell_type": "markdown",
   "metadata": {},
   "source": [
    "### Transition Probabilities"
   ]
  },
  {
   "cell_type": "code",
   "execution_count": 12,
   "metadata": {},
   "outputs": [],
   "source": [
    "# compute tag given tag: tag2(t2) given tag1 (t1), i.e. Transition Probability\n",
    "\n",
    "def t2_given_t1(t2, t1, train_bag = train_tagged_words):\n",
    "    tags = [pair[1] for pair in train_bag]\n",
    "    count_t1 = len([t for t in tags if t==t1])\n",
    "    count_t2_t1 = 0\n",
    "    for index in range(len(tags)-1):\n",
    "        if tags[index]==t1 and tags[index+1] == t2:\n",
    "            count_t2_t1 += 1\n",
    "    TransitionProbability=count_t2_t1/count_t1\n",
    "    return (count_t2_t1, count_t1,TransitionProbability)"
   ]
  },
  {
   "cell_type": "code",
   "execution_count": 13,
   "metadata": {},
   "outputs": [],
   "source": [
    "# creating t x t transition matrix of tags\n",
    "# each column is t2, each row is t1\n",
    "# thus M(i, j) represents P(tj given ti)\n",
    "\n",
    "tags_matrix = np.zeros((len(UniqueTags), len(UniqueTags)), dtype='float32')\n",
    "for i, t1 in enumerate(list(UniqueTags)):\n",
    "    for j, t2 in enumerate(list(UniqueTags)): \n",
    "        tags_matrix[i, j] = t2_given_t1(t2, t1)[2]"
   ]
  },
  {
   "cell_type": "code",
   "execution_count": 14,
   "metadata": {},
   "outputs": [],
   "source": [
    "df_tags= pd.DataFrame(tags_matrix,columns=list(UniqueTags), index=list(UniqueTags))"
   ]
  },
  {
   "cell_type": "code",
   "execution_count": 15,
   "metadata": {},
   "outputs": [
    {
     "data": {
      "text/html": [
       "<div>\n",
       "<style scoped>\n",
       "    .dataframe tbody tr th:only-of-type {\n",
       "        vertical-align: middle;\n",
       "    }\n",
       "\n",
       "    .dataframe tbody tr th {\n",
       "        vertical-align: top;\n",
       "    }\n",
       "\n",
       "    .dataframe thead th {\n",
       "        text-align: right;\n",
       "    }\n",
       "</style>\n",
       "<table border=\"1\" class=\"dataframe\">\n",
       "  <thead>\n",
       "    <tr style=\"text-align: right;\">\n",
       "      <th></th>\n",
       "      <th>CONJ</th>\n",
       "      <th>NUM</th>\n",
       "      <th>PRT</th>\n",
       "      <th>VERB</th>\n",
       "      <th>ADV</th>\n",
       "      <th>X</th>\n",
       "      <th>DET</th>\n",
       "      <th>.</th>\n",
       "      <th>ADP</th>\n",
       "      <th>NOUN</th>\n",
       "      <th>ADJ</th>\n",
       "      <th>PRON</th>\n",
       "    </tr>\n",
       "  </thead>\n",
       "  <tbody>\n",
       "    <tr>\n",
       "      <th>CONJ</th>\n",
       "      <td>0.000466</td>\n",
       "      <td>0.041978</td>\n",
       "      <td>0.004664</td>\n",
       "      <td>0.156250</td>\n",
       "      <td>0.054571</td>\n",
       "      <td>0.008396</td>\n",
       "      <td>0.121269</td>\n",
       "      <td>0.034981</td>\n",
       "      <td>0.049440</td>\n",
       "      <td>0.353545</td>\n",
       "      <td>0.115672</td>\n",
       "      <td>0.058769</td>\n",
       "    </tr>\n",
       "    <tr>\n",
       "      <th>NUM</th>\n",
       "      <td>0.014030</td>\n",
       "      <td>0.185075</td>\n",
       "      <td>0.027164</td>\n",
       "      <td>0.018209</td>\n",
       "      <td>0.002687</td>\n",
       "      <td>0.210149</td>\n",
       "      <td>0.003582</td>\n",
       "      <td>0.115224</td>\n",
       "      <td>0.035224</td>\n",
       "      <td>0.353731</td>\n",
       "      <td>0.033433</td>\n",
       "      <td>0.001493</td>\n",
       "    </tr>\n",
       "    <tr>\n",
       "      <th>PRT</th>\n",
       "      <td>0.002286</td>\n",
       "      <td>0.057152</td>\n",
       "      <td>0.001633</td>\n",
       "      <td>0.403005</td>\n",
       "      <td>0.009471</td>\n",
       "      <td>0.012084</td>\n",
       "      <td>0.100261</td>\n",
       "      <td>0.041803</td>\n",
       "      <td>0.021228</td>\n",
       "      <td>0.247551</td>\n",
       "      <td>0.084912</td>\n",
       "      <td>0.018615</td>\n",
       "    </tr>\n",
       "    <tr>\n",
       "      <th>VERB</th>\n",
       "      <td>0.005527</td>\n",
       "      <td>0.022653</td>\n",
       "      <td>0.031060</td>\n",
       "      <td>0.168613</td>\n",
       "      <td>0.081582</td>\n",
       "      <td>0.218045</td>\n",
       "      <td>0.134750</td>\n",
       "      <td>0.035030</td>\n",
       "      <td>0.090690</td>\n",
       "      <td>0.110696</td>\n",
       "      <td>0.065312</td>\n",
       "      <td>0.036042</td>\n",
       "    </tr>\n",
       "    <tr>\n",
       "      <th>ADV</th>\n",
       "      <td>0.006338</td>\n",
       "      <td>0.031354</td>\n",
       "      <td>0.014676</td>\n",
       "      <td>0.342895</td>\n",
       "      <td>0.079386</td>\n",
       "      <td>0.024016</td>\n",
       "      <td>0.069046</td>\n",
       "      <td>0.137759</td>\n",
       "      <td>0.119746</td>\n",
       "      <td>0.031688</td>\n",
       "      <td>0.129086</td>\n",
       "      <td>0.014009</td>\n",
       "    </tr>\n",
       "    <tr>\n",
       "      <th>X</th>\n",
       "      <td>0.009443</td>\n",
       "      <td>0.002401</td>\n",
       "      <td>0.185980</td>\n",
       "      <td>0.204706</td>\n",
       "      <td>0.026088</td>\n",
       "      <td>0.074264</td>\n",
       "      <td>0.054738</td>\n",
       "      <td>0.162292</td>\n",
       "      <td>0.144046</td>\n",
       "      <td>0.062900</td>\n",
       "      <td>0.017125</td>\n",
       "      <td>0.056018</td>\n",
       "    </tr>\n",
       "    <tr>\n",
       "      <th>DET</th>\n",
       "      <td>0.000483</td>\n",
       "      <td>0.021975</td>\n",
       "      <td>0.000121</td>\n",
       "      <td>0.039362</td>\n",
       "      <td>0.012437</td>\n",
       "      <td>0.045641</td>\n",
       "      <td>0.005796</td>\n",
       "      <td>0.017749</td>\n",
       "      <td>0.009418</td>\n",
       "      <td>0.638735</td>\n",
       "      <td>0.204661</td>\n",
       "      <td>0.003622</td>\n",
       "    </tr>\n",
       "    <tr>\n",
       "      <th>.</th>\n",
       "      <td>0.058738</td>\n",
       "      <td>0.080788</td>\n",
       "      <td>0.002259</td>\n",
       "      <td>0.089011</td>\n",
       "      <td>0.052232</td>\n",
       "      <td>0.027381</td>\n",
       "      <td>0.174498</td>\n",
       "      <td>0.092988</td>\n",
       "      <td>0.091451</td>\n",
       "      <td>0.220676</td>\n",
       "      <td>0.044189</td>\n",
       "      <td>0.065697</td>\n",
       "    </tr>\n",
       "    <tr>\n",
       "      <th>ADP</th>\n",
       "      <td>0.000748</td>\n",
       "      <td>0.063161</td>\n",
       "      <td>0.001389</td>\n",
       "      <td>0.008336</td>\n",
       "      <td>0.013145</td>\n",
       "      <td>0.033985</td>\n",
       "      <td>0.323608</td>\n",
       "      <td>0.040504</td>\n",
       "      <td>0.016886</td>\n",
       "      <td>0.323394</td>\n",
       "      <td>0.106338</td>\n",
       "      <td>0.068505</td>\n",
       "    </tr>\n",
       "    <tr>\n",
       "      <th>NOUN</th>\n",
       "      <td>0.042437</td>\n",
       "      <td>0.009240</td>\n",
       "      <td>0.044372</td>\n",
       "      <td>0.147067</td>\n",
       "      <td>0.017274</td>\n",
       "      <td>0.028778</td>\n",
       "      <td>0.013257</td>\n",
       "      <td>0.239062</td>\n",
       "      <td>0.177489</td>\n",
       "      <td>0.264042</td>\n",
       "      <td>0.012161</td>\n",
       "      <td>0.004821</td>\n",
       "    </tr>\n",
       "    <tr>\n",
       "      <th>ADJ</th>\n",
       "      <td>0.016991</td>\n",
       "      <td>0.020620</td>\n",
       "      <td>0.010393</td>\n",
       "      <td>0.011877</td>\n",
       "      <td>0.004619</td>\n",
       "      <td>0.020455</td>\n",
       "      <td>0.004784</td>\n",
       "      <td>0.064665</td>\n",
       "      <td>0.078852</td>\n",
       "      <td>0.698779</td>\n",
       "      <td>0.067305</td>\n",
       "      <td>0.000660</td>\n",
       "    </tr>\n",
       "    <tr>\n",
       "      <th>PRON</th>\n",
       "      <td>0.005395</td>\n",
       "      <td>0.007707</td>\n",
       "      <td>0.013102</td>\n",
       "      <td>0.483622</td>\n",
       "      <td>0.034297</td>\n",
       "      <td>0.092871</td>\n",
       "      <td>0.009249</td>\n",
       "      <td>0.040848</td>\n",
       "      <td>0.022351</td>\n",
       "      <td>0.210790</td>\n",
       "      <td>0.072832</td>\n",
       "      <td>0.006936</td>\n",
       "    </tr>\n",
       "  </tbody>\n",
       "</table>\n",
       "</div>"
      ],
      "text/plain": [
       "          CONJ       NUM       PRT      VERB       ADV         X       DET  \\\n",
       "CONJ  0.000466  0.041978  0.004664  0.156250  0.054571  0.008396  0.121269   \n",
       "NUM   0.014030  0.185075  0.027164  0.018209  0.002687  0.210149  0.003582   \n",
       "PRT   0.002286  0.057152  0.001633  0.403005  0.009471  0.012084  0.100261   \n",
       "VERB  0.005527  0.022653  0.031060  0.168613  0.081582  0.218045  0.134750   \n",
       "ADV   0.006338  0.031354  0.014676  0.342895  0.079386  0.024016  0.069046   \n",
       "X     0.009443  0.002401  0.185980  0.204706  0.026088  0.074264  0.054738   \n",
       "DET   0.000483  0.021975  0.000121  0.039362  0.012437  0.045641  0.005796   \n",
       ".     0.058738  0.080788  0.002259  0.089011  0.052232  0.027381  0.174498   \n",
       "ADP   0.000748  0.063161  0.001389  0.008336  0.013145  0.033985  0.323608   \n",
       "NOUN  0.042437  0.009240  0.044372  0.147067  0.017274  0.028778  0.013257   \n",
       "ADJ   0.016991  0.020620  0.010393  0.011877  0.004619  0.020455  0.004784   \n",
       "PRON  0.005395  0.007707  0.013102  0.483622  0.034297  0.092871  0.009249   \n",
       "\n",
       "             .       ADP      NOUN       ADJ      PRON  \n",
       "CONJ  0.034981  0.049440  0.353545  0.115672  0.058769  \n",
       "NUM   0.115224  0.035224  0.353731  0.033433  0.001493  \n",
       "PRT   0.041803  0.021228  0.247551  0.084912  0.018615  \n",
       "VERB  0.035030  0.090690  0.110696  0.065312  0.036042  \n",
       "ADV   0.137759  0.119746  0.031688  0.129086  0.014009  \n",
       "X     0.162292  0.144046  0.062900  0.017125  0.056018  \n",
       "DET   0.017749  0.009418  0.638735  0.204661  0.003622  \n",
       ".     0.092988  0.091451  0.220676  0.044189  0.065697  \n",
       "ADP   0.040504  0.016886  0.323394  0.106338  0.068505  \n",
       "NOUN  0.239062  0.177489  0.264042  0.012161  0.004821  \n",
       "ADJ   0.064665  0.078852  0.698779  0.067305  0.000660  \n",
       "PRON  0.040848  0.022351  0.210790  0.072832  0.006936  "
      ]
     },
     "execution_count": 15,
     "metadata": {},
     "output_type": "execute_result"
    }
   ],
   "source": [
    "df_tags"
   ]
  },
  {
   "cell_type": "code",
   "execution_count": 16,
   "metadata": {},
   "outputs": [
    {
     "data": {
      "text/plain": [
       "CONJ    0.058738\n",
       "NUM     0.080788\n",
       "PRT     0.002259\n",
       "VERB    0.089011\n",
       "ADV     0.052232\n",
       "X       0.027381\n",
       "DET     0.174498\n",
       ".       0.092988\n",
       "ADP     0.091451\n",
       "NOUN    0.220676\n",
       "ADJ     0.044189\n",
       "PRON    0.065697\n",
       "Name: ., dtype: float32"
      ]
     },
     "execution_count": 16,
     "metadata": {},
     "output_type": "execute_result"
    }
   ],
   "source": [
    "df_tags.loc['.', :]"
   ]
  },
  {
   "cell_type": "code",
   "execution_count": 17,
   "metadata": {},
   "outputs": [
    {
     "data": {
      "image/png": "[encoded data removed]",
      "text/plain": [
       "<Figure size 1296x864 with 2 Axes>"
      ]
     },
     "metadata": {
      "needs_background": "light"
     },
     "output_type": "display_data"
    }
   ],
   "source": [
    "# heatmap of tags matrix\n",
    "# T(i, j) means P(tag j given tag i)\n",
    "plt.figure(figsize=(18, 12))\n",
    "sns.heatmap(df_tags)\n",
    "plt.show()"
   ]
  },
  {
   "cell_type": "code",
   "execution_count": 18,
   "metadata": {},
   "outputs": [
    {
     "data": {
      "image/png": "[encoded data removed]",
      "text/plain": [
       "<Figure size 1296x864 with 2 Axes>"
      ]
     },
     "metadata": {
      "needs_background": "light"
     },
     "output_type": "display_data"
    }
   ],
   "source": [
    "# frequent tags\n",
    "# filter the df to get P(t2, t1) > 0.5\n",
    "tags_frequent = df_tags[df_tags>0.5]\n",
    "plt.figure(figsize=(18, 12))\n",
    "sns.heatmap(tags_frequent)\n",
    "plt.show()"
   ]
  },
  {
   "cell_type": "markdown",
   "metadata": {},
   "source": [
    "### Build the vanilla Viterbi based POS tagger"
   ]
  },
  {
   "cell_type": "code",
   "execution_count": 19,
   "metadata": {},
   "outputs": [
    {
     "data": {
      "text/plain": [
       "95392"
      ]
     },
     "execution_count": 19,
     "metadata": {},
     "output_type": "execute_result"
    }
   ],
   "source": [
    "len(train_tagged_words)"
   ]
  },
  {
   "cell_type": "code",
   "execution_count": 20,
   "metadata": {},
   "outputs": [],
   "source": [
    "# Viterbi Heuristic Function\n",
    "\n",
    "def Viterbi(words, train_bag = train_tagged_words, tag_matrix=df_tags):\n",
    "    state = []\n",
    "    T = list(set([pair[1] for pair in train_bag]))\n",
    "    \n",
    "    for key, word in enumerate(words):\n",
    "        #initialise list of probability column for a given observation\n",
    "        p = [] \n",
    "        for tag in T:\n",
    "            if key == 0:\n",
    "                transition_p = tag_matrix.loc['.', tag]\n",
    "            else:\n",
    "                transition_p = tag_matrix.loc[state[-1], tag]\n",
    "                \n",
    "            # compute emission and state probabilities\n",
    "            emission_p = word_given_tag(words[key], tag)[2]\n",
    "            state_probability = emission_p * transition_p    \n",
    "            p.append(state_probability)\n",
    "            \n",
    "        pmax = max(p)\n",
    "        # getting state for which probability is maximum\n",
    "        state_max = T[p.index(pmax)] \n",
    "        state.append(state_max)\n",
    "    return list(zip(words, state))"
   ]
  },
  {
   "cell_type": "code",
   "execution_count": 21,
   "metadata": {},
   "outputs": [
    {
     "data": {
      "text/plain": [
       "[[('He', 'PRON'),\n",
       "  ('added', 'VERB'),\n",
       "  (',', '.'),\n",
       "  ('``', '.'),\n",
       "  ('There', 'DET'),\n",
       "  (\"'s\", 'VERB'),\n",
       "  ('nothing', 'NOUN'),\n",
       "  ('very', 'ADV'),\n",
       "  ('hot', 'ADJ'),\n",
       "  ('.', '.'),\n",
       "  (\"''\", '.')],\n",
       " [('He', 'PRON'),\n",
       "  ('says', 'VERB'),\n",
       "  ('0', 'X'),\n",
       "  ('the', 'DET'),\n",
       "  ('10', 'NUM'),\n",
       "  ('citizen-sparked', 'ADJ'),\n",
       "  ('issues', 'NOUN'),\n",
       "  ('on', 'ADP'),\n",
       "  ('state', 'NOUN'),\n",
       "  ('ballots', 'NOUN'),\n",
       "  ('this', 'DET'),\n",
       "  ('fall', 'NOUN'),\n",
       "  ('represent', 'VERB'),\n",
       "  ('the', 'DET'),\n",
       "  ('most', 'ADJ'),\n",
       "  ('in', 'ADP'),\n",
       "  ('any', 'DET'),\n",
       "  ('odd-year', 'ADJ'),\n",
       "  ('this', 'DET'),\n",
       "  ('decade', 'NOUN'),\n",
       "  ('.', '.')],\n",
       " [('That', 'DET'),\n",
       "  ('ought', 'VERB'),\n",
       "  ('*-1', 'X'),\n",
       "  ('to', 'PRT'),\n",
       "  ('make', 'VERB'),\n",
       "  ('sure', 'ADJ'),\n",
       "  ('0', 'X'),\n",
       "  ('we', 'PRON'),\n",
       "  (\"'re\", 'VERB'),\n",
       "  ('all', 'DET'),\n",
       "  ('thinking', 'VERB'),\n",
       "  ('for', 'ADP'),\n",
       "  ('the', 'DET'),\n",
       "  ('long', 'ADJ'),\n",
       "  ('term', 'NOUN'),\n",
       "  ('.', '.')],\n",
       " [('The', 'DET'),\n",
       "  ('battery', 'NOUN'),\n",
       "  ('plant', 'NOUN'),\n",
       "  (',', '.'),\n",
       "  ('which', 'DET'),\n",
       "  ('*T*-2', 'X'),\n",
       "  ('makes', 'VERB'),\n",
       "  ('rechargeable', 'ADJ'),\n",
       "  ('nickel', 'NOUN'),\n",
       "  ('cadmium', 'NOUN'),\n",
       "  ('and', 'CONJ'),\n",
       "  ('carbon', 'NOUN'),\n",
       "  ('zinc', 'NOUN'),\n",
       "  ('products', 'NOUN'),\n",
       "  (',', '.'),\n",
       "  ('will', 'VERB'),\n",
       "  ('be', 'VERB'),\n",
       "  ('closed', 'VERB'),\n",
       "  ('*-1', 'X'),\n",
       "  ('over', 'ADP'),\n",
       "  ('the', 'DET'),\n",
       "  ('next', 'ADJ'),\n",
       "  ('year', 'NOUN'),\n",
       "  ('or', 'CONJ'),\n",
       "  ('so', 'ADV'),\n",
       "  (',', '.'),\n",
       "  ('a', 'DET'),\n",
       "  ('spokesman', 'NOUN'),\n",
       "  ('said', 'VERB'),\n",
       "  ('0', 'X'),\n",
       "  ('*T*-3', 'X'),\n",
       "  ('.', '.')],\n",
       " [('Put', 'VERB'),\n",
       "  ('option', 'NOUN'),\n",
       "  ('March', 'NOUN'),\n",
       "  ('31', 'NUM'),\n",
       "  (',', '.'),\n",
       "  ('1992', 'NUM'),\n",
       "  (',', '.'),\n",
       "  ('at', 'ADP'),\n",
       "  ('a', 'DET'),\n",
       "  ('fixed', 'VERB'),\n",
       "  ('107', 'NUM'),\n",
       "  ('7\\\\/8', 'NUM'),\n",
       "  ('*', 'X'),\n",
       "  ('to', 'PRT'),\n",
       "  ('yield', 'VERB'),\n",
       "  ('3.43', 'NUM'),\n",
       "  ('%', 'NOUN'),\n",
       "  ('.', '.')]]"
      ]
     },
     "execution_count": 21,
     "metadata": {},
     "output_type": "execute_result"
    }
   ],
   "source": [
    "# Running on entire test dataset would take more than 3-4hrs. \n",
    "# Let's test our Viterbi algorithm on a few sample sentences of test dataset\n",
    "\n",
    "random.seed(1234)\n",
    "\n",
    "# choose random 5 sents\n",
    "rndom = [random.randint(1,len(test_set)) for x in range(5)]\n",
    "\n",
    "# list of sents\n",
    "test_run = [test_set[i] for i in rndom]\n",
    "\n",
    "# list of tagged words\n",
    "test_run_base = [tup for sent in test_run for tup in sent]\n",
    "\n",
    "# list of untagged words\n",
    "test_tagged_words = [tup[0] for sent in test_run for tup in sent]\n",
    "test_run"
   ]
  },
  {
   "cell_type": "code",
   "execution_count": 22,
   "metadata": {},
   "outputs": [],
   "source": [
    "# tagging the test sentences through Vanilla Viterbi Algorithm\n",
    "start = time.time()\n",
    "tagged_seq = Viterbi(test_tagged_words)\n",
    "end = time.time()\n",
    "difference = end-start"
   ]
  },
  {
   "cell_type": "code",
   "execution_count": 23,
   "metadata": {},
   "outputs": [
    {
     "name": "stdout",
     "output_type": "stream",
     "text": [
      "Time taken in seconds:  16.43694019317627\n",
      "[('He', 'PRON'), ('added', 'VERB'), (',', '.'), ('``', '.'), ('There', 'DET')]\n"
     ]
    }
   ],
   "source": [
    "print(\"Time taken in seconds: \", difference)\n",
    "print(tagged_seq[:5])"
   ]
  },
  {
   "cell_type": "code",
   "execution_count": 24,
   "metadata": {},
   "outputs": [],
   "source": [
    "# accuracy of Vanilla Viterbi Algorithm\n",
    "check = [i for i, j in zip(tagged_seq, test_run_base) if i == j] "
   ]
  },
  {
   "cell_type": "code",
   "execution_count": 25,
   "metadata": {},
   "outputs": [],
   "source": [
    "accuracy = len(check)/len(tagged_seq)"
   ]
  },
  {
   "cell_type": "code",
   "execution_count": 26,
   "metadata": {},
   "outputs": [
    {
     "data": {
      "text/plain": [
       "0.9285714285714286"
      ]
     },
     "execution_count": 26,
     "metadata": {},
     "output_type": "execute_result"
    }
   ],
   "source": [
    "accuracy"
   ]
  },
  {
   "cell_type": "code",
   "execution_count": 27,
   "metadata": {},
   "outputs": [],
   "source": [
    "incorrect_tagged_cases = [[test_run_base[i-1],j] for i, j in enumerate(zip(tagged_seq, test_run_base)) if j[0]!=j[1]]"
   ]
  },
  {
   "cell_type": "code",
   "execution_count": 28,
   "metadata": {},
   "outputs": [
    {
     "data": {
      "text/plain": [
       "[[('10', 'NUM'), (('citizen-sparked', 'CONJ'), ('citizen-sparked', 'ADJ'))],\n",
       " [('state', 'NOUN'), (('ballots', 'CONJ'), ('ballots', 'NOUN'))],\n",
       " [('makes', 'VERB'), (('rechargeable', 'CONJ'), ('rechargeable', 'ADJ'))],\n",
       " [('nickel', 'NOUN'), (('cadmium', 'CONJ'), ('cadmium', 'NOUN'))],\n",
       " [('and', 'CONJ'), (('carbon', 'CONJ'), ('carbon', 'NOUN'))],\n",
       " [('carbon', 'NOUN'), (('zinc', 'CONJ'), ('zinc', 'NOUN'))],\n",
       " [('yield', 'VERB'), (('3.43', 'CONJ'), ('3.43', 'NUM'))]]"
      ]
     },
     "execution_count": 28,
     "metadata": {},
     "output_type": "execute_result"
    }
   ],
   "source": [
    "incorrect_tagged_cases"
   ]
  },
  {
   "cell_type": "code",
   "execution_count": 29,
   "metadata": {},
   "outputs": [
    {
     "name": "stdout",
     "output_type": "stream",
     "text": [
      "Time taken in seconds:  30.520745754241943\n",
      "[('Android', 'CONJ'), ('is', 'VERB'), ('a', 'DET'), ('mobile', 'ADJ'), ('operating', 'NOUN'), ('system', 'NOUN'), ('developed', 'VERB'), ('by', 'ADP'), ('Google', 'CONJ'), ('.', '.'), ('Android', 'CONJ'), ('has', 'VERB'), ('been', 'VERB'), ('the', 'DET'), ('best-selling', 'ADJ'), ('OS', 'CONJ'), ('worldwide', 'CONJ'), ('on', 'ADP'), ('smartphones', 'CONJ'), ('since', 'ADP'), ('2011', 'CONJ'), ('and', 'CONJ'), ('on', 'ADP'), ('tablets', 'NOUN'), ('since', 'ADP'), ('2013', 'CONJ'), ('.', '.'), ('Google', 'CONJ'), ('and', 'CONJ'), ('Twitter', 'CONJ'), ('made', 'VERB'), ('a', 'DET'), ('deal', 'NOUN'), ('in', 'ADP'), ('2015', 'CONJ'), ('that', 'DET'), ('gave', 'VERB'), ('Google', 'CONJ'), ('access', 'NOUN'), ('to', 'PRT'), ('Twitter', 'CONJ'), (\"'s\", 'VERB'), ('firehose', 'CONJ'), ('.', '.'), ('Twitter', 'CONJ'), ('is', 'VERB'), ('an', 'DET'), ('online', 'CONJ'), ('news', 'NOUN'), ('and', 'CONJ'), ('social', 'ADJ'), ('networking', 'NOUN'), ('service', 'NOUN'), ('on', 'ADP'), ('which', 'DET'), ('users', 'NOUN'), ('post', 'NOUN'), ('and', 'CONJ'), ('interact', 'CONJ'), ('with', 'ADP'), ('messages', 'CONJ'), ('known', 'VERB'), ('as', 'ADP'), ('tweets', 'CONJ'), ('.', '.'), ('Before', 'ADP'), ('entering', 'VERB'), ('politics', 'NOUN'), (',', '.'), ('Donald', 'NOUN'), ('Trump', 'NOUN'), ('was', 'VERB'), ('a', 'DET'), ('domineering', 'CONJ'), ('businessman', 'NOUN'), ('and', 'CONJ'), ('a', 'DET'), ('television', 'NOUN'), ('personality', 'CONJ'), ('.', '.'), ('The', 'DET'), ('2018', 'CONJ'), ('FIFA', 'CONJ'), ('World', 'NOUN'), ('Cup', 'CONJ'), ('is', 'VERB'), ('the', 'DET'), ('21st', 'CONJ'), ('FIFA', 'CONJ'), ('World', 'NOUN'), ('Cup', 'CONJ'), (',', '.'), ('an', 'DET'), ('international', 'NOUN'), ('football', 'NOUN'), ('tournament', 'CONJ'), ('contested', 'CONJ'), ('once', 'ADV'), ('every', 'DET'), ('four', 'NUM'), ('years', 'NOUN'), ('.', '.'), ('This', 'DET'), ('is', 'VERB'), ('the', 'DET'), ('first', 'ADJ'), ('World', 'NOUN'), ('Cup', 'CONJ'), ('to', 'PRT'), ('be', 'VERB'), ('held', 'VERB'), ('in', 'ADP'), ('Eastern', 'NOUN'), ('Europe', 'NOUN'), ('and', 'CONJ'), ('the', 'DET'), ('11th', 'ADJ'), ('time', 'NOUN'), ('that', 'ADP'), ('it', 'PRON'), ('has', 'VERB'), ('been', 'VERB'), ('held', 'VERB'), ('in', 'ADP'), ('Europe', 'NOUN'), ('.', '.'), ('Show', 'NOUN'), ('me', 'PRON'), ('the', 'DET'), ('cheapest', 'ADJ'), ('round', 'NOUN'), ('trips', 'CONJ'), ('from', 'ADP'), ('Dallas', 'NOUN'), ('to', 'PRT'), ('Atlanta', 'NOUN'), ('I', 'PRON'), ('would', 'VERB'), ('like', 'ADP'), ('to', 'PRT'), ('see', 'VERB'), ('flights', 'NOUN'), ('from', 'ADP'), ('Denver', 'NOUN'), ('to', 'PRT'), ('Philadelphia', 'NOUN'), ('.', '.'), ('Show', 'NOUN'), ('me', 'PRON'), ('the', 'DET'), ('price', 'NOUN'), ('of', 'ADP'), ('the', 'DET'), ('flights', 'NOUN'), ('leaving', 'VERB'), ('Atlanta', 'NOUN'), ('at', 'ADP'), ('about', 'ADP'), ('3', 'NUM'), ('in', 'ADP'), ('the', 'DET'), ('afternoon', 'NOUN'), ('and', 'CONJ'), ('arriving', 'CONJ'), ('in', 'ADP'), ('San', 'NOUN'), ('Francisco', 'NOUN'), ('.', '.'), ('NASA', 'CONJ'), ('invited', 'CONJ'), ('social', 'ADJ'), ('media', 'NOUN'), ('users', 'NOUN'), ('to', 'PRT'), ('experience', 'NOUN'), ('the', 'DET'), ('launch', 'NOUN'), ('of', 'ADP'), ('ICESAT-2', 'CONJ'), ('Satellite', 'CONJ'), ('.', '.')]\n"
     ]
    }
   ],
   "source": [
    "# Tagging the Sample File with the Vanila viterbi Function \n",
    "\n",
    "start=time.time()\n",
    "sample_tagged_seq=Viterbi(SampleUntaggedWords)\n",
    "end=time.time()\n",
    "difference=end-start\n",
    "print(\"Time taken in seconds: \", difference)\n",
    "print(sample_tagged_seq)"
   ]
  },
  {
   "cell_type": "markdown",
   "metadata": {},
   "source": [
    "### Solve the problem of unknown words"
   ]
  },
  {
   "cell_type": "markdown",
   "metadata": {},
   "source": [
    "### Method 1"
   ]
  },
  {
   "cell_type": "markdown",
   "metadata": {},
   "source": [
    "### Regular Expression based Tagging on unknown words."
   ]
  },
  {
   "cell_type": "code",
   "execution_count": 30,
   "metadata": {},
   "outputs": [],
   "source": [
    "## Call the function for both train-test set and sample sentence provided and calculate accuracy before and after.\n",
    "    \n",
    "\"\"\"\n",
    "Various patterns defined for recognizing the words that are not present in the vocabulary\n",
    "\"\"\"\n",
    "patterns = [\n",
    "    (r'.*ing$', 'VERB'),               # gerunds\n",
    "    (r'.*ed$', 'VERB'),                # simple past\n",
    "    (r'.*es$', 'VERB'),                # 3rd singular present\n",
    "    (r'.*ould$', 'VERB'),               # modals\n",
    "    (r'.*\\'s$', 'NOUN'),               # possessive nouns\n",
    "    (r'.*s$', 'NOUN'),                 # plural nouns\n",
    "    (r'^-?[0-9]+(.[0-9]+)?$', 'NUM'),  # numbers\n",
    "    (r'(The|the|A|a|An|an)$', 'DET'),   # articles \n",
    "    (r'.*able$', 'ADJ'),                # adjectives \n",
    "    (r'.*ness$', 'NOUN'),                # nouns formed from adjectives\n",
    "    (r'.*ly$', 'ADV'),                  # adverbs\n",
    "    (r'(He|he|She|she|It|it|I|me|Me|You|you)$', 'PRON'), # pronouns\n",
    "    (r'(His|his|Her|her|Its|its)$', 'PRON'),    # possesive\n",
    "    (r'(my|Your|your|Yours|yours)$', 'PRON'),   # possesive\n",
    "    (r'(on|On|in|In|at|At|since|Since)$', 'ADP'),# time prepopsitions\n",
    "    (r'(for|For|ago|Ago|before|Before)$', 'ADP'),# time prepopsitions\n",
    "    (r'(till|Till|until|Until)$', 'ADP'),        # time prepopsitions\n",
    "    (r'(by|By|beside|Beside)$', 'ADP'),          # space prepopsitions\n",
    "    (r'(under|Under|below|Below)$', 'ADP'),      # space prepopsitions\n",
    "    (r'(over|Over|above|Above)$', 'ADP'),        # space prepopsitions\n",
    "    (r'(across|Across|through|Through)$', 'ADP'),# space prepopsitions\n",
    "    (r'(into|Into|towards|Towards)$', 'ADP'),    # space prepopsitions\n",
    "    (r'(onto|Onto|from|From)$', 'ADP'),          # space prepopsitions    \n",
    "    (r'[0-9]+\\-[0-9]+', 'NUM'),                      # Number     \n",
    "    (r'^\\*', 'X'),                        \n",
    "    (r'.*', 'NOUN')                      # nouns (default) as the maximum number of words are assigned Nouns\n",
    "    ]"
   ]
  },
  {
   "cell_type": "code",
   "execution_count": 31,
   "metadata": {},
   "outputs": [],
   "source": [
    "# Viterbi Heuristic Function based on on Regex Patterns\n",
    "\n",
    "def Viterbi_with_Regex_Patterns(words, RegexPattern=patterns, train_bag = train_tagged_words, tag_matrix=df_tags):\n",
    "    state = []\n",
    "    T = list(set([pair[1] for pair in train_bag]))\n",
    "    Vocab=list(set(pair[0] for pair in train_bag))\n",
    "    regexp_tagger = nltk.RegexpTagger(RegexPattern)\n",
    "\n",
    "    for key, word in enumerate(words):\n",
    "        if (words[key] in Vocab):\n",
    "            #initialise list of probability column for a given observation\n",
    "            p = [] \n",
    "            for tag in T:\n",
    "                if key == 0:\n",
    "                    transition_p = tag_matrix.loc['.', tag]\n",
    "                else:\n",
    "                    transition_p = tag_matrix.loc[state[-1], tag]\n",
    "                # compute emission and state probabilities\n",
    "                emission_p = word_given_tag(words[key], tag)[2]\n",
    "                state_probability = emission_p * transition_p    \n",
    "                p.append(state_probability)\n",
    "            pmax = max(p)\n",
    "            # getting state for which probability is maximum\n",
    "            state_max = T[p.index(pmax)] \n",
    "            state.append(state_max)\n",
    "        else:\n",
    "            Derived_Tag=regexp_tagger.tag([words[key]])[0][1]\n",
    "            state.append(Derived_Tag)\n",
    "    return list(zip(words, state))"
   ]
  },
  {
   "cell_type": "code",
   "execution_count": 32,
   "metadata": {},
   "outputs": [
    {
     "name": "stdout",
     "output_type": "stream",
     "text": [
      "Time taken in seconds:  15.131865501403809\n",
      "[('He', 'PRON'), ('added', 'VERB'), (',', '.'), ('``', '.'), ('There', 'DET'), (\"'s\", 'VERB'), ('nothing', 'NOUN'), ('very', 'ADV'), ('hot', 'ADJ'), ('.', '.'), (\"''\", '.'), ('He', 'PRON'), ('says', 'VERB'), ('0', 'X'), ('the', 'DET'), ('10', 'NUM'), ('citizen-sparked', 'VERB'), ('issues', 'NOUN'), ('on', 'ADP'), ('state', 'NOUN'), ('ballots', 'NOUN'), ('this', 'DET'), ('fall', 'NOUN'), ('represent', 'VERB'), ('the', 'DET'), ('most', 'ADJ'), ('in', 'ADP'), ('any', 'DET'), ('odd-year', 'NOUN'), ('this', 'DET'), ('decade', 'NOUN'), ('.', '.'), ('That', 'DET'), ('ought', 'VERB'), ('*-1', 'X'), ('to', 'PRT'), ('make', 'VERB'), ('sure', 'ADJ'), ('0', 'X'), ('we', 'PRON'), (\"'re\", 'VERB'), ('all', 'DET'), ('thinking', 'VERB'), ('for', 'ADP'), ('the', 'DET'), ('long', 'ADJ'), ('term', 'NOUN'), ('.', '.'), ('The', 'DET'), ('battery', 'NOUN')]\n"
     ]
    }
   ],
   "source": [
    "start = time.time()\n",
    "tagged_seq_technique1 = Viterbi_with_Regex_Patterns(test_tagged_words)\n",
    "end = time.time()\n",
    "difference = end-start\n",
    "\n",
    "print(\"Time taken in seconds: \", difference)\n",
    "print(tagged_seq_technique1[:50])"
   ]
  },
  {
   "cell_type": "code",
   "execution_count": 33,
   "metadata": {},
   "outputs": [
    {
     "data": {
      "text/plain": [
       "0.9795918367346939"
      ]
     },
     "execution_count": 33,
     "metadata": {},
     "output_type": "execute_result"
    }
   ],
   "source": [
    "check_technique1 = [i for i, j in zip(tagged_seq_technique1, test_run_base) if i == j] \n",
    "accuracy_technique1 = len(check_technique1)/len(tagged_seq)\n",
    "accuracy_technique1"
   ]
  },
  {
   "cell_type": "code",
   "execution_count": 34,
   "metadata": {},
   "outputs": [
    {
     "name": "stdout",
     "output_type": "stream",
     "text": [
      "Time taken in seconds:  24.701412677764893\n",
      "[('Android', 'NOUN'), ('is', 'VERB'), ('a', 'DET'), ('mobile', 'ADJ'), ('operating', 'NOUN'), ('system', 'NOUN'), ('developed', 'VERB'), ('by', 'ADP'), ('Google', 'NOUN'), ('.', '.'), ('Android', 'NOUN'), ('has', 'VERB'), ('been', 'VERB'), ('the', 'DET'), ('best-selling', 'ADJ'), ('OS', 'NOUN'), ('worldwide', 'NOUN'), ('on', 'ADP'), ('smartphones', 'VERB'), ('since', 'ADP'), ('2011', 'NUM'), ('and', 'CONJ'), ('on', 'ADP'), ('tablets', 'NOUN'), ('since', 'ADP'), ('2013', 'NUM'), ('.', '.'), ('Google', 'NOUN'), ('and', 'CONJ'), ('Twitter', 'NOUN'), ('made', 'VERB'), ('a', 'DET'), ('deal', 'NOUN'), ('in', 'ADP'), ('2015', 'NUM'), ('that', 'ADP'), ('gave', 'VERB'), ('Google', 'NOUN'), ('access', 'NOUN'), ('to', 'PRT'), ('Twitter', 'NOUN'), (\"'s\", 'PRT'), ('firehose', 'NOUN'), ('.', '.'), ('Twitter', 'NOUN'), ('is', 'VERB'), ('an', 'DET'), ('online', 'NOUN'), ('news', 'NOUN'), ('and', 'CONJ'), ('social', 'ADJ'), ('networking', 'NOUN'), ('service', 'NOUN'), ('on', 'ADP'), ('which', 'DET'), ('users', 'NOUN'), ('post', 'NOUN'), ('and', 'CONJ'), ('interact', 'NOUN'), ('with', 'ADP'), ('messages', 'VERB'), ('known', 'VERB'), ('as', 'ADP'), ('tweets', 'NOUN'), ('.', '.'), ('Before', 'ADP'), ('entering', 'VERB'), ('politics', 'NOUN'), (',', '.'), ('Donald', 'NOUN'), ('Trump', 'NOUN'), ('was', 'VERB'), ('a', 'DET'), ('domineering', 'VERB'), ('businessman', 'NOUN'), ('and', 'CONJ'), ('a', 'DET'), ('television', 'NOUN'), ('personality', 'NOUN'), ('.', '.'), ('The', 'DET'), ('2018', 'NUM'), ('FIFA', 'NOUN'), ('World', 'NOUN'), ('Cup', 'NOUN'), ('is', 'VERB'), ('the', 'DET'), ('21st', 'NOUN'), ('FIFA', 'NOUN'), ('World', 'NOUN'), ('Cup', 'NOUN'), (',', '.'), ('an', 'DET'), ('international', 'NOUN'), ('football', 'NOUN'), ('tournament', 'NOUN'), ('contested', 'VERB'), ('once', 'ADV'), ('every', 'DET'), ('four', 'NUM'), ('years', 'NOUN'), ('.', '.'), ('This', 'DET'), ('is', 'VERB'), ('the', 'DET'), ('first', 'ADJ'), ('World', 'NOUN'), ('Cup', 'NOUN'), ('to', 'PRT'), ('be', 'VERB'), ('held', 'VERB'), ('in', 'ADP'), ('Eastern', 'NOUN'), ('Europe', 'NOUN'), ('and', 'CONJ'), ('the', 'DET'), ('11th', 'ADJ'), ('time', 'NOUN'), ('that', 'ADP'), ('it', 'PRON'), ('has', 'VERB'), ('been', 'VERB'), ('held', 'VERB'), ('in', 'ADP'), ('Europe', 'NOUN'), ('.', '.'), ('Show', 'NOUN'), ('me', 'PRON'), ('the', 'DET'), ('cheapest', 'ADJ'), ('round', 'NOUN'), ('trips', 'NOUN'), ('from', 'ADP'), ('Dallas', 'NOUN'), ('to', 'PRT'), ('Atlanta', 'NOUN'), ('I', 'PRON'), ('would', 'VERB'), ('like', 'ADP'), ('to', 'PRT'), ('see', 'VERB'), ('flights', 'NOUN'), ('from', 'ADP'), ('Denver', 'NOUN'), ('to', 'PRT'), ('Philadelphia', 'NOUN'), ('.', '.'), ('Show', 'NOUN'), ('me', 'PRON'), ('the', 'DET'), ('price', 'NOUN'), ('of', 'ADP'), ('the', 'DET'), ('flights', 'NOUN'), ('leaving', 'VERB'), ('Atlanta', 'NOUN'), ('at', 'ADP'), ('about', 'ADP'), ('3', 'NUM'), ('in', 'ADP'), ('the', 'DET'), ('afternoon', 'NOUN'), ('and', 'CONJ'), ('arriving', 'VERB'), ('in', 'ADP'), ('San', 'NOUN'), ('Francisco', 'NOUN'), ('.', '.'), ('NASA', 'NOUN'), ('invited', 'VERB'), ('social', 'ADJ'), ('media', 'NOUN'), ('users', 'NOUN'), ('to', 'PRT'), ('experience', 'NOUN'), ('the', 'DET'), ('launch', 'NOUN'), ('of', 'ADP'), ('ICESAT-2', 'NOUN'), ('Satellite', 'NOUN'), ('.', '.')]\n"
     ]
    }
   ],
   "source": [
    "# Tagging the Sample File with the Viterbi Function Technique I - \n",
    "# implementing Regex function for the unknown words\n",
    "\n",
    "start=time.time()\n",
    "sample_tagged_seq_technique_1=Viterbi_with_Regex_Patterns(SampleUntaggedWords)\n",
    "end=time.time()\n",
    "difference=end-start\n",
    "print(\"Time taken in seconds: \", difference)\n",
    "print(sample_tagged_seq_technique_1)"
   ]
  },
  {
   "cell_type": "markdown",
   "metadata": {},
   "source": [
    "###  Method 2"
   ]
  },
  {
   "cell_type": "markdown",
   "metadata": {},
   "source": [
    "<b>Probablistic approach, based on the previous Tag / Transitional Probability</b>"
   ]
  },
  {
   "cell_type": "code",
   "execution_count": 35,
   "metadata": {},
   "outputs": [],
   "source": [
    "def Viterbi_with_TransitionPobability(words, RegexPattern=patterns, train_bag = train_tagged_words, tag_matrix=df_tags):\n",
    "    state = []\n",
    "    T = list(set([pair[1] for pair in train_bag]))\n",
    "    Vocab=list(set(pair[0] for pair in train_bag))\n",
    "\n",
    "    for key, word in enumerate(words):\n",
    "        #initialise list of probability column for a given observation\n",
    "        p = [] \n",
    "        for tag in T:\n",
    "            if key == 0:\n",
    "                transition_p = tag_matrix.loc['.', tag]\n",
    "            else:\n",
    "                transition_p = tag_matrix.loc[state[-1], tag]\n",
    "            # compute emission and state probabilities\n",
    "            if (words[key] in Vocab):\n",
    "                emission_p = word_given_tag(words[key], tag)[2]\n",
    "            else:\n",
    "                emission_p=1\n",
    "            state_probability = emission_p * transition_p    \n",
    "            p.append(state_probability)\n",
    "        pmax = max(p)\n",
    "        # getting state for which probability is maximum\n",
    "        state_max = T[p.index(pmax)] \n",
    "        state.append(state_max)\n",
    "    return list(zip(words, state))"
   ]
  },
  {
   "cell_type": "code",
   "execution_count": 36,
   "metadata": {},
   "outputs": [
    {
     "name": "stdout",
     "output_type": "stream",
     "text": [
      "Time taken in seconds:  15.851906538009644\n",
      "[('He', 'PRON'), ('added', 'VERB'), (',', '.'), ('``', '.'), ('There', 'DET'), (\"'s\", 'VERB'), ('nothing', 'NOUN'), ('very', 'ADV'), ('hot', 'ADJ'), ('.', '.'), (\"''\", '.'), ('He', 'PRON'), ('says', 'VERB'), ('0', 'X'), ('the', 'DET'), ('10', 'NUM'), ('citizen-sparked', 'NOUN'), ('issues', 'NOUN'), ('on', 'ADP'), ('state', 'NOUN'), ('ballots', 'NOUN'), ('this', 'DET'), ('fall', 'NOUN'), ('represent', 'VERB'), ('the', 'DET'), ('most', 'ADJ'), ('in', 'ADP'), ('any', 'DET'), ('odd-year', 'NOUN'), ('this', 'DET'), ('decade', 'NOUN'), ('.', '.'), ('That', 'DET'), ('ought', 'VERB'), ('*-1', 'X'), ('to', 'PRT'), ('make', 'VERB'), ('sure', 'ADJ'), ('0', 'X'), ('we', 'PRON'), (\"'re\", 'VERB'), ('all', 'DET'), ('thinking', 'VERB'), ('for', 'ADP'), ('the', 'DET'), ('long', 'ADJ'), ('term', 'NOUN'), ('.', '.'), ('The', 'DET'), ('battery', 'NOUN')]\n"
     ]
    }
   ],
   "source": [
    "start = time.time()\n",
    "tagged_seq_technique2= Viterbi_with_TransitionPobability(test_tagged_words)\n",
    "end = time.time()\n",
    "difference = end-start\n",
    "\n",
    "print(\"Time taken in seconds: \", difference)\n",
    "print(tagged_seq_technique2[:50])"
   ]
  },
  {
   "cell_type": "code",
   "execution_count": 37,
   "metadata": {},
   "outputs": [
    {
     "data": {
      "text/plain": [
       "0.9591836734693877"
      ]
     },
     "execution_count": 37,
     "metadata": {},
     "output_type": "execute_result"
    }
   ],
   "source": [
    "check_technique2 = [i for i, j in zip(tagged_seq_technique2, test_run_base) if i == j] \n",
    "accuracy_technique2 = len(check_technique2)/len(tagged_seq)\n",
    "accuracy_technique2"
   ]
  },
  {
   "cell_type": "code",
   "execution_count": 38,
   "metadata": {},
   "outputs": [
    {
     "name": "stdout",
     "output_type": "stream",
     "text": [
      "Time taken in seconds:  25.974485874176025\n",
      "[('Android', 'NOUN'), ('is', 'VERB'), ('a', 'DET'), ('mobile', 'ADJ'), ('operating', 'NOUN'), ('system', 'NOUN'), ('developed', 'VERB'), ('by', 'ADP'), ('Google', 'DET'), ('.', '.'), ('Android', 'NOUN'), ('has', 'VERB'), ('been', 'VERB'), ('the', 'DET'), ('best-selling', 'ADJ'), ('OS', 'NOUN'), ('worldwide', 'NOUN'), ('on', 'ADP'), ('smartphones', 'DET'), ('since', 'ADP'), ('2011', 'DET'), ('and', 'CONJ'), ('on', 'ADP'), ('tablets', 'NOUN'), ('since', 'ADP'), ('2013', 'DET'), ('.', '.'), ('Google', 'NOUN'), ('and', 'CONJ'), ('Twitter', 'NOUN'), ('made', 'VERB'), ('a', 'DET'), ('deal', 'NOUN'), ('in', 'ADP'), ('2015', 'DET'), ('that', 'ADP'), ('gave', 'VERB'), ('Google', 'X'), ('access', 'NOUN'), ('to', 'PRT'), ('Twitter', 'VERB'), (\"'s\", 'PRT'), ('firehose', 'VERB'), ('.', '.'), ('Twitter', 'NOUN'), ('is', 'VERB'), ('an', 'DET'), ('online', 'NOUN'), ('news', 'NOUN'), ('and', 'CONJ'), ('social', 'ADJ'), ('networking', 'NOUN'), ('service', 'NOUN'), ('on', 'ADP'), ('which', 'DET'), ('users', 'NOUN'), ('post', 'NOUN'), ('and', 'CONJ'), ('interact', 'NOUN'), ('with', 'ADP'), ('messages', 'DET'), ('known', 'VERB'), ('as', 'ADP'), ('tweets', 'DET'), ('.', '.'), ('Before', 'ADP'), ('entering', 'VERB'), ('politics', 'NOUN'), (',', '.'), ('Donald', 'NOUN'), ('Trump', 'NOUN'), ('was', 'VERB'), ('a', 'DET'), ('domineering', 'NOUN'), ('businessman', 'NOUN'), ('and', 'CONJ'), ('a', 'DET'), ('television', 'NOUN'), ('personality', 'NOUN'), ('.', '.'), ('The', 'DET'), ('2018', 'NOUN'), ('FIFA', 'NOUN'), ('World', 'NOUN'), ('Cup', 'NOUN'), ('is', 'VERB'), ('the', 'DET'), ('21st', 'NOUN'), ('FIFA', 'NOUN'), ('World', 'NOUN'), ('Cup', 'NOUN'), (',', '.'), ('an', 'DET'), ('international', 'NOUN'), ('football', 'NOUN'), ('tournament', 'NOUN'), ('contested', 'NOUN'), ('once', 'ADV'), ('every', 'DET'), ('four', 'NUM'), ('years', 'NOUN'), ('.', '.'), ('This', 'DET'), ('is', 'VERB'), ('the', 'DET'), ('first', 'ADJ'), ('World', 'NOUN'), ('Cup', 'NOUN'), ('to', 'PRT'), ('be', 'VERB'), ('held', 'VERB'), ('in', 'ADP'), ('Eastern', 'NOUN'), ('Europe', 'NOUN'), ('and', 'CONJ'), ('the', 'DET'), ('11th', 'ADJ'), ('time', 'NOUN'), ('that', 'ADP'), ('it', 'PRON'), ('has', 'VERB'), ('been', 'VERB'), ('held', 'VERB'), ('in', 'ADP'), ('Europe', 'NOUN'), ('.', '.'), ('Show', 'NOUN'), ('me', 'PRON'), ('the', 'DET'), ('cheapest', 'ADJ'), ('round', 'NOUN'), ('trips', 'NOUN'), ('from', 'ADP'), ('Dallas', 'NOUN'), ('to', 'PRT'), ('Atlanta', 'NOUN'), ('I', 'PRON'), ('would', 'VERB'), ('like', 'ADP'), ('to', 'PRT'), ('see', 'VERB'), ('flights', 'NOUN'), ('from', 'ADP'), ('Denver', 'NOUN'), ('to', 'PRT'), ('Philadelphia', 'NOUN'), ('.', '.'), ('Show', 'NOUN'), ('me', 'PRON'), ('the', 'DET'), ('price', 'NOUN'), ('of', 'ADP'), ('the', 'DET'), ('flights', 'NOUN'), ('leaving', 'VERB'), ('Atlanta', 'NOUN'), ('at', 'ADP'), ('about', 'ADP'), ('3', 'NUM'), ('in', 'ADP'), ('the', 'DET'), ('afternoon', 'NOUN'), ('and', 'CONJ'), ('arriving', 'NOUN'), ('in', 'ADP'), ('San', 'NOUN'), ('Francisco', 'NOUN'), ('.', '.'), ('NASA', 'NOUN'), ('invited', 'NOUN'), ('social', 'ADJ'), ('media', 'NOUN'), ('users', 'NOUN'), ('to', 'PRT'), ('experience', 'NOUN'), ('the', 'DET'), ('launch', 'NOUN'), ('of', 'ADP'), ('ICESAT-2', 'DET'), ('Satellite', 'NOUN'), ('.', '.')]\n"
     ]
    }
   ],
   "source": [
    "# Tagging the Sample File with the Viterbi Function Technique II\n",
    "# implementing tagging based on the transition probability in case word is not in vocabulary\n",
    "\n",
    "start=time.time()\n",
    "sample_tagged_seq_technique_2=Viterbi_with_TransitionPobability(SampleUntaggedWords)\n",
    "end=time.time()\n",
    "difference=end-start\n",
    "print(\"Time taken in seconds: \", difference)\n",
    "print(sample_tagged_seq_technique_2)"
   ]
  },
  {
   "cell_type": "markdown",
   "metadata": {},
   "source": [
    "### Evauating Accuracy for three methods(Vanilla,Regex,Probablistic)"
   ]
  },
  {
   "cell_type": "code",
   "execution_count": 39,
   "metadata": {},
   "outputs": [
    {
     "data": {
      "text/plain": [
       "(0.9285714285714286, 0.9795918367346939, 0.9591836734693877)"
      ]
     },
     "execution_count": 39,
     "metadata": {},
     "output_type": "execute_result"
    }
   ],
   "source": [
    "(accuracy, accuracy_technique1, accuracy_technique2)"
   ]
  },
  {
   "cell_type": "code",
   "execution_count": 40,
   "metadata": {},
   "outputs": [
    {
     "name": "stdout",
     "output_type": "stream",
     "text": [
      "Length of incorrect Tags :  7\n"
     ]
    },
    {
     "data": {
      "text/plain": [
       "[[('10', 'NUM'), (('citizen-sparked', 'CONJ'), ('citizen-sparked', 'ADJ'))],\n",
       " [('state', 'NOUN'), (('ballots', 'CONJ'), ('ballots', 'NOUN'))],\n",
       " [('makes', 'VERB'), (('rechargeable', 'CONJ'), ('rechargeable', 'ADJ'))],\n",
       " [('nickel', 'NOUN'), (('cadmium', 'CONJ'), ('cadmium', 'NOUN'))],\n",
       " [('and', 'CONJ'), (('carbon', 'CONJ'), ('carbon', 'NOUN'))],\n",
       " [('carbon', 'NOUN'), (('zinc', 'CONJ'), ('zinc', 'NOUN'))],\n",
       " [('yield', 'VERB'), (('3.43', 'CONJ'), ('3.43', 'NUM'))]]"
      ]
     },
     "execution_count": 40,
     "metadata": {},
     "output_type": "execute_result"
    }
   ],
   "source": [
    "# Incorrect tagged cases obtained with the vanila Viterbi Function\n",
    "print(\"Length of incorrect Tags : \", len(incorrect_tagged_cases))\n",
    "incorrect_tagged_cases"
   ]
  },
  {
   "cell_type": "code",
   "execution_count": 41,
   "metadata": {},
   "outputs": [
    {
     "name": "stdout",
     "output_type": "stream",
     "text": [
      "Length of incorrect Tags :  2\n"
     ]
    },
    {
     "data": {
      "text/plain": [
       "[[('10', 'NUM'), (('citizen-sparked', 'VERB'), ('citizen-sparked', 'ADJ'))],\n",
       " [('any', 'DET'), (('odd-year', 'NOUN'), ('odd-year', 'ADJ'))]]"
      ]
     },
     "execution_count": 41,
     "metadata": {},
     "output_type": "execute_result"
    }
   ],
   "source": [
    "# Incorrect tagged cases obtained with the Viterbi Function using the Regex Pattern \n",
    "incorrect_tagged_cases_technique_1 = [[test_run_base[i-1],j] for i, j in enumerate(zip(tagged_seq_technique1, test_run_base)) if j[0]!=j[1]]\n",
    "print(\"Length of incorrect Tags : \", len(incorrect_tagged_cases_technique_1))\n",
    "incorrect_tagged_cases_technique_1"
   ]
  },
  {
   "cell_type": "code",
   "execution_count": 42,
   "metadata": {},
   "outputs": [
    {
     "name": "stdout",
     "output_type": "stream",
     "text": [
      "Length of incorrect Tags :  4\n"
     ]
    },
    {
     "data": {
      "text/plain": [
       "[[('10', 'NUM'), (('citizen-sparked', 'NOUN'), ('citizen-sparked', 'ADJ'))],\n",
       " [('any', 'DET'), (('odd-year', 'NOUN'), ('odd-year', 'ADJ'))],\n",
       " [('makes', 'VERB'), (('rechargeable', 'X'), ('rechargeable', 'ADJ'))],\n",
       " [('yield', 'VERB'), (('3.43', 'X'), ('3.43', 'NUM'))]]"
      ]
     },
     "execution_count": 42,
     "metadata": {},
     "output_type": "execute_result"
    }
   ],
   "source": [
    "# Incorrect tagged cases obtained with the Viterbi Function using transition probability in case of unknown words\n",
    "incorrect_tagged_cases_technique_2 = [[test_run_base[i-1],j] for i, j in enumerate(zip(tagged_seq_technique2, test_run_base)) if j[0]!=j[1]]\n",
    "print(\"Length of incorrect Tags : \", len(incorrect_tagged_cases_technique_2))\n",
    "incorrect_tagged_cases_technique_2"
   ]
  },
  {
   "cell_type": "code",
   "execution_count": 43,
   "metadata": {},
   "outputs": [
    {
     "data": {
      "text/plain": [
       "[(('Android', 'CONJ'), ('Android', 'NOUN'), ('Android', 'NOUN')),\n",
       " (('is', 'VERB'), ('is', 'VERB'), ('is', 'VERB')),\n",
       " (('a', 'DET'), ('a', 'DET'), ('a', 'DET')),\n",
       " (('mobile', 'ADJ'), ('mobile', 'ADJ'), ('mobile', 'ADJ')),\n",
       " (('operating', 'NOUN'), ('operating', 'NOUN'), ('operating', 'NOUN')),\n",
       " (('system', 'NOUN'), ('system', 'NOUN'), ('system', 'NOUN')),\n",
       " (('developed', 'VERB'), ('developed', 'VERB'), ('developed', 'VERB')),\n",
       " (('by', 'ADP'), ('by', 'ADP'), ('by', 'ADP')),\n",
       " (('Google', 'CONJ'), ('Google', 'NOUN'), ('Google', 'DET')),\n",
       " (('.', '.'), ('.', '.'), ('.', '.')),\n",
       " (('Android', 'CONJ'), ('Android', 'NOUN'), ('Android', 'NOUN')),\n",
       " (('has', 'VERB'), ('has', 'VERB'), ('has', 'VERB')),\n",
       " (('been', 'VERB'), ('been', 'VERB'), ('been', 'VERB')),\n",
       " (('the', 'DET'), ('the', 'DET'), ('the', 'DET')),\n",
       " (('best-selling', 'ADJ'), ('best-selling', 'ADJ'), ('best-selling', 'ADJ')),\n",
       " (('OS', 'CONJ'), ('OS', 'NOUN'), ('OS', 'NOUN')),\n",
       " (('worldwide', 'CONJ'), ('worldwide', 'NOUN'), ('worldwide', 'NOUN')),\n",
       " (('on', 'ADP'), ('on', 'ADP'), ('on', 'ADP')),\n",
       " (('smartphones', 'CONJ'), ('smartphones', 'VERB'), ('smartphones', 'DET')),\n",
       " (('since', 'ADP'), ('since', 'ADP'), ('since', 'ADP')),\n",
       " (('2011', 'CONJ'), ('2011', 'NUM'), ('2011', 'DET')),\n",
       " (('and', 'CONJ'), ('and', 'CONJ'), ('and', 'CONJ')),\n",
       " (('on', 'ADP'), ('on', 'ADP'), ('on', 'ADP')),\n",
       " (('tablets', 'NOUN'), ('tablets', 'NOUN'), ('tablets', 'NOUN')),\n",
       " (('since', 'ADP'), ('since', 'ADP'), ('since', 'ADP')),\n",
       " (('2013', 'CONJ'), ('2013', 'NUM'), ('2013', 'DET')),\n",
       " (('.', '.'), ('.', '.'), ('.', '.')),\n",
       " (('Google', 'CONJ'), ('Google', 'NOUN'), ('Google', 'NOUN')),\n",
       " (('and', 'CONJ'), ('and', 'CONJ'), ('and', 'CONJ')),\n",
       " (('Twitter', 'CONJ'), ('Twitter', 'NOUN'), ('Twitter', 'NOUN')),\n",
       " (('made', 'VERB'), ('made', 'VERB'), ('made', 'VERB')),\n",
       " (('a', 'DET'), ('a', 'DET'), ('a', 'DET')),\n",
       " (('deal', 'NOUN'), ('deal', 'NOUN'), ('deal', 'NOUN')),\n",
       " (('in', 'ADP'), ('in', 'ADP'), ('in', 'ADP')),\n",
       " (('2015', 'CONJ'), ('2015', 'NUM'), ('2015', 'DET')),\n",
       " (('that', 'DET'), ('that', 'ADP'), ('that', 'ADP')),\n",
       " (('gave', 'VERB'), ('gave', 'VERB'), ('gave', 'VERB')),\n",
       " (('Google', 'CONJ'), ('Google', 'NOUN'), ('Google', 'X')),\n",
       " (('access', 'NOUN'), ('access', 'NOUN'), ('access', 'NOUN')),\n",
       " (('to', 'PRT'), ('to', 'PRT'), ('to', 'PRT')),\n",
       " (('Twitter', 'CONJ'), ('Twitter', 'NOUN'), ('Twitter', 'VERB')),\n",
       " ((\"'s\", 'VERB'), (\"'s\", 'PRT'), (\"'s\", 'PRT')),\n",
       " (('firehose', 'CONJ'), ('firehose', 'NOUN'), ('firehose', 'VERB')),\n",
       " (('.', '.'), ('.', '.'), ('.', '.')),\n",
       " (('Twitter', 'CONJ'), ('Twitter', 'NOUN'), ('Twitter', 'NOUN')),\n",
       " (('is', 'VERB'), ('is', 'VERB'), ('is', 'VERB')),\n",
       " (('an', 'DET'), ('an', 'DET'), ('an', 'DET')),\n",
       " (('online', 'CONJ'), ('online', 'NOUN'), ('online', 'NOUN')),\n",
       " (('news', 'NOUN'), ('news', 'NOUN'), ('news', 'NOUN')),\n",
       " (('and', 'CONJ'), ('and', 'CONJ'), ('and', 'CONJ')),\n",
       " (('social', 'ADJ'), ('social', 'ADJ'), ('social', 'ADJ')),\n",
       " (('networking', 'NOUN'), ('networking', 'NOUN'), ('networking', 'NOUN')),\n",
       " (('service', 'NOUN'), ('service', 'NOUN'), ('service', 'NOUN')),\n",
       " (('on', 'ADP'), ('on', 'ADP'), ('on', 'ADP')),\n",
       " (('which', 'DET'), ('which', 'DET'), ('which', 'DET')),\n",
       " (('users', 'NOUN'), ('users', 'NOUN'), ('users', 'NOUN')),\n",
       " (('post', 'NOUN'), ('post', 'NOUN'), ('post', 'NOUN')),\n",
       " (('and', 'CONJ'), ('and', 'CONJ'), ('and', 'CONJ')),\n",
       " (('interact', 'CONJ'), ('interact', 'NOUN'), ('interact', 'NOUN')),\n",
       " (('with', 'ADP'), ('with', 'ADP'), ('with', 'ADP')),\n",
       " (('messages', 'CONJ'), ('messages', 'VERB'), ('messages', 'DET')),\n",
       " (('known', 'VERB'), ('known', 'VERB'), ('known', 'VERB')),\n",
       " (('as', 'ADP'), ('as', 'ADP'), ('as', 'ADP')),\n",
       " (('tweets', 'CONJ'), ('tweets', 'NOUN'), ('tweets', 'DET')),\n",
       " (('.', '.'), ('.', '.'), ('.', '.')),\n",
       " (('Before', 'ADP'), ('Before', 'ADP'), ('Before', 'ADP')),\n",
       " (('entering', 'VERB'), ('entering', 'VERB'), ('entering', 'VERB')),\n",
       " (('politics', 'NOUN'), ('politics', 'NOUN'), ('politics', 'NOUN')),\n",
       " ((',', '.'), (',', '.'), (',', '.')),\n",
       " (('Donald', 'NOUN'), ('Donald', 'NOUN'), ('Donald', 'NOUN')),\n",
       " (('Trump', 'NOUN'), ('Trump', 'NOUN'), ('Trump', 'NOUN')),\n",
       " (('was', 'VERB'), ('was', 'VERB'), ('was', 'VERB')),\n",
       " (('a', 'DET'), ('a', 'DET'), ('a', 'DET')),\n",
       " (('domineering', 'CONJ'), ('domineering', 'VERB'), ('domineering', 'NOUN')),\n",
       " (('businessman', 'NOUN'), ('businessman', 'NOUN'), ('businessman', 'NOUN')),\n",
       " (('and', 'CONJ'), ('and', 'CONJ'), ('and', 'CONJ')),\n",
       " (('a', 'DET'), ('a', 'DET'), ('a', 'DET')),\n",
       " (('television', 'NOUN'), ('television', 'NOUN'), ('television', 'NOUN')),\n",
       " (('personality', 'CONJ'), ('personality', 'NOUN'), ('personality', 'NOUN')),\n",
       " (('.', '.'), ('.', '.'), ('.', '.')),\n",
       " (('The', 'DET'), ('The', 'DET'), ('The', 'DET')),\n",
       " (('2018', 'CONJ'), ('2018', 'NUM'), ('2018', 'NOUN')),\n",
       " (('FIFA', 'CONJ'), ('FIFA', 'NOUN'), ('FIFA', 'NOUN')),\n",
       " (('World', 'NOUN'), ('World', 'NOUN'), ('World', 'NOUN')),\n",
       " (('Cup', 'CONJ'), ('Cup', 'NOUN'), ('Cup', 'NOUN')),\n",
       " (('is', 'VERB'), ('is', 'VERB'), ('is', 'VERB')),\n",
       " (('the', 'DET'), ('the', 'DET'), ('the', 'DET')),\n",
       " (('21st', 'CONJ'), ('21st', 'NOUN'), ('21st', 'NOUN')),\n",
       " (('FIFA', 'CONJ'), ('FIFA', 'NOUN'), ('FIFA', 'NOUN')),\n",
       " (('World', 'NOUN'), ('World', 'NOUN'), ('World', 'NOUN')),\n",
       " (('Cup', 'CONJ'), ('Cup', 'NOUN'), ('Cup', 'NOUN')),\n",
       " ((',', '.'), (',', '.'), (',', '.')),\n",
       " (('an', 'DET'), ('an', 'DET'), ('an', 'DET')),\n",
       " (('international', 'NOUN'),\n",
       "  ('international', 'NOUN'),\n",
       "  ('international', 'NOUN')),\n",
       " (('football', 'NOUN'), ('football', 'NOUN'), ('football', 'NOUN')),\n",
       " (('tournament', 'CONJ'), ('tournament', 'NOUN'), ('tournament', 'NOUN')),\n",
       " (('contested', 'CONJ'), ('contested', 'VERB'), ('contested', 'NOUN')),\n",
       " (('once', 'ADV'), ('once', 'ADV'), ('once', 'ADV')),\n",
       " (('every', 'DET'), ('every', 'DET'), ('every', 'DET')),\n",
       " (('four', 'NUM'), ('four', 'NUM'), ('four', 'NUM')),\n",
       " (('years', 'NOUN'), ('years', 'NOUN'), ('years', 'NOUN')),\n",
       " (('.', '.'), ('.', '.'), ('.', '.')),\n",
       " (('This', 'DET'), ('This', 'DET'), ('This', 'DET')),\n",
       " (('is', 'VERB'), ('is', 'VERB'), ('is', 'VERB')),\n",
       " (('the', 'DET'), ('the', 'DET'), ('the', 'DET')),\n",
       " (('first', 'ADJ'), ('first', 'ADJ'), ('first', 'ADJ')),\n",
       " (('World', 'NOUN'), ('World', 'NOUN'), ('World', 'NOUN')),\n",
       " (('Cup', 'CONJ'), ('Cup', 'NOUN'), ('Cup', 'NOUN')),\n",
       " (('to', 'PRT'), ('to', 'PRT'), ('to', 'PRT')),\n",
       " (('be', 'VERB'), ('be', 'VERB'), ('be', 'VERB')),\n",
       " (('held', 'VERB'), ('held', 'VERB'), ('held', 'VERB')),\n",
       " (('in', 'ADP'), ('in', 'ADP'), ('in', 'ADP')),\n",
       " (('Eastern', 'NOUN'), ('Eastern', 'NOUN'), ('Eastern', 'NOUN')),\n",
       " (('Europe', 'NOUN'), ('Europe', 'NOUN'), ('Europe', 'NOUN')),\n",
       " (('and', 'CONJ'), ('and', 'CONJ'), ('and', 'CONJ')),\n",
       " (('the', 'DET'), ('the', 'DET'), ('the', 'DET')),\n",
       " (('11th', 'ADJ'), ('11th', 'ADJ'), ('11th', 'ADJ')),\n",
       " (('time', 'NOUN'), ('time', 'NOUN'), ('time', 'NOUN')),\n",
       " (('that', 'ADP'), ('that', 'ADP'), ('that', 'ADP')),\n",
       " (('it', 'PRON'), ('it', 'PRON'), ('it', 'PRON')),\n",
       " (('has', 'VERB'), ('has', 'VERB'), ('has', 'VERB')),\n",
       " (('been', 'VERB'), ('been', 'VERB'), ('been', 'VERB')),\n",
       " (('held', 'VERB'), ('held', 'VERB'), ('held', 'VERB')),\n",
       " (('in', 'ADP'), ('in', 'ADP'), ('in', 'ADP')),\n",
       " (('Europe', 'NOUN'), ('Europe', 'NOUN'), ('Europe', 'NOUN')),\n",
       " (('.', '.'), ('.', '.'), ('.', '.')),\n",
       " (('Show', 'NOUN'), ('Show', 'NOUN'), ('Show', 'NOUN')),\n",
       " (('me', 'PRON'), ('me', 'PRON'), ('me', 'PRON')),\n",
       " (('the', 'DET'), ('the', 'DET'), ('the', 'DET')),\n",
       " (('cheapest', 'ADJ'), ('cheapest', 'ADJ'), ('cheapest', 'ADJ')),\n",
       " (('round', 'NOUN'), ('round', 'NOUN'), ('round', 'NOUN')),\n",
       " (('trips', 'CONJ'), ('trips', 'NOUN'), ('trips', 'NOUN')),\n",
       " (('from', 'ADP'), ('from', 'ADP'), ('from', 'ADP')),\n",
       " (('Dallas', 'NOUN'), ('Dallas', 'NOUN'), ('Dallas', 'NOUN')),\n",
       " (('to', 'PRT'), ('to', 'PRT'), ('to', 'PRT')),\n",
       " (('Atlanta', 'NOUN'), ('Atlanta', 'NOUN'), ('Atlanta', 'NOUN')),\n",
       " (('I', 'PRON'), ('I', 'PRON'), ('I', 'PRON')),\n",
       " (('would', 'VERB'), ('would', 'VERB'), ('would', 'VERB')),\n",
       " (('like', 'ADP'), ('like', 'ADP'), ('like', 'ADP')),\n",
       " (('to', 'PRT'), ('to', 'PRT'), ('to', 'PRT')),\n",
       " (('see', 'VERB'), ('see', 'VERB'), ('see', 'VERB')),\n",
       " (('flights', 'NOUN'), ('flights', 'NOUN'), ('flights', 'NOUN')),\n",
       " (('from', 'ADP'), ('from', 'ADP'), ('from', 'ADP')),\n",
       " (('Denver', 'NOUN'), ('Denver', 'NOUN'), ('Denver', 'NOUN')),\n",
       " (('to', 'PRT'), ('to', 'PRT'), ('to', 'PRT')),\n",
       " (('Philadelphia', 'NOUN'),\n",
       "  ('Philadelphia', 'NOUN'),\n",
       "  ('Philadelphia', 'NOUN')),\n",
       " (('.', '.'), ('.', '.'), ('.', '.')),\n",
       " (('Show', 'NOUN'), ('Show', 'NOUN'), ('Show', 'NOUN')),\n",
       " (('me', 'PRON'), ('me', 'PRON'), ('me', 'PRON')),\n",
       " (('the', 'DET'), ('the', 'DET'), ('the', 'DET')),\n",
       " (('price', 'NOUN'), ('price', 'NOUN'), ('price', 'NOUN')),\n",
       " (('of', 'ADP'), ('of', 'ADP'), ('of', 'ADP')),\n",
       " (('the', 'DET'), ('the', 'DET'), ('the', 'DET')),\n",
       " (('flights', 'NOUN'), ('flights', 'NOUN'), ('flights', 'NOUN')),\n",
       " (('leaving', 'VERB'), ('leaving', 'VERB'), ('leaving', 'VERB')),\n",
       " (('Atlanta', 'NOUN'), ('Atlanta', 'NOUN'), ('Atlanta', 'NOUN')),\n",
       " (('at', 'ADP'), ('at', 'ADP'), ('at', 'ADP')),\n",
       " (('about', 'ADP'), ('about', 'ADP'), ('about', 'ADP')),\n",
       " (('3', 'NUM'), ('3', 'NUM'), ('3', 'NUM')),\n",
       " (('in', 'ADP'), ('in', 'ADP'), ('in', 'ADP')),\n",
       " (('the', 'DET'), ('the', 'DET'), ('the', 'DET')),\n",
       " (('afternoon', 'NOUN'), ('afternoon', 'NOUN'), ('afternoon', 'NOUN')),\n",
       " (('and', 'CONJ'), ('and', 'CONJ'), ('and', 'CONJ')),\n",
       " (('arriving', 'CONJ'), ('arriving', 'VERB'), ('arriving', 'NOUN')),\n",
       " (('in', 'ADP'), ('in', 'ADP'), ('in', 'ADP')),\n",
       " (('San', 'NOUN'), ('San', 'NOUN'), ('San', 'NOUN')),\n",
       " (('Francisco', 'NOUN'), ('Francisco', 'NOUN'), ('Francisco', 'NOUN')),\n",
       " (('.', '.'), ('.', '.'), ('.', '.')),\n",
       " (('NASA', 'CONJ'), ('NASA', 'NOUN'), ('NASA', 'NOUN')),\n",
       " (('invited', 'CONJ'), ('invited', 'VERB'), ('invited', 'NOUN')),\n",
       " (('social', 'ADJ'), ('social', 'ADJ'), ('social', 'ADJ')),\n",
       " (('media', 'NOUN'), ('media', 'NOUN'), ('media', 'NOUN')),\n",
       " (('users', 'NOUN'), ('users', 'NOUN'), ('users', 'NOUN')),\n",
       " (('to', 'PRT'), ('to', 'PRT'), ('to', 'PRT')),\n",
       " (('experience', 'NOUN'), ('experience', 'NOUN'), ('experience', 'NOUN')),\n",
       " (('the', 'DET'), ('the', 'DET'), ('the', 'DET')),\n",
       " (('launch', 'NOUN'), ('launch', 'NOUN'), ('launch', 'NOUN')),\n",
       " (('of', 'ADP'), ('of', 'ADP'), ('of', 'ADP')),\n",
       " (('ICESAT-2', 'CONJ'), ('ICESAT-2', 'NOUN'), ('ICESAT-2', 'DET')),\n",
       " (('Satellite', 'CONJ'), ('Satellite', 'NOUN'), ('Satellite', 'NOUN')),\n",
       " (('.', '.'), ('.', '.'), ('.', '.'))]"
      ]
     },
     "execution_count": 43,
     "metadata": {},
     "output_type": "execute_result"
    }
   ],
   "source": [
    "# Comparison of the Tagging done by Vanilla Approach and modified Approach on Sample File. \n",
    "\n",
    "Sample_Tagged_Comparison_List = list(zip(sample_tagged_seq,sample_tagged_seq_technique_1,sample_tagged_seq_technique_2))\n",
    "Sample_Tagged_Comparison_List"
   ]
  },
  {
   "cell_type": "markdown",
   "metadata": {},
   "source": [
    "#### From the above list it is concluded that Numbers are handled well by the modified algo whereas the Vanilla Vetibri Failed to do so."
   ]
  },
  {
   "cell_type": "markdown",
   "metadata": {},
   "source": [
    "### List down cases which were incorrectly tagged by original POS tagger and got corrected by your modifications"
   ]
  },
  {
   "cell_type": "code",
   "execution_count": 44,
   "metadata": {},
   "outputs": [
    {
     "data": {
      "text/plain": [
       "[(('Android', 'CONJ'), ('Android', 'NOUN'), ('Android', 'NOUN')),\n",
       " (('Google', 'CONJ'), ('Google', 'NOUN'), ('Google', 'DET')),\n",
       " (('Android', 'CONJ'), ('Android', 'NOUN'), ('Android', 'NOUN')),\n",
       " (('OS', 'CONJ'), ('OS', 'NOUN'), ('OS', 'NOUN')),\n",
       " (('worldwide', 'CONJ'), ('worldwide', 'NOUN'), ('worldwide', 'NOUN')),\n",
       " (('smartphones', 'CONJ'), ('smartphones', 'VERB'), ('smartphones', 'DET')),\n",
       " (('2011', 'CONJ'), ('2011', 'NUM'), ('2011', 'DET')),\n",
       " (('2013', 'CONJ'), ('2013', 'NUM'), ('2013', 'DET')),\n",
       " (('Google', 'CONJ'), ('Google', 'NOUN'), ('Google', 'NOUN')),\n",
       " (('Twitter', 'CONJ'), ('Twitter', 'NOUN'), ('Twitter', 'NOUN')),\n",
       " (('2015', 'CONJ'), ('2015', 'NUM'), ('2015', 'DET')),\n",
       " (('that', 'DET'), ('that', 'ADP'), ('that', 'ADP')),\n",
       " (('Google', 'CONJ'), ('Google', 'NOUN'), ('Google', 'X')),\n",
       " (('Twitter', 'CONJ'), ('Twitter', 'NOUN'), ('Twitter', 'VERB')),\n",
       " ((\"'s\", 'VERB'), (\"'s\", 'PRT'), (\"'s\", 'PRT')),\n",
       " (('firehose', 'CONJ'), ('firehose', 'NOUN'), ('firehose', 'VERB')),\n",
       " (('Twitter', 'CONJ'), ('Twitter', 'NOUN'), ('Twitter', 'NOUN')),\n",
       " (('online', 'CONJ'), ('online', 'NOUN'), ('online', 'NOUN')),\n",
       " (('interact', 'CONJ'), ('interact', 'NOUN'), ('interact', 'NOUN')),\n",
       " (('messages', 'CONJ'), ('messages', 'VERB'), ('messages', 'DET')),\n",
       " (('tweets', 'CONJ'), ('tweets', 'NOUN'), ('tweets', 'DET')),\n",
       " (('domineering', 'CONJ'), ('domineering', 'VERB'), ('domineering', 'NOUN')),\n",
       " (('personality', 'CONJ'), ('personality', 'NOUN'), ('personality', 'NOUN')),\n",
       " (('2018', 'CONJ'), ('2018', 'NUM'), ('2018', 'NOUN')),\n",
       " (('FIFA', 'CONJ'), ('FIFA', 'NOUN'), ('FIFA', 'NOUN')),\n",
       " (('Cup', 'CONJ'), ('Cup', 'NOUN'), ('Cup', 'NOUN')),\n",
       " (('21st', 'CONJ'), ('21st', 'NOUN'), ('21st', 'NOUN')),\n",
       " (('FIFA', 'CONJ'), ('FIFA', 'NOUN'), ('FIFA', 'NOUN')),\n",
       " (('Cup', 'CONJ'), ('Cup', 'NOUN'), ('Cup', 'NOUN')),\n",
       " (('tournament', 'CONJ'), ('tournament', 'NOUN'), ('tournament', 'NOUN')),\n",
       " (('contested', 'CONJ'), ('contested', 'VERB'), ('contested', 'NOUN')),\n",
       " (('Cup', 'CONJ'), ('Cup', 'NOUN'), ('Cup', 'NOUN')),\n",
       " (('trips', 'CONJ'), ('trips', 'NOUN'), ('trips', 'NOUN')),\n",
       " (('arriving', 'CONJ'), ('arriving', 'VERB'), ('arriving', 'NOUN')),\n",
       " (('NASA', 'CONJ'), ('NASA', 'NOUN'), ('NASA', 'NOUN')),\n",
       " (('invited', 'CONJ'), ('invited', 'VERB'), ('invited', 'NOUN')),\n",
       " (('ICESAT-2', 'CONJ'), ('ICESAT-2', 'NOUN'), ('ICESAT-2', 'DET')),\n",
       " (('Satellite', 'CONJ'), ('Satellite', 'NOUN'), ('Satellite', 'NOUN'))]"
      ]
     },
     "execution_count": 44,
     "metadata": {},
     "output_type": "execute_result"
    }
   ],
   "source": [
    "Differences =[x for x in Sample_Tagged_Comparison_List if (x[0]!=x[1]) | (x[0]!=x[2]) | (x[1]!=x[2])]\n",
    "Differences"
   ]
  },
  {
   "cell_type": "markdown",
   "metadata": {},
   "source": [
    "### Cases which were incorrectly predicted but got correct by the modified Vanila Algorithm are :-"
   ]
  },
  {
   "cell_type": "markdown",
   "metadata": {},
   "source": [
    "#### 1.Number was incorrectly predicted by the Vanilla algorithm which was corrected by the modified Algorithm"
   ]
  },
  {
   "cell_type": "markdown",
   "metadata": {},
   "source": [
    "#### 2.Words like  tournament was incorrectly predicted  by Vanilla Algorithm which was later on corrected by Modified Algorithm."
   ]
  },
  {
   "cell_type": "markdown",
   "metadata": {},
   "source": [
    "#### 3.Words like NASA was incorrectly predicted  by Vanilla Algorithm was later on corrected as by modified Algorithm."
   ]
  },
  {
   "cell_type": "code",
   "execution_count": null,
   "metadata": {},
   "outputs": [],
   "source": []
  }
 ],
 "metadata": {
  "kernelspec": {
   "display_name": "Python 3",
   "language": "python",
   "name": "python3"
  },
  "language_info": {
   "codemirror_mode": {
    "name": "ipython",
    "version": 3
   },
   "file_extension": ".py",
   "mimetype": "text/x-python",
   "name": "python",
   "nbconvert_exporter": "python",
   "pygments_lexer": "ipython3",
   "version": "3.6.8"
  }
 },
 "nbformat": 4,
 "nbformat_minor": 2
}
