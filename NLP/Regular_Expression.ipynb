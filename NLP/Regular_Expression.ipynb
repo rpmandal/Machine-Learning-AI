{
 "cells": [
  {
   "cell_type": "code",
   "execution_count": 2,
   "metadata": {},
   "outputs": [],
   "source": [
    "import re"
   ]
  },
  {
   "cell_type": "code",
   "execution_count": 3,
   "metadata": {},
   "outputs": [
    {
     "name": "stdout",
     "output_type": "stream",
     "text": [
      "<_sre.SRE_Match object; span=(0, 4), match='Ravi'>\n"
     ]
    }
   ],
   "source": [
    "print(re.search(\"Ravi\",\"Ravi is an exceptional student!\"))"
   ]
  },
  {
   "cell_type": "code",
   "execution_count": 4,
   "metadata": {},
   "outputs": [
    {
     "name": "stdout",
     "output_type": "stream",
     "text": [
      "True\n"
     ]
    }
   ],
   "source": [
    "# import the regular expression module\n",
    "import re\n",
    "\n",
    "# input string on which to test regex pattern\n",
    "string = 'The roots of education are bitter, but the fruit is sweet.'\n",
    "\n",
    "# regex pattern to check if 'education' is present in a input string or not.\n",
    "pattern = \"education\"\n",
    "\n",
    "\n",
    "# check whether pattern is present in string or not\n",
    "result = re.search(pattern, string)\n",
    "\n",
    "# evaluate result - don't change the following piece of code, it is used to evaluate your regex\n",
    "if result != None:\n",
    "    print(True)\n",
    "else:\n",
    "    print(False)"
   ]
  },
  {
   "cell_type": "markdown",
   "metadata": {},
   "source": [
    "#### Quantifier"
   ]
  },
  {
   "cell_type": "code",
   "execution_count": 7,
   "metadata": {},
   "outputs": [],
   "source": [
    "def find_pattern(text,pattern):\n",
    "    if re.search(pattern,text):\n",
    "        return re.search(pattern,text)\n",
    "    else:\n",
    "        return \"Not found\""
   ]
  },
  {
   "cell_type": "code",
   "execution_count": 8,
   "metadata": {},
   "outputs": [
    {
     "name": "stdout",
     "output_type": "stream",
     "text": [
      "<_sre.SRE_Match object; span=(0, 1), match='a'>\n"
     ]
    }
   ],
   "source": [
    "print(find_pattern('ac','ab?'))"
   ]
  },
  {
   "cell_type": "code",
   "execution_count": 16,
   "metadata": {},
   "outputs": [
    {
     "name": "stdout",
     "output_type": "stream",
     "text": [
      "<_sre.SRE_Match object; span=(4, 8), match='ball'>\n"
     ]
    }
   ],
   "source": [
    "string=\"Baseball\"\n",
    "pattern = 'a*ball'\n",
    "result = re.search(pattern, string)\n",
    "print(result)"
   ]
  },
  {
   "cell_type": "code",
   "execution_count": 9,
   "metadata": {},
   "outputs": [
    {
     "name": "stdout",
     "output_type": "stream",
     "text": [
      "True\n"
     ]
    }
   ],
   "source": [
    "string = '11000011000111'\n",
    "\n",
    "# regex pattern\n",
    "pattern = '^1+0{3,}1*0{1,7}1{2,3}$'# write your regex here\n",
    "#pattern = '^1+0{3,}0*0{1,7}1{2,3}$'# write your regex here\n",
    "# check whether pattern is present in string or not\n",
    "result = re.search(pattern, string)\n",
    "\n",
    "# evaluate result - don't change the following piece of code, it is used to evaluate your regex\n",
    "if result != None:\n",
    "    print(True)\n",
    "else:\n",
    "    print(False)"
   ]
  },
  {
   "cell_type": "markdown",
   "metadata": {},
   "source": [
    "Write a regular expression with the help of meta-sequences that matches usernames of the users of a database. The username starts with alphabets of length one to ten characters long and then followed by a number of length 4."
   ]
  },
  {
   "cell_type": "code",
   "execution_count": 15,
   "metadata": {},
   "outputs": [
    {
     "name": "stdout",
     "output_type": "stream",
     "text": [
      "True\n"
     ]
    }
   ],
   "source": [
    "string = \"Asdddddddddd12777934\"\n",
    "pattern = '\\w{1,10}\\d{4}$'\n",
    "result = re.search(pattern,string,re.I) \n",
    "if result != None:\n",
    "    print(True)\n",
    "else:\n",
    "    print(False)"
   ]
  },
  {
   "cell_type": "code",
   "execution_count": 24,
   "metadata": {},
   "outputs": [
    {
     "name": "stdout",
     "output_type": "stream",
     "text": [
      "$uilding careers of tomorrow\n"
     ]
    }
   ],
   "source": [
    "string ='Building careers of tomorrow'\n",
    "pattern = '^.'\n",
    "replacement =\"$\"\n",
    "result = re.sub(pattern, replacement, string)\n",
    "print(result)\n"
   ]
  },
  {
   "cell_type": "code",
   "execution_count": 42,
   "metadata": {},
   "outputs": [
    {
     "name": "stdout",
     "output_type": "stream",
     "text": [
      "Start -  0 End -  6\n",
      "Start -  7 End -  9\n",
      "Start -  10 End -  11\n",
      "Start -  12 End -  20\n",
      "Start -  21 End -  23\n",
      "Start -  24 End -  30\n",
      "Start -  32 End -  40\n",
      "Start -  41 End -  45\n",
      "Start -  46 End -  48\n",
      "Start -  49 End -  50\n",
      "Start -  51 End -  59\n",
      "Start -  60 End -  62\n",
      "Start -  63 End -  69\n"
     ]
    }
   ],
   "source": [
    "text = 'Diwali is a festival of lights, festival Holi is a festival of colors!'\n",
    "pattern = '\\w+'\n",
    "\n",
    "for match in re.finditer(pattern,text):\n",
    "    print(\"Start - \",match.start(), end=\" \")\n",
    "    print(\"End - \", match.end())"
   ]
  },
  {
   "cell_type": "code",
   "execution_count": 31,
   "metadata": {},
   "outputs": [
    {
     "name": "stdout",
     "output_type": "stream",
     "text": [
      "[('2017', '10', '28'), ('2017', '05', '12')]\n"
     ]
    }
   ],
   "source": [
    "url = \"http://www.telegraph.co.uk/formula-1/2017/10/28/mexican-grand-prix-2017-time-does-start-tv-channel-odds-lewisl/2017/05/12\"\n",
    "date_regex = '/(\\d{4})/(\\d{1,2})/(\\d{1,2})'\n",
    "print(re.findall(date_regex,url))"
   ]
  },
  {
   "cell_type": "markdown",
   "metadata": {},
   "source": [
    "Write a regular expression to extract all the words from a given sentence. Then use the re.finditer() function and store all the matched words that are of length more than or equal to 5 letters in a separate list called result."
   ]
  },
  {
   "cell_type": "code",
   "execution_count": 41,
   "metadata": {},
   "outputs": [
    {
     "name": "stdout",
     "output_type": "stream",
     "text": [
      "['Geeksforgeeks', 'is', 'best', 'Computer', 'Science', 'Portal']\n"
     ]
    }
   ],
   "source": [
    "string = \"Geeksforgeeks,    is best @# Computer Science Portal.!!!\"\n",
    "  \n",
    "# regex pattern\n",
    "pattern = '\\w+'# write regex to extract all the words from a given piece of text\n",
    "\n",
    "# store results in the list 'result'\n",
    "result = re.findall(pattern,string)\n",
    "print(result)"
   ]
  },
  {
   "cell_type": "code",
   "execution_count": 39,
   "metadata": {},
   "outputs": [
    {
     "name": "stdout",
     "output_type": "stream",
     "text": [
      "The original string is : Geeksforgeeks,    is best @# Computer Science Portal.!!!\n",
      "The list of words is : ['Geeksforgeeks', 'is', 'best', 'Computer', 'Science', 'Portal']\n"
     ]
    }
   ],
   "source": [
    "test_string = \"Geeksforgeeks,    is best @# Computer Science Portal.!!!\"\n",
    "  \n",
    "# printing original string \n",
    "print (\"The original string is : \" +  test_string) \n",
    "  \n",
    "# using regex( findall() ) \n",
    "# to extract words from string \n",
    "res = re.findall('\\w+', test_string) \n",
    "  \n",
    "# printing result \n",
    "print (\"The list of words is : \" +  str(res))\n"
   ]
  },
  {
   "cell_type": "markdown",
   "metadata": {},
   "source": [
    "Write a regular expression to extract all the words that have the suffix ‘ing’ using the re.findall() function. Store the matches in the variable ‘results’ and print its length."
   ]
  },
  {
   "cell_type": "code",
   "execution_count": 46,
   "metadata": {},
   "outputs": [
    {
     "name": "stdout",
     "output_type": "stream",
     "text": [
      "3\n"
     ]
    }
   ],
   "source": [
    "string = \"Playing sing outdoor games when its raining outside is always fun!\"\n",
    "\n",
    "# regex pattern\n",
    "pattern = '\\w+ing'# write regex to extract words ending with 'ing'\n",
    "\n",
    "# store results in the list 'result'\n",
    "result = re.findall(pattern,string)# \n",
    "print(len(result))"
   ]
  },
  {
   "cell_type": "code",
   "execution_count": 72,
   "metadata": {},
   "outputs": [
    {
     "name": "stdout",
     "output_type": "stream",
     "text": [
      "23\n",
      "18\n"
     ]
    }
   ],
   "source": [
    "string =\"Today's 23-09-2019 date is 18-05-2018\"\n",
    "pattern = \"(\\d{1,2})-(\\d{1,2})-(\\d{4})\"\n",
    "\n",
    "result = re.findall(pattern,string)\n",
    "print(result[0][0])\n",
    "print(result[1][0])\n"
   ]
  },
  {
   "cell_type": "code",
   "execution_count": 67,
   "metadata": {},
   "outputs": [
    {
     "name": "stdout",
     "output_type": "stream",
     "text": [
      "11\n"
     ]
    }
   ],
   "source": [
    "tuple = (0, 11, 22, 3) \n",
    "#tuple1[0] = 4\n",
    "print(tuple[1]) "
   ]
  },
  {
   "cell_type": "code",
   "execution_count": 74,
   "metadata": {},
   "outputs": [
    {
     "name": "stdout",
     "output_type": "stream",
     "text": [
      "23\n"
     ]
    }
   ],
   "source": [
    "string =\"Today's 23-09-2019 date is 18-05-2018\"\n",
    "\n",
    "# regex pattern\n",
    "pattern = \"(\\d{2})-(\\d{2})-(\\d{4})\"  # although the correct pattern should be \"(([0-2][0-9])|30|31)-(([0][1-9])|([1][0-2]))-(([0-1][0-9][0-9][0-9])|([2][0](([0][0-9])|([1][0-8]))))\"\n",
    "\n",
    "# store result\n",
    "result = re.search(pattern, string)\n",
    "\n",
    "# extract month using group command\n",
    "if result != None:\n",
    "    month = result.group(1)\n",
    "else:\n",
    "    month = \"NA\"\n",
    "\n",
    "# evaluate result - don't change the following piece of code, it is used to evaluate your regex\n",
    "print(month)"
   ]
  },
  {
   "cell_type": "markdown",
   "metadata": {},
   "source": [
    "Write a regular expression to extract the domain name from an email address. The format of the email is simple - the part before the ‘@’ symbol contains alphabets, numbers and underscores. The part after the ‘@’ symbol contains only alphabets followed by a dot followed by ‘com’ \n",
    " \n",
    "Sample input: \n",
    "user_name_123@gmail.com \n",
    " \n",
    "Expected output: \n",
    "gmail.com"
   ]
  },
  {
   "cell_type": "code",
   "execution_count": 86,
   "metadata": {},
   "outputs": [
    {
     "name": "stdout",
     "output_type": "stream",
     "text": [
      "gmail.com\n"
     ]
    }
   ],
   "source": [
    "string = \"user_name_123@gmail.com\"\n",
    "pattern = \"(\\w+)@([A-z]+\\.com)\"\n",
    "result = re.search(pattern,string)\n",
    "print(result.group(2))"
   ]
  },
  {
   "cell_type": "code",
   "execution_count": 3,
   "metadata": {},
   "outputs": [
    {
     "name": "stdout",
     "output_type": "stream",
     "text": [
      "True\n"
     ]
    }
   ],
   "source": [
    "import re\n",
    "import ast, sys\n",
    "pattern = \"()\"\n",
    "string = 'aaditya'# write your here\n",
    "\n",
    "# check whether pattern is present in string or not\n",
    "result = re.match(pattern, string, re.I)\n",
    "\n",
    "# evaluate result - don't change the following piece of code, it is used to evaluate your regex\n",
    "if (result != None):\n",
    "    print(True)\n",
    "else:\n",
    "    print(False)"
   ]
  },
  {
   "cell_type": "code",
   "execution_count": null,
   "metadata": {},
   "outputs": [],
   "source": []
  },
  {
   "cell_type": "code",
   "execution_count": null,
   "metadata": {},
   "outputs": [],
   "source": []
  },
  {
   "cell_type": "code",
   "execution_count": null,
   "metadata": {},
   "outputs": [],
   "source": []
  },
  {
   "cell_type": "code",
   "execution_count": null,
   "metadata": {},
   "outputs": [],
   "source": []
  },
  {
   "cell_type": "code",
   "execution_count": null,
   "metadata": {},
   "outputs": [],
   "source": []
  }
 ],
 "metadata": {
  "kernelspec": {
   "display_name": "Python 3",
   "language": "python",
   "name": "python3"
  },
  "language_info": {
   "codemirror_mode": {
    "name": "ipython",
    "version": 3
   },
   "file_extension": ".py",
   "mimetype": "text/x-python",
   "name": "python",
   "nbconvert_exporter": "python",
   "pygments_lexer": "ipython3",
   "version": "3.7.4"
  }
 },
 "nbformat": 4,
 "nbformat_minor": 2
}
