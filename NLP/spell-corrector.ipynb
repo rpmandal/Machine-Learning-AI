{
 "cells": [
  {
   "cell_type": "code",
   "execution_count": 28,
   "metadata": {},
   "outputs": [],
   "source": [
    "import re\n",
    "from collections import Counter"
   ]
  },
  {
   "cell_type": "code",
   "execution_count": 29,
   "metadata": {},
   "outputs": [],
   "source": [
    "# function to tokenise words\n",
    "def words(document):\n",
    "    \"Convert text to lower case and tokenise the document\"\n",
    "    return re.findall(r'\\w+', document.lower())"
   ]
  },
  {
   "cell_type": "code",
   "execution_count": 30,
   "metadata": {},
   "outputs": [],
   "source": [
    "# create a frequency table of all the words of the document\n",
    "all_words = Counter(words(open('big.txt').read()))"
   ]
  },
  {
   "cell_type": "code",
   "execution_count": 31,
   "metadata": {},
   "outputs": [
    {
     "data": {
      "text/plain": [
       "135"
      ]
     },
     "execution_count": 31,
     "metadata": {},
     "output_type": "execute_result"
    }
   ],
   "source": [
    "# check frequency of a random word, say, 'chair'\n",
    "all_words['chair']"
   ]
  },
  {
   "cell_type": "code",
   "execution_count": 32,
   "metadata": {},
   "outputs": [
    {
     "data": {
      "text/plain": [
       "[('the', 79809),\n",
       " ('of', 40024),\n",
       " ('and', 38312),\n",
       " ('to', 28765),\n",
       " ('in', 22023),\n",
       " ('a', 21124),\n",
       " ('that', 12512),\n",
       " ('he', 12401),\n",
       " ('was', 11410),\n",
       " ('it', 10681)]"
      ]
     },
     "execution_count": 32,
     "metadata": {},
     "output_type": "execute_result"
    }
   ],
   "source": [
    "# look at top 10 frequent words\n",
    "all_words.most_common(10)"
   ]
  },
  {
   "cell_type": "code",
   "execution_count": 33,
   "metadata": {},
   "outputs": [],
   "source": [
    "def edits_one(word):\n",
    "    \"Create all edits that are one edit away from `word`.\"\n",
    "    alphabets    = 'abcdefghijklmnopqrstuvwxyz'\n",
    "    splits     = [(word[:i], word[i:])                   for i in range(len(word) + 1)]\n",
    "    deletes    = [left + right[1:]                       for left, right in splits if right]\n",
    "    inserts    = [left + c + right                       for left, right in splits for c in alphabets]\n",
    "    replaces   = [left + c + right[1:]                   for left, right in splits if right for c in alphabets]\n",
    "    transposes = [left + right[1] + right[0] + right[2:] for left, right in splits if len(right)>1]\n",
    "    return set(deletes + inserts + replaces + transposes)"
   ]
  },
  {
   "cell_type": "code",
   "execution_count": 34,
   "metadata": {},
   "outputs": [],
   "source": [
    "def edits_two(word):\n",
    "    \"Create all edits that are two edits away from `word`.\"\n",
    "    return (e2 for e1 in edits_one(word) for e2 in edits_one(e1))"
   ]
  },
  {
   "cell_type": "code",
   "execution_count": 35,
   "metadata": {},
   "outputs": [],
   "source": [
    "def known(words):\n",
    "    \"The subset of `words` that appear in the `all_words`.\"\n",
    "    return set(word for word in words if word in all_words)"
   ]
  },
  {
   "cell_type": "code",
   "execution_count": 36,
   "metadata": {},
   "outputs": [],
   "source": [
    "def possible_corrections(word):\n",
    "    \"Generate possible spelling corrections for word.\"\n",
    "    return (known([word]) or known(edits_one(word)) or known(edits_two(word)) or [word])"
   ]
  },
  {
   "cell_type": "code",
   "execution_count": 45,
   "metadata": {},
   "outputs": [],
   "source": [
    "def prob(word, N=sum(all_words.values())): \n",
    "    \"Probability of `word`: Number of appearances of 'word' / total number of tokens\"\n",
    "    #print(N)\n",
    "    #print(all_words[word])\n",
    "    return all_words[word] / N"
   ]
  },
  {
   "cell_type": "code",
   "execution_count": 38,
   "metadata": {},
   "outputs": [
    {
     "name": "stdout",
     "output_type": "stream",
     "text": [
      "336\n",
      "{'eonney', 'monyney', 'motnney', 'monnxy', 'monnety', 'monnby', 'monneyi', 'monnuey', 'mohnney', 'monnesy', 'mooney', 'monnoey', 'mponney', 'monneq', 'mornney', 'monnjy', 'mrnney', 'monnhey', 'mohney', 'monnep', 'nmonney', 'monnfy', 'monnewy', 'moonney', 'monneyf', 'monnyey', 'bonney', 'moneey', 'monnqey', 'monley', 'mbnney', 'movnney', 'zonney', 'monsey', 'conney', 'montney', 'mfonney', 'mofnney', 'money', 'muonney', 'emonney', 'yonney', 'monnvy', 'moaney', 'monjey', 'monnwey', 'mvonney', 'monkney', 'monnmey', 'monneyz', 'mxnney', 'monwney', 'monneoy', 'monnery', 'cmonney', 'mkonney', 'monfey', 'moqney', 'monmey', 'monzney', 'monneh', 'mnney', 'monnwy', 'monnpey', 'mopney', 'mobney', 'monnry', 'monuey', 'mnoney', 'mionney', 'monnsy', 'monneyy', 'mwonney', 'monneyg', 'monneyw', 'monvney', 'motney', 'monneyu', 'vmonney', 'monpey', 'monmney', 'mmonney', 'mounney', 'lonney', 'monnem', 'mownney', 'vonney', 'mdonney', 'moiney', 'mwnney', 'monnef', 'mnnney', 'monjney', 'ymonney', 'msnney', 'monneym', 'mouney', 'monqney', 'mfnney', 'monnezy', 'tonney', 'monnbey', 'monnei', 'meonney', 'moyney', 'mknney', 'sonney', 'mznney', 'donney', 'monnhy', 'nonney', 'moniey', 'monnecy', 'molney', 'mronney', 'monpney', 'monnej', 'mpnney', 'monnevy', 'wonney', 'monneya', 'monneyn', 'monnuy', 'monneny', 'ronney', 'zmonney', 'monneiy', 'moqnney', 'monnzy', 'hmonney', 'mognney', 'rmonney', 'mzonney', 'monnjey', 'monncey', 'monniey', 'monneyj', 'moniney', 'monsney', 'monnaey', 'monneu', 'monneyb', 'kmonney', 'monneb', 'monwey', 'momney', 'monnea', 'mondey', 'moanney', 'mongney', 'moncey', 'mogney', 'monnye', 'monqey', 'monnefy', 'monhey', 'monnley', 'oonney', 'mofney', 'monnmy', 'monniy', 'monnvey', 'mgnney', 'umonney', 'manney', 'monny', 'monneys', 'onney', 'monnny', 'monneay', 'uonney', 'monnzey', 'amonney', 'fmonney', 'munney', 'monnek', 'jmonney', 'mqonney', 'monfney', 'moknney', 'monrey', 'monnex', 'monneyt', 'monnedy', 'monndey', 'lmonney', 'wmonney', 'mmnney', 'monnpy', 'monnxey', 'monkey', 'mokney', 'moneny', 'monnehy', 'monnec', 'mxonney', 'honney', 'monneqy', 'gmonney', 'dmonney', 'qmonney', 'momnney', 'monnrey', 'moinney', 'monngy', 'omonney', 'pmonney', 'monnev', 'monnkey', 'monnay', 'monneo', 'moncney', 'msonney', 'monntey', 'mvnney', 'modney', 'monneg', 'monneyx', 'mowney', 'minney', 'xonney', 'moxnney', 'monncy', 'monnejy', 'monneyl', 'monnew', 'imonney', 'moenney', 'monne', 'mhnney', 'monbney', 'tmonney', 'mocney', 'monneey', 'smonney', 'monneky', 'monneye', 'monneyv', 'ponney', 'fonney', 'mdnney', 'moxney', 'monnyy', 'monneyq', 'mtonney', 'modnney', 'monxney', 'ionney', 'mqnney', 'monnes', 'morney', 'monoey', 'myonney', 'monbey', 'mlonney', 'monneyc', 'monnepy', 'monnoy', 'monneyr', 'jonney', 'menney', 'monneuy', 'monnexy', 'monngey', 'mjnney', 'monnet', 'monnney', 'moneney', 'bmonney', 'monnegy', 'mynney', 'monaney', 'moznney', 'monaey', 'mhonney', 'mcnney', 'qonney', 'monned', 'monneyk', 'monney', 'monnez', 'xmonney', 'konney', 'monyey', 'moynney', 'monuney', 'mbonney', 'mlnney', 'monneyh', 'monnemy', 'mozney', 'mjonney', 'mnonney', 'gonney', 'mocnney', 'mononey', 'mgonney', 'monvey', 'monxey', 'monndy', 'monneyp', 'mconney', 'mojney', 'monnqy', 'monlney', 'movney', 'moeney', 'mtnney', 'mongey', 'monnel', 'molnney', 'monzey', 'monnee', 'monhney', 'mosnney', 'monneby', 'mosney', 'monnsey', 'mondney', 'monnky', 'omnney', 'mojnney', 'aonney', 'mobnney', 'montey', 'monneyd', 'monnly', 'monnely', 'monnen', 'monner', 'mopnney', 'monnfey', 'monnty', 'monrney', 'monneyo', 'maonney'}\n"
     ]
    }
   ],
   "source": [
    "print(len(set(edits_one(\"monney\"))))\n",
    "print(edits_one(\"monney\"))"
   ]
  },
  {
   "cell_type": "code",
   "execution_count": 39,
   "metadata": {},
   "outputs": [
    {
     "name": "stdout",
     "output_type": "stream",
     "text": [
      "{'money', 'monkey'}\n"
     ]
    }
   ],
   "source": [
    "print(known(edits_one(\"monney\")))"
   ]
  },
  {
   "cell_type": "code",
   "execution_count": 46,
   "metadata": {},
   "outputs": [
    {
     "name": "stdout",
     "output_type": "stream",
     "text": [
      "51013\n",
      "{'manned', 'moaned', 'monger', 'donned', 'morley', 'money', 'moines', 'bonnet', 'manner', 'motley', 'bonny', 'bonne', 'convey', 'olney', 'monday', 'tonne', 'monkeys', 'donkey', 'donne', 'monkey', 'honey'}\n"
     ]
    }
   ],
   "source": [
    "# Let's look at words that are two edits away\n",
    "print(len(set(edits_two(\"monney\"))))\n",
    "print(known(edits_two(\"monney\")))"
   ]
  },
  {
   "cell_type": "code",
   "execution_count": 47,
   "metadata": {},
   "outputs": [
    {
     "name": "stdout",
     "output_type": "stream",
     "text": [
      "{'money', 'monkey'}\n"
     ]
    }
   ],
   "source": [
    "# Let's look at possible corrections of a word\n",
    "print(possible_corrections(\"monney\"))"
   ]
  },
  {
   "cell_type": "code",
   "execution_count": 48,
   "metadata": {},
   "outputs": [
    {
     "name": "stdout",
     "output_type": "stream",
     "text": [
      "0.0002922233626303688\n",
      "5.378344097491451e-06\n"
     ]
    }
   ],
   "source": [
    "# Let's look at probability of a word\n",
    "print(prob(\"money\"))\n",
    "print(prob(\"monkey\"))"
   ]
  },
  {
   "cell_type": "code",
   "execution_count": 52,
   "metadata": {},
   "outputs": [],
   "source": [
    "def spell_check(word):\n",
    "    \"Print the most probable spelling correction for `word` out of all the `possible_corrections`\"\n",
    "    #print(prob)\n",
    "    correct_word = max(possible_corrections(word), key=prob)\n",
    "    if correct_word != word:\n",
    "        return \"Did you mean \" + correct_word + \"?\"\n",
    "    else:\n",
    "        return \"Correct spelling.\""
   ]
  },
  {
   "cell_type": "code",
   "execution_count": 53,
   "metadata": {},
   "outputs": [
    {
     "name": "stdout",
     "output_type": "stream",
     "text": [
      "<function prob at 0x000001C91B2B0948>\n",
      "Did you mean money?\n"
     ]
    }
   ],
   "source": [
    "# test spell check\n",
    "print(spell_check(\"monney\"))"
   ]
  },
  {
   "cell_type": "code",
   "execution_count": null,
   "metadata": {},
   "outputs": [],
   "source": []
  }
 ],
 "metadata": {
  "kernelspec": {
   "display_name": "Python 3",
   "language": "python",
   "name": "python3"
  },
  "language_info": {
   "codemirror_mode": {
    "name": "ipython",
    "version": 3
   },
   "file_extension": ".py",
   "mimetype": "text/x-python",
   "name": "python",
   "nbconvert_exporter": "python",
   "pygments_lexer": "ipython3",
   "version": "3.7.4"
  }
 },
 "nbformat": 4,
 "nbformat_minor": 2
}
