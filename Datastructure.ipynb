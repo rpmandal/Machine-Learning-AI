{
 "cells": [
  {
   "cell_type": "code",
   "execution_count": 1,
   "metadata": {},
   "outputs": [
    {
     "name": "stdout",
     "output_type": "stream",
     "text": [
      "this is my first code in python\n"
     ]
    }
   ],
   "source": [
    "print(\"this is my first code in python\")"
   ]
  },
  {
   "cell_type": "code",
   "execution_count": 2,
   "metadata": {},
   "outputs": [
    {
     "name": "stdout",
     "output_type": "stream",
     "text": [
      "Hello\n",
      " this is new line\n"
     ]
    }
   ],
   "source": [
    "print(\"Hello\\n this is new line\")"
   ]
  },
  {
   "cell_type": "code",
   "execution_count": 2,
   "metadata": {},
   "outputs": [
    {
     "name": "stdout",
     "output_type": "stream",
     "text": [
      "Addition:  13\n",
      "Substraction:  -1\n",
      "Division:  0.8571428571428571\n",
      "Multiply:  42\n",
      "Floor Division:  0\n",
      "Remainder:  6\n",
      "Power:  279936\n"
     ]
    }
   ],
   "source": [
    "a = 6\n",
    "b = 7\n",
    "#Addition\n",
    "print(\"Addition: \",a+b)\n",
    "#Substraction\n",
    "print(\"Substraction: \",a-b)\n",
    "#Division\n",
    "print(\"Division: \",a/b)\n",
    "#Multiply\n",
    "print(\"Multiply: \",a*b)\n",
    "#Floor Division\n",
    "print(\"Floor Division: \",a//b)\n",
    "#Remainder\n",
    "print(\"Remainder: \",a%b)\n",
    "#Power\n",
    "print(\"Power: \",a**b)"
   ]
  },
  {
   "cell_type": "code",
   "execution_count": 5,
   "metadata": {},
   "outputs": [
    {
     "name": "stdout",
     "output_type": "stream",
     "text": [
      "10\n",
      "9\n"
     ]
    }
   ],
   "source": [
    "inc = 9\n",
    "inc +=1\n",
    "print(inc)\n",
    "inc -=1\n",
    "print(inc)"
   ]
  },
  {
   "cell_type": "code",
   "execution_count": 7,
   "metadata": {},
   "outputs": [
    {
     "name": "stdout",
     "output_type": "stream",
     "text": [
      "There is a space at the end  \n",
      "There is a space at the end\n"
     ]
    }
   ],
   "source": [
    "#rstrip() remove whitespace from right\n",
    "some_sentence = \"There is a space at the end  \"\n",
    "print(some_sentence)\n",
    "print(some_sentence.rstrip())"
   ]
  },
  {
   "cell_type": "code",
   "execution_count": 9,
   "metadata": {},
   "outputs": [
    {
     "name": "stdout",
     "output_type": "stream",
     "text": [
      "4\n"
     ]
    }
   ],
   "source": [
    "increment = '4%'\n",
    "print(increment.rstrip('%'))"
   ]
  },
  {
   "cell_type": "code",
   "execution_count": 11,
   "metadata": {},
   "outputs": [
    {
     "name": "stdout",
     "output_type": "stream",
     "text": [
      "   There is a space at the start  \n",
      "There is a space at the start  \n"
     ]
    }
   ],
   "source": [
    "#lstrip remove white space from left\n",
    "some_sentence = \"   There is a space at the start\"\n",
    "print(some_sentence)\n",
    "print(some_sentence.lstrip())"
   ]
  },
  {
   "cell_type": "code",
   "execution_count": 12,
   "metadata": {},
   "outputs": [
    {
     "name": "stdout",
     "output_type": "stream",
     "text": [
      "   There is a space at the start and end  \n",
      "There is a space at the start and end\n"
     ]
    }
   ],
   "source": [
    "#strip remove white space from both ends\n",
    "some_sentence = \"   There is a space at the start and end  \"\n",
    "print(some_sentence)\n",
    "print(some_sentence.strip())"
   ]
  },
  {
   "cell_type": "markdown",
   "metadata": {},
   "source": [
    "Indexing and Slicing"
   ]
  },
  {
   "cell_type": "code",
   "execution_count": 13,
   "metadata": {},
   "outputs": [
    {
     "name": "stdout",
     "output_type": "stream",
     "text": [
      "No of apple is :  2\n"
     ]
    }
   ],
   "source": [
    "val = \"2 apples\"\n",
    "\n",
    "no_of_apples = val[0]\n",
    "print(\"No of apple is : \",no_of_apples)"
   ]
  },
  {
   "cell_type": "code",
   "execution_count": 17,
   "metadata": {},
   "outputs": [
    {
     "name": "stdout",
     "output_type": "stream",
     "text": [
      "apples\n"
     ]
    }
   ],
   "source": [
    "what = val[2:]\n",
    "print(what)"
   ]
  },
  {
   "cell_type": "code",
   "execution_count": 21,
   "metadata": {},
   "outputs": [
    {
     "name": "stdout",
     "output_type": "stream",
     "text": [
      "app\n"
     ]
    }
   ],
   "source": [
    "#slicing by specifying start and end index\n",
    "print(val[2:5])"
   ]
  },
  {
   "cell_type": "code",
   "execution_count": 26,
   "metadata": {},
   "outputs": [
    {
     "name": "stdout",
     "output_type": "stream",
     "text": [
      "5 oranges\n"
     ]
    }
   ],
   "source": [
    "batch = \"5 oranges and 3 monkeys n\"\n",
    "fruits = batch[ :9]\n",
    "print(fruits)"
   ]
  },
  {
   "cell_type": "code",
   "execution_count": 28,
   "metadata": {},
   "outputs": [
    {
     "name": "stdout",
     "output_type": "stream",
     "text": [
      "s\n"
     ]
    }
   ],
   "source": [
    "#negative index starts from end\n",
    "batch = \"5 oranges and 3 monkeys\"\n",
    "fruits = batch[-2]\n",
    "print(fruits)"
   ]
  },
  {
   "cell_type": "code",
   "execution_count": 11,
   "metadata": {},
   "outputs": [
    {
     "name": "stdout",
     "output_type": "stream",
     "text": [
      "NRPN\n"
     ]
    }
   ],
   "source": [
    "nums = '123456789'\n",
    "name = 'RANA PRATAP MANDAL'\n",
    "even_nums = name[2::4]\n",
    "print(even_nums)"
   ]
  },
  {
   "cell_type": "code",
   "execution_count": 40,
   "metadata": {},
   "outputs": [
    {
     "name": "stdout",
     "output_type": "stream",
     "text": [
      "Data Analysis using Pandas\n"
     ]
    }
   ],
   "source": [
    "A=\"Data\"\n",
    "B=\"Analysis\"\n",
    "C=\"Pandas\"\n",
    "print(\"{0} {1} using {2}\".format(A,B,C))"
   ]
  },
  {
   "cell_type": "code",
   "execution_count": 45,
   "metadata": {},
   "outputs": [
    {
     "ename": "TypeError",
     "evalue": "unsupported operand type(s) for +: 'float' and 'str'",
     "output_type": "error",
     "traceback": [
      "\u001b[1;31m---------------------------------------------------------------------------\u001b[0m",
      "\u001b[1;31mTypeError\u001b[0m                                 Traceback (most recent call last)",
      "\u001b[1;32m<ipython-input-45-185b82a8c75f>\u001b[0m in \u001b[0;36m<module>\u001b[1;34m\u001b[0m\n\u001b[0;32m      4\u001b[0m \u001b[0mprice\u001b[0m\u001b[1;33m*\u001b[0m\u001b[0mtax\u001b[0m\u001b[1;33m\u001b[0m\u001b[1;33m\u001b[0m\u001b[0m\n\u001b[0;32m      5\u001b[0m \u001b[1;31m#print(price*tax)\u001b[0m\u001b[1;33m\u001b[0m\u001b[1;33m\u001b[0m\u001b[1;33m\u001b[0m\u001b[0m\n\u001b[1;32m----> 6\u001b[1;33m \u001b[0mval\u001b[0m \u001b[1;33m=\u001b[0m \u001b[0mprice\u001b[0m \u001b[1;33m+\u001b[0m \u001b[0m_\u001b[0m\u001b[1;33m\u001b[0m\u001b[1;33m\u001b[0m\u001b[0m\n\u001b[0m\u001b[0;32m      7\u001b[0m \u001b[0mprint\u001b[0m\u001b[1;33m(\u001b[0m\u001b[0mval\u001b[0m\u001b[1;33m)\u001b[0m\u001b[1;33m\u001b[0m\u001b[1;33m\u001b[0m\u001b[0m\n",
      "\u001b[1;31mTypeError\u001b[0m: unsupported operand type(s) for +: 'float' and 'str'"
     ]
    }
   ],
   "source": [
    "# the last printed expression will be assigned to the variable _\n",
    "tax = 12.5/100\n",
    "price = 100.5\n",
    "price*tax\n",
    "#print(price*tax)\n",
    "val = price + _\n",
    "print(val)"
   ]
  },
  {
   "cell_type": "code",
   "execution_count": 48,
   "metadata": {},
   "outputs": [
    {
     "name": "stdout",
     "output_type": "stream",
     "text": [
      "C:\\some\n",
      "ame\n",
      "C:\\some\\name\n"
     ]
    }
   ],
   "source": [
    "#If you don’t want characters prefaced by \\ to be \n",
    "#interpreted as special characters, you can use raw strings by adding an r before the first quote:\n",
    "print(\"C:\\some\\name\")\n",
    "print(r'C:\\some\\name') #Here r added before quote\n"
   ]
  },
  {
   "cell_type": "code",
   "execution_count": 63,
   "metadata": {},
   "outputs": [
    {
     "name": "stdout",
     "output_type": "stream",
     "text": [
      "\n"
     ]
    }
   ],
   "source": [
    "string = \"I love python programming\"\n",
    "print(string[-12:-18])"
   ]
  },
  {
   "cell_type": "code",
   "execution_count": 64,
   "metadata": {},
   "outputs": [
    {
     "name": "stdout",
     "output_type": "stream",
     "text": [
      "6\n"
     ]
    }
   ],
   "source": [
    "print(len('Python'))"
   ]
  },
  {
   "cell_type": "code",
   "execution_count": 65,
   "metadata": {},
   "outputs": [
    {
     "name": "stdout",
     "output_type": "stream",
     "text": [
      "[]\n"
     ]
    }
   ],
   "source": [
    "initial_list=[]\n",
    "print(initial_list)"
   ]
  },
  {
   "cell_type": "code",
   "execution_count": 80,
   "metadata": {},
   "outputs": [
    {
     "name": "stdout",
     "output_type": "stream",
     "text": [
      "['R', 'Python', 'SAS', 'Scala', 42]\n",
      "R\n",
      "['Python', 'SAS']\n",
      "['R', 'Python']\n",
      "42\n",
      "['SAS', 'Scala', 42]\n",
      "['R', 'Python']\n",
      "R\n",
      "['Python', 'SAS', 'Scala', 42]\n"
     ]
    }
   ],
   "source": [
    "#Python List\n",
    "DA_languages=[\"R\",\"Python\",\"SAS\",\"Scala\",42]\n",
    "print(DA_languages)\n",
    "print(DA_languages[0])\n",
    "print(DA_languages[1:3])\n",
    "print(DA_languages[0:2])\n",
    "print(DA_languages[-1])\n",
    "print(DA_languages[2:])\n",
    "print(DA_languages[:-3])\n",
    "\n",
    "print(DA_languages)"
   ]
  },
  {
   "cell_type": "code",
   "execution_count": 82,
   "metadata": {},
   "outputs": [
    {
     "name": "stdout",
     "output_type": "stream",
     "text": [
      "42\n",
      "['SAS', 'Scala']\n"
     ]
    }
   ],
   "source": [
    "print(DA_languages.pop()) #It will remove the last element first\n",
    "print(DA_languages)"
   ]
  },
  {
   "cell_type": "code",
   "execution_count": 84,
   "metadata": {},
   "outputs": [
    {
     "name": "stdout",
     "output_type": "stream",
     "text": [
      "SAS\n",
      "['Scala']\n"
     ]
    }
   ],
   "source": [
    "print(DA_languages.pop(0)) #Last in first out. pop(n) will remove the data from given n'th index\n",
    "print(DA_languages)"
   ]
  },
  {
   "cell_type": "code",
   "execution_count": 85,
   "metadata": {},
   "outputs": [
    {
     "name": "stdout",
     "output_type": "stream",
     "text": [
      "['Scala', 'R']\n"
     ]
    }
   ],
   "source": [
    "DA_languages.append('R') #append will add value in the list\n",
    "print(DA_languages)"
   ]
  },
  {
   "cell_type": "code",
   "execution_count": 94,
   "metadata": {},
   "outputs": [
    {
     "name": "stdout",
     "output_type": "stream",
     "text": [
      "Hi Saif, This is to inform you that I'm not well.\n"
     ]
    }
   ],
   "source": [
    "a_sentance = \"Hi Saif, This is to inform you that I'm not well.\"\n",
    "print(a_sentance)"
   ]
  },
  {
   "cell_type": "code",
   "execution_count": 95,
   "metadata": {},
   "outputs": [
    {
     "name": "stdout",
     "output_type": "stream",
     "text": [
      "['Hi', 'Saif,', 'This', 'is', 'to', 'inform', 'you', 'that', \"I'm\", 'not', 'well.']\n"
     ]
    }
   ],
   "source": [
    "words_in_mail = a_sentance.split()\n",
    "print(words_in_mail)"
   ]
  },
  {
   "cell_type": "code",
   "execution_count": 107,
   "metadata": {},
   "outputs": [
    {
     "name": "stdout",
     "output_type": "stream",
     "text": [
      "[\"Hi Saif, This is to inform you that I'm not well\", ' I wont be coming to office, but I will be available on call', ' Thanks']\n"
     ]
    }
   ],
   "source": [
    "b_sentance = \"Hi Saif, This is to inform you that I'm not well. I wont be coming to office, but I will be available on call. Thanks\"\n",
    "words_in_mail2 = b_sentance.split(\".\")\n",
    "print(words_in_mail2)"
   ]
  },
  {
   "cell_type": "code",
   "execution_count": 109,
   "metadata": {},
   "outputs": [
    {
     "name": "stdout",
     "output_type": "stream",
     "text": [
      "Hi Saif, This is to inform you that I'm not well.\n",
      "Hi Saif, This is to inform you that I'm not well. I wont be coming to office, but I will be available on call. Thanks\n"
     ]
    }
   ],
   "source": [
    "mail = \" \".join(words_in_mail)\n",
    "print(mail)\n",
    "mail2 = \".\".join(words_in_mail2)\n",
    "print(mail2)"
   ]
  },
  {
   "cell_type": "code",
   "execution_count": 110,
   "metadata": {},
   "outputs": [
    {
     "name": "stdout",
     "output_type": "stream",
     "text": [
      "9\n"
     ]
    }
   ],
   "source": [
    "nums=[7,3,9,4,5,2,1,8,6]\n",
    "print(len(nums))"
   ]
  },
  {
   "cell_type": "code",
   "execution_count": 112,
   "metadata": {},
   "outputs": [
    {
     "name": "stdout",
     "output_type": "stream",
     "text": [
      "[1, 2, 3, 4, 5, 6, 7, 8, 9]\n"
     ]
    }
   ],
   "source": [
    "print(sorted(nums))"
   ]
  },
  {
   "cell_type": "code",
   "execution_count": 113,
   "metadata": {},
   "outputs": [
    {
     "name": "stdout",
     "output_type": "stream",
     "text": [
      "1\n"
     ]
    }
   ],
   "source": [
    "print(min(nums))"
   ]
  },
  {
   "cell_type": "code",
   "execution_count": 114,
   "metadata": {},
   "outputs": [
    {
     "name": "stdout",
     "output_type": "stream",
     "text": [
      "9\n"
     ]
    }
   ],
   "source": [
    "print(max(nums))"
   ]
  },
  {
   "cell_type": "code",
   "execution_count": 119,
   "metadata": {},
   "outputs": [
    {
     "name": "stdout",
     "output_type": "stream",
     "text": [
      "[[1, 2, 3, 4], [5, 6, 7], [8, 9, 10]]\n",
      "[5, 6, 7]\n"
     ]
    }
   ],
   "source": [
    "nest=[[1,2,3,4],[5,6,7],[8,9,10]]\n",
    "print(nest)\n",
    "print(nest[1])"
   ]
  },
  {
   "cell_type": "code",
   "execution_count": 120,
   "metadata": {},
   "outputs": [
    {
     "name": "stdout",
     "output_type": "stream",
     "text": [
      "[[1, 2, 3, 4], [5, 6, 7]]\n"
     ]
    }
   ],
   "source": [
    "print(nest[0:2])"
   ]
  },
  {
   "cell_type": "code",
   "execution_count": 117,
   "metadata": {},
   "outputs": [
    {
     "name": "stdout",
     "output_type": "stream",
     "text": [
      "2\n"
     ]
    }
   ],
   "source": [
    "print(nest[0][1])"
   ]
  },
  {
   "cell_type": "code",
   "execution_count": 121,
   "metadata": {},
   "outputs": [
    {
     "name": "stdout",
     "output_type": "stream",
     "text": [
      "[2, 3]\n"
     ]
    }
   ],
   "source": [
    "print(nest[0][1:3])"
   ]
  },
  {
   "cell_type": "code",
   "execution_count": 129,
   "metadata": {},
   "outputs": [
    {
     "name": "stdout",
     "output_type": "stream",
     "text": [
      "[]\n"
     ]
    }
   ],
   "source": [
    "word = ['1','2','3','4']\n",
    "word[:] = [ ]\n",
    "print(word)"
   ]
  },
  {
   "cell_type": "code",
   "execution_count": 138,
   "metadata": {},
   "outputs": [
    {
     "name": "stdout",
     "output_type": "stream",
     "text": [
      "(1, 2, 3)\n",
      "3\n",
      "[1, 2, 3]\n",
      "[1, 2, 3, 4]\n",
      "(1, 2, 3, 4)\n"
     ]
    }
   ],
   "source": [
    "first_tuple=(1,2,3)\n",
    "print(first_tuple)\n",
    "print(first_tuple[2])\n",
    "convert_list=list(first_tuple)\n",
    "print(convert_list)\n",
    "convert_list.append(4)\n",
    "print(convert_list)\n",
    "first_tuple = tuple(convert_list)\n",
    "print(first_tuple)"
   ]
  },
  {
   "cell_type": "markdown",
   "metadata": {},
   "source": [
    "Dictionary"
   ]
  },
  {
   "cell_type": "code",
   "execution_count": 2,
   "metadata": {},
   "outputs": [
    {
     "name": "stdout",
     "output_type": "stream",
     "text": [
      "Apple\n",
      "Apple\n",
      "TCS\n",
      "Keys Are :  dict_keys(['Jack Dorsey', 'Tim Cook', 'Jeff Bezos', 'Mukesh Ambani', 'Ratan Tata'])\n",
      "Values are :  dict_values(['Twitter', 'Apple', 'Amazon', 'RJIO', 'TCS'])\n",
      "List of keys :  ['Jack Dorsey', 'Tim Cook', 'Jeff Bezos', 'Mukesh Ambani', 'Ratan Tata']\n",
      "List of values :  ['Twitter', 'Apple', 'Amazon', 'RJIO', 'TCS']\n",
      "{'Jack Dorsey': 'Twitter', 'Tim Cook': 'Apple', 'Jeff Bezos': 'Amazon', 'Ratan Tata': 'TCS'}\n"
     ]
    }
   ],
   "source": [
    "my_dict = {'Jack Dorsey': 'Twitter', 'Tim Cook': 'Apple','Jeff Bezos': 'Amazon','Mukesh Ambani': 'RJIO'}\n",
    "print(my_dict['Tim Cook'])\n",
    "print(my_dict.get('Tim Cook'))\n",
    "my_dict['Ratan Tata'] = 'TCS'\n",
    "print(my_dict.get('Ratan Tata'))\n",
    "print(\"Keys Are : \",my_dict.keys())\n",
    "print(\"Values are : \" , my_dict.values())\n",
    "print(\"List of keys : \",list(my_dict.keys()))\n",
    "print(\"List of values : \",list(my_dict.values()))\n",
    "del my_dict['Mukesh Ambani']\n",
    "print(my_dict)\n",
    "#new_dict = dict(Country ='Jamaica',Songs=['One Love','Misty Morning'])\n",
    "#print(new_dict)"
   ]
  },
  {
   "cell_type": "markdown",
   "metadata": {},
   "source": [
    "SETS : Unordered collection of unique collection"
   ]
  },
  {
   "cell_type": "code",
   "execution_count": 4,
   "metadata": {},
   "outputs": [
    {
     "name": "stdout",
     "output_type": "stream",
     "text": [
      "{'N', 'B', 'E', 'C', 'A'}\n",
      "<class 'set'>\n"
     ]
    }
   ],
   "source": [
    "student_list = ['A','A','B','C','C','E','N'] #this is a list\n",
    "student_set = set(student_list)\n",
    "print(student_set)\n",
    "print(type(student_set))"
   ]
  },
  {
   "cell_type": "code",
   "execution_count": 5,
   "metadata": {},
   "outputs": [
    {
     "name": "stdout",
     "output_type": "stream",
     "text": [
      "{'G', 'A', 'N', 'F'}\n"
     ]
    }
   ],
   "source": [
    "student_list2 = ['A','N','F','N','G','A'] #this is a list\n",
    "student_set2 = set(student_list2)\n",
    "print(student_set2)"
   ]
  },
  {
   "cell_type": "code",
   "execution_count": 6,
   "metadata": {},
   "outputs": [
    {
     "name": "stdout",
     "output_type": "stream",
     "text": [
      "{'A', 'N'}\n"
     ]
    }
   ],
   "source": [
    "print(student_set.intersection(student_set2))"
   ]
  },
  {
   "cell_type": "code",
   "execution_count": 7,
   "metadata": {},
   "outputs": [
    {
     "name": "stdout",
     "output_type": "stream",
     "text": [
      "{'G', 'N', 'B', 'F', 'E', 'C', 'A'}\n"
     ]
    }
   ],
   "source": [
    "print(student_set.union(student_set2))"
   ]
  },
  {
   "cell_type": "code",
   "execution_count": 8,
   "metadata": {},
   "outputs": [
    {
     "name": "stdout",
     "output_type": "stream",
     "text": [
      "{'E', 'C', 'B'}\n"
     ]
    }
   ],
   "source": [
    "print(student_set.difference(student_set2))"
   ]
  },
  {
   "cell_type": "code",
   "execution_count": 3,
   "metadata": {},
   "outputs": [
    {
     "name": "stdout",
     "output_type": "stream",
     "text": [
      "8\n",
      "{'3', '5', '1', '4', '6', '7', '2', '8'}\n",
      "{'3', '5', '1', '6', '7', '9', '8'}\n",
      "{'9', '4', '2'}\n"
     ]
    }
   ],
   "source": [
    "A=set(['1','2','3','4','5','6','7','8'])\n",
    "print(len(A))\n",
    "B=set(['1','3','5','6','7','8','9'])\n",
    "print(A)\n",
    "print(B)\n",
    "ans_1 = A.difference(B)\n",
    "#ans_2 = B.difference(A)\n",
    "print(ans_1.union(B.difference(A)))\n"
   ]
  },
  {
   "cell_type": "code",
   "execution_count": 2,
   "metadata": {},
   "outputs": [
    {
     "name": "stdout",
     "output_type": "stream",
     "text": [
      "['Kumar', 'Ravi', '003']\n"
     ]
    }
   ],
   "source": [
    "str_1 = \"Kumar_Ravi_003\"\n",
    "list = str_1.split(\"_\")\n",
    "print(list)\n"
   ]
  }
 ],
 "metadata": {
  "kernelspec": {
   "display_name": "Python 3",
   "language": "python",
   "name": "python3"
  },
  "language_info": {
   "codemirror_mode": {
    "name": "ipython",
    "version": 3
   },
   "file_extension": ".py",
   "mimetype": "text/x-python",
   "name": "python",
   "nbconvert_exporter": "python",
   "pygments_lexer": "ipython3",
   "version": "3.7.4"
  }
 },
 "nbformat": 4,
 "nbformat_minor": 2
}
