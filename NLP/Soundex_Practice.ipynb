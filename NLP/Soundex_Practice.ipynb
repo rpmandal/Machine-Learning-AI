{
 "cells": [
  {
   "cell_type": "code",
   "execution_count": 34,
   "metadata": {},
   "outputs": [],
   "source": [
    "def get_soundex(token):\n",
    "    token = token.upper()\n",
    "    soundex=\"\"\n",
    "    soundex += token[0]\n",
    "    alphabets_dict = {\"BFPV\": \"1\", \"CGJKQSXZ\":\"2\", \"DT\":\"3\", \"L\":\"4\", \"MN\":\"5\", \"R\":\"6\", \"AEIOUHWY\":\".\"}\n",
    "    for char in token[1:]:\n",
    "        for key in alphabets_dict:\n",
    "            if char in key:\n",
    "                code = alphabets_dict[key]\n",
    "                soundex+=code\n",
    "    #print(\"first : \",soundex)\n",
    "    soundex = soundex.replace(\".\",\"\")\n",
    "    #print(\"second : \",soundex)\n",
    "    \n",
    "    soundex = soundex[:4].ljust(4,\"0\")\n",
    "    return soundex"
   ]
  },
  {
   "cell_type": "code",
   "execution_count": 38,
   "metadata": {},
   "outputs": [
    {
     "name": "stdout",
     "output_type": "stream",
     "text": [
      "M510\n"
     ]
    }
   ],
   "source": [
    "result = get_soundex(\"Mumbai\")\n",
    "print(result)"
   ]
  },
  {
   "cell_type": "code",
   "execution_count": 37,
   "metadata": {},
   "outputs": [
    {
     "name": "stdout",
     "output_type": "stream",
     "text": [
      "B510\n"
     ]
    }
   ],
   "source": [
    "result = get_soundex(\"Bombai\")\n",
    "print(result)"
   ]
  },
  {
   "cell_type": "code",
   "execution_count": null,
   "metadata": {},
   "outputs": [],
   "source": []
  }
 ],
 "metadata": {
  "kernelspec": {
   "display_name": "Python 3",
   "language": "python",
   "name": "python3"
  },
  "language_info": {
   "codemirror_mode": {
    "name": "ipython",
    "version": 3
   },
   "file_extension": ".py",
   "mimetype": "text/x-python",
   "name": "python",
   "nbconvert_exporter": "python",
   "pygments_lexer": "ipython3",
   "version": "3.6.8"
  }
 },
 "nbformat": 4,
 "nbformat_minor": 2
}
